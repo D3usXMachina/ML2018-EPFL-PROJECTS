{
 "cells": [
  {
   "cell_type": "code",
   "execution_count": 1,
   "metadata": {},
   "outputs": [],
   "source": [
    "# Useful starting lines\n",
    "%matplotlib inline\n",
    "import numpy as np\n",
    "import matplotlib.pyplot as plt\n",
    "from implementations import *\n",
    "from proj1_helpers import *\n",
    "%load_ext autoreload\n",
    "%autoreload 2\n"
   ]
  },
  {
   "cell_type": "code",
   "execution_count": 2,
   "metadata": {},
   "outputs": [],
   "source": [
    "import matplotlib.pyplot as plt"
   ]
  },
  {
   "cell_type": "code",
   "execution_count": 3,
   "metadata": {},
   "outputs": [],
   "source": [
    "path_tr = \"../data/train.csv\"\n",
    "yb_tr, data_tr, ids_tr = load_csv_data(path_tr,False)"
   ]
  },
  {
   "cell_type": "code",
   "execution_count": 4,
   "metadata": {},
   "outputs": [],
   "source": [
    "yb_tr = column_array(yb_tr)"
   ]
  },
  {
   "cell_type": "markdown",
   "metadata": {},
   "source": [
    "**Cross-Validation**"
   ]
  },
  {
   "cell_type": "code",
   "execution_count": 5,
   "metadata": {},
   "outputs": [],
   "source": [
    "nparts = 4\n",
    "ys, txs, inds, boolind = eq_split_data(yb_tr, data_tr,nparts)"
   ]
  },
  {
   "cell_type": "code",
   "execution_count": 41,
   "metadata": {
    "scrolled": true
   },
   "outputs": [],
   "source": [
    "degrees = np.array([4,5,6,7,8])\n",
    "lambdas = np.power(10,np.linspace(-5,2,8))\n",
    "#lambdas = np.append(lambdas,np.linspace(0,1,11)[1:])\n",
    "#lambdas = np.append(lambdas,np.linspace(0,100,11)[1:])"
   ]
  },
  {
   "cell_type": "code",
   "execution_count": 42,
   "metadata": {},
   "outputs": [
    {
     "name": "stdout",
     "output_type": "stream",
     "text": [
      "[1.e-05 1.e-04 1.e-03 1.e-02 1.e-01 1.e+00 1.e+01 1.e+02]\n"
     ]
    }
   ],
   "source": [
    "print(lambdas)"
   ]
  },
  {
   "cell_type": "code",
   "execution_count": 55,
   "metadata": {},
   "outputs": [],
   "source": [
    "max_iters = 1000\n",
    "gamma = 0.2\n",
    "batch_size = 10\n",
    "eps = 1e-1\n",
    "mode = \"log\""
   ]
  },
  {
   "cell_type": "code",
   "execution_count": 56,
   "metadata": {},
   "outputs": [],
   "source": [
    "losses_tr = np.zeros([len(degrees),len(lambdas),nparts])\n",
    "losses_te = np.zeros([len(degrees),len(lambdas),nparts])"
   ]
  },
  {
   "cell_type": "code",
   "execution_count": 58,
   "metadata": {},
   "outputs": [
    {
     "name": "stdout",
     "output_type": "stream",
     "text": [
      "0 0 0\n",
      "0 0 1\n",
      "0 0 2\n",
      "0 0 3\n",
      "0 1 0\n",
      "0 1 1\n",
      "0 1 2\n",
      "0 1 3\n",
      "0 2 0\n",
      "0 2 1\n",
      "0 2 2\n",
      "0 2 3\n",
      "0 3 0\n",
      "0 3 1\n",
      "0 3 2\n",
      "0 3 3\n",
      "0 4 0\n",
      "0 4 1\n",
      "0 4 2\n",
      "0 4 3\n",
      "0 5 0\n",
      "0 5 1\n",
      "0 5 2\n",
      "0 5 3\n",
      "0 6 0\n",
      "0 6 1\n",
      "0 6 2\n",
      "0 6 3\n",
      "0 7 0\n"
     ]
    },
    {
     "name": "stderr",
     "output_type": "stream",
     "text": [
      "/media/joel/Data/EPFL/PH-M/M3/ml/projects/project1/scripts/implementations.py:605: RuntimeWarning: invalid value encountered in true_divide\n",
      "  sigma = np.divide(x,1+x)\n",
      "/media/joel/Data/EPFL/PH-M/M3/ml/projects/project1/scripts/implementations.py:562: RuntimeWarning: overflow encountered in multiply\n",
      "  a = lambda_*w\n",
      "/home/joel/anaconda3/lib/python3.6/site-packages/numpy/core/_methods.py:32: RuntimeWarning: overflow encountered in reduce\n",
      "  return umr_sum(a, axis, dtype, out, keepdims)\n",
      "/media/joel/Data/EPFL/PH-M/M3/ml/projects/project1/scripts/implementations.py:478: RuntimeWarning: invalid value encountered in subtract\n",
      "  w = w -gamma*grad\n",
      "/media/joel/Data/EPFL/PH-M/M3/ml/projects/project1/scripts/implementations.py:599: RuntimeWarning: invalid value encountered in greater\n",
      "  large = x>lim\n",
      "/media/joel/Data/EPFL/PH-M/M3/ml/projects/project1/scripts/implementations.py:600: RuntimeWarning: invalid value encountered in less\n",
      "  small = x<-lim\n",
      "/media/joel/Data/EPFL/PH-M/M3/ml/projects/project1/scripts/implementations.py:1030: RuntimeWarning: invalid value encountered in less\n",
      "  y = np.where(tx.dot(w)<0,-1,1)\n"
     ]
    },
    {
     "name": "stdout",
     "output_type": "stream",
     "text": [
      "0 7 1\n",
      "0 7 2\n",
      "0 7 3\n",
      "1 0 0\n",
      "1 0 1\n",
      "1 0 2\n",
      "1 0 3\n",
      "1 1 0\n",
      "1 1 1\n",
      "1 1 2\n",
      "1 1 3\n",
      "1 2 0\n",
      "1 2 1\n",
      "1 2 2\n",
      "1 2 3\n",
      "1 3 0\n",
      "1 3 1\n",
      "1 3 2\n",
      "1 3 3\n",
      "1 4 0\n",
      "1 4 1\n",
      "1 4 2\n",
      "1 4 3\n",
      "1 5 0\n",
      "1 5 1\n",
      "1 5 2\n",
      "1 5 3\n",
      "1 6 0\n",
      "1 6 1\n",
      "1 6 2\n",
      "1 6 3\n",
      "1 7 0\n",
      "1 7 1\n",
      "1 7 2\n",
      "1 7 3\n",
      "2 0 0\n",
      "2 0 1\n",
      "2 0 2\n",
      "2 0 3\n",
      "2 1 0\n",
      "2 1 1\n",
      "2 1 2\n",
      "2 1 3\n",
      "2 2 0\n",
      "2 2 1\n",
      "2 2 2\n",
      "2 2 3\n",
      "2 3 0\n",
      "2 3 1\n",
      "2 3 2\n",
      "2 3 3\n",
      "2 4 0\n",
      "2 4 1\n",
      "2 4 2\n",
      "2 4 3\n",
      "2 5 0\n",
      "2 5 1\n",
      "2 5 2\n",
      "2 5 3\n",
      "2 6 0\n",
      "2 6 1\n",
      "2 6 2\n",
      "2 6 3\n",
      "2 7 0\n",
      "2 7 1\n",
      "2 7 2\n",
      "2 7 3\n",
      "3 0 0\n",
      "3 0 1\n",
      "3 0 2\n",
      "3 0 3\n",
      "3 1 0\n",
      "3 1 1\n",
      "3 1 2\n",
      "3 1 3\n",
      "3 2 0\n",
      "3 2 1\n",
      "3 2 2\n",
      "3 2 3\n",
      "3 3 0\n",
      "3 3 1\n",
      "3 3 2\n",
      "3 3 3\n",
      "3 4 0\n",
      "3 4 1\n",
      "3 4 2\n",
      "3 4 3\n",
      "3 5 0\n",
      "3 5 1\n",
      "3 5 2\n",
      "3 5 3\n",
      "3 6 0\n",
      "3 6 1\n",
      "3 6 2\n",
      "3 6 3\n",
      "3 7 0\n",
      "3 7 1\n",
      "3 7 2\n",
      "3 7 3\n",
      "4 0 0\n",
      "4 0 1\n",
      "4 0 2\n",
      "4 0 3\n",
      "4 1 0\n",
      "4 1 1\n",
      "4 1 2\n",
      "4 1 3\n",
      "4 2 0\n",
      "4 2 1\n",
      "4 2 2\n",
      "4 2 3\n",
      "4 3 0\n",
      "4 3 1\n",
      "4 3 2\n",
      "4 3 3\n",
      "4 4 0\n",
      "4 4 1\n",
      "4 4 2\n",
      "4 4 3\n",
      "4 5 0\n",
      "4 5 1\n",
      "4 5 2\n",
      "4 5 3\n",
      "4 6 0\n",
      "4 6 1\n",
      "4 6 2\n",
      "4 6 3\n",
      "4 7 0\n",
      "4 7 1\n",
      "4 7 2\n",
      "4 7 3\n"
     ]
    }
   ],
   "source": [
    "for ideg, deg in enumerate(degrees):\n",
    "    for ilam, lambda_ in enumerate(lambdas):\n",
    "        for part in range(nparts):\n",
    "            print(ideg,ilam,part)\n",
    "            # chose parts\n",
    "            y_tr = yb_tr[boolind[:,part]]\n",
    "            x_tr = data_tr[boolind[:,part],:]\n",
    "            y_te = yb_tr[np.logical_not(boolind[:,part])]\n",
    "            x_te = data_tr[np.logical_not(boolind[:,part]),:]\n",
    "            # preprocess parts\n",
    "            tx_tr, mean, std = standardize(x_tr)\n",
    "            tx_te, mean, std = standardize(x_te,mean,std)\n",
    "            tx_tr = poly_expansion(tx_tr,deg,True,True)\n",
    "            tx_te = poly_expansion(tx_te,deg,True,True)\n",
    "            initial_w = np.ones([tx_tr.shape[1],1])/tx_tr.shape[1]\n",
    "            # compute w and loss\n",
    "            w,loss = my_stoch_logistic_regression(y_tr,tx_tr,initial_w,max_iters,gamma,batch_size,mode,lambda_,eps)\n",
    "            losses_tr[ideg,ilam,part] = compute_loss(y_tr,tx_tr,w, mode='log')\n",
    "            losses_te[ideg,ilam,part] = compute_loss(y_te,tx_te,w, mode='log')"
   ]
  },
  {
   "cell_type": "code",
   "execution_count": 59,
   "metadata": {},
   "outputs": [],
   "source": [
    "loss_tr = np.mean(losses_tr,axis=2)\n",
    "loss_te = np.mean(losses_te,axis=2)"
   ]
  },
  {
   "cell_type": "code",
   "execution_count": 60,
   "metadata": {
    "scrolled": true
   },
   "outputs": [
    {
     "name": "stdout",
     "output_type": "stream",
     "text": [
      "[[0.336416 0.33642  0.33628  0.33664  0.339948 0.342336 0.657332 0.657332]\n",
      " [0.388392 0.388464 0.388208 0.388104 0.394064 0.39036  0.525476 0.657332]\n",
      " [0.351028 0.350984 0.35052  0.34306  0.356724 0.377376 0.657332 0.657332]\n",
      " [0.457828 0.457308 0.457404 0.456256 0.455152 0.455752 0.488608 0.657332]\n",
      " [0.384312 0.384072 0.383708 0.37796  0.393856 0.347584 0.657332 0.657332]]\n",
      "[[0.33653333 0.33653333 0.33632267 0.336492   0.339268   0.34160667\n",
      "  0.657332   0.657332  ]\n",
      " [0.38889333 0.38892    0.388504   0.38837067 0.39391333 0.38999733\n",
      "  0.52609067 0.657332  ]\n",
      " [0.35016133 0.35012267 0.34978667 0.34181867 0.355924   0.37661867\n",
      "  0.657332   0.657332  ]\n",
      " [0.45708933 0.45669333 0.45660933 0.455932   0.455052   0.45465067\n",
      "  0.48823733 0.657332  ]\n",
      " [0.38399867 0.38378    0.38351333 0.377464   0.393032   0.345504\n",
      "  0.657332   0.657332  ]]\n"
     ]
    }
   ],
   "source": [
    "print(loss_tr)\n",
    "print(loss_te)"
   ]
  },
  {
   "cell_type": "code",
   "execution_count": 61,
   "metadata": {},
   "outputs": [],
   "source": [
    "from plots import *"
   ]
  },
  {
   "cell_type": "code",
   "execution_count": 62,
   "metadata": {},
   "outputs": [
    {
     "name": "stdout",
     "output_type": "stream",
     "text": [
      "Degree =  4\n",
      "Degree =  5\n",
      "Degree =  6\n",
      "Degree =  7\n",
      "Degree =  8\n"
     ]
    },
    {
     "data": {
      "image/png": "[encoded data removed]",
      "text/plain": [
       "<Figure size 432x288 with 1 Axes>"
      ]
     },
     "metadata": {},
     "output_type": "display_data"
    }
   ],
   "source": [
    "for ideg, deg in enumerate(degrees):\n",
    "    print(\"Degree = \",deg)\n",
    "    cross_validation_visualization(lambdas, loss_tr[ideg,:], loss_te[ideg,:],\"d= \" +str(deg),([0, 0,ideg/(len(degrees)-1)]),([0, 0.5,ideg/(len(degrees)-1)]))"
   ]
  },
  {
   "cell_type": "markdown",
   "metadata": {},
   "source": [
    "**Bias-Variance-Decomposition**"
   ]
  },
  {
   "cell_type": "code",
   "execution_count": 63,
   "metadata": {},
   "outputs": [
    {
     "name": "stdout",
     "output_type": "stream",
     "text": [
      "50\n"
     ]
    }
   ],
   "source": [
    "degrees = np.array([1,2,3,4,5,6,7,8])\n",
    "max_iters = 1000\n",
    "gamma = 0.2\n",
    "batch_size = 10\n",
    "eps = 1e-1\n",
    "mode = \"log\"\n",
    "seeds = np.linspace(1,50)\n",
    "nparts = len(seeds)\n",
    "ratio = 0.25\n",
    "lambda_ = 0\n",
    "print(nparts)"
   ]
  },
  {
   "cell_type": "code",
   "execution_count": 64,
   "metadata": {},
   "outputs": [],
   "source": [
    "bvd_tr = np.zeros([len(degrees),nparts])\n",
    "bvd_te = np.zeros([len(degrees),nparts])"
   ]
  },
  {
   "cell_type": "code",
   "execution_count": 67,
   "metadata": {},
   "outputs": [
    {
     "name": "stdout",
     "output_type": "stream",
     "text": [
      "0 0\n"
     ]
    },
    {
     "ename": "TypeError",
     "evalue": "Cannot cast array from dtype('float64') to dtype('int64') according to the rule 'safe'",
     "output_type": "error",
     "traceback": [
      "\u001b[0;31m---------------------------------------------------------------------------\u001b[0m",
      "\u001b[0;31mTypeError\u001b[0m                                 Traceback (most recent call last)",
      "\u001b[0;32mmtrand.pyx\u001b[0m in \u001b[0;36mmtrand.RandomState.seed\u001b[0;34m()\u001b[0m\n",
      "\u001b[0;31mTypeError\u001b[0m: 'numpy.float64' object cannot be interpreted as an integer",
      "\nDuring handling of the above exception, another exception occurred:\n",
      "\u001b[0;31mTypeError\u001b[0m                                 Traceback (most recent call last)",
      "\u001b[0;32m<ipython-input-67-0263344dcae5>\u001b[0m in \u001b[0;36m<module>\u001b[0;34m()\u001b[0m\n\u001b[1;32m      3\u001b[0m         \u001b[0mprint\u001b[0m\u001b[0;34m(\u001b[0m\u001b[0mideg\u001b[0m\u001b[0;34m,\u001b[0m\u001b[0mised\u001b[0m\u001b[0;34m)\u001b[0m\u001b[0;34m\u001b[0m\u001b[0m\n\u001b[1;32m      4\u001b[0m         \u001b[0;31m# chose parts\u001b[0m\u001b[0;34m\u001b[0m\u001b[0;34m\u001b[0m\u001b[0m\n\u001b[0;32m----> 5\u001b[0;31m         \u001b[0my_tr\u001b[0m\u001b[0;34m,\u001b[0m\u001b[0mx_tr\u001b[0m\u001b[0;34m,\u001b[0m\u001b[0my_te\u001b[0m\u001b[0;34m,\u001b[0m\u001b[0mx_te\u001b[0m \u001b[0;34m=\u001b[0m \u001b[0msplit_data\u001b[0m\u001b[0;34m(\u001b[0m\u001b[0myb_tr\u001b[0m\u001b[0;34m,\u001b[0m \u001b[0mdata_tr\u001b[0m\u001b[0;34m,\u001b[0m \u001b[0mratio\u001b[0m\u001b[0;34m,\u001b[0m \u001b[0mseed\u001b[0m\u001b[0;34m)\u001b[0m\u001b[0;34m\u001b[0m\u001b[0m\n\u001b[0m\u001b[1;32m      6\u001b[0m         \u001b[0;31m# preprocess parts\u001b[0m\u001b[0;34m\u001b[0m\u001b[0;34m\u001b[0m\u001b[0m\n\u001b[1;32m      7\u001b[0m         \u001b[0mtx_tr\u001b[0m\u001b[0;34m,\u001b[0m \u001b[0mmean\u001b[0m\u001b[0;34m,\u001b[0m \u001b[0mstd\u001b[0m \u001b[0;34m=\u001b[0m \u001b[0mstandardize\u001b[0m\u001b[0;34m(\u001b[0m\u001b[0mx_tr\u001b[0m\u001b[0;34m)\u001b[0m\u001b[0;34m\u001b[0m\u001b[0m\n",
      "\u001b[0;32m/media/joel/Data/EPFL/PH-M/M3/ml/projects/project1/scripts/implementations.py\u001b[0m in \u001b[0;36msplit_data\u001b[0;34m(y, tx, ratio, seed)\u001b[0m\n\u001b[1;32m    785\u001b[0m     \u001b[0;34m-\u001b[0m\u001b[0;34m-\u001b[0m\u001b[0;34m-\u001b[0m\u001b[0;34m-\u001b[0m\u001b[0;34m-\u001b[0m\u001b[0;34m-\u001b[0m\u001b[0;34m-\u001b[0m\u001b[0;34m-\u001b[0m\u001b[0;34m-\u001b[0m\u001b[0;34m-\u001b[0m\u001b[0;34m-\u001b[0m\u001b[0;34m-\u001b[0m\u001b[0;34m-\u001b[0m\u001b[0;34m-\u001b[0m\u001b[0;34m-\u001b[0m\u001b[0;34m-\u001b[0m\u001b[0;34m-\u001b[0m\u001b[0;34m-\u001b[0m\u001b[0;34m-\u001b[0m\u001b[0;34m-\u001b[0m\u001b[0;34m-\u001b[0m\u001b[0;34m-\u001b[0m\u001b[0;34m-\u001b[0m\u001b[0;34m-\u001b[0m\u001b[0;34m-\u001b[0m\u001b[0;34m-\u001b[0m\u001b[0;34m-\u001b[0m\u001b[0;34m-\u001b[0m\u001b[0;34m-\u001b[0m\u001b[0;34m-\u001b[0m\u001b[0;34m-\u001b[0m\u001b[0;34m-\u001b[0m\u001b[0;34m-\u001b[0m\u001b[0;34m-\u001b[0m\u001b[0;34m-\u001b[0m\u001b[0;34m-\u001b[0m\u001b[0;34m-\u001b[0m\u001b[0;34m-\u001b[0m\u001b[0;34m-\u001b[0m\u001b[0;34m-\u001b[0m\u001b[0;34m-\u001b[0m\u001b[0;34m-\u001b[0m\u001b[0;34m-\u001b[0m\u001b[0;34m-\u001b[0m\u001b[0;34m-\u001b[0m\u001b[0;34m-\u001b[0m\u001b[0;34m-\u001b[0m\u001b[0;34m-\u001b[0m\u001b[0;34m-\u001b[0m\u001b[0;34m-\u001b[0m\u001b[0;34m-\u001b[0m\u001b[0;34m-\u001b[0m\u001b[0;34m-\u001b[0m\u001b[0;34m-\u001b[0m\u001b[0;34m-\u001b[0m\u001b[0;34m-\u001b[0m\u001b[0;34m-\u001b[0m\u001b[0;34m-\u001b[0m\u001b[0;34m-\u001b[0m\u001b[0;34m-\u001b[0m\u001b[0;34m-\u001b[0m\u001b[0;34m-\u001b[0m\u001b[0;34m-\u001b[0m\u001b[0;34m-\u001b[0m\u001b[0;34m-\u001b[0m\u001b[0;34m-\u001b[0m\u001b[0;34m-\u001b[0m\u001b[0;34m-\u001b[0m\u001b[0;34m-\u001b[0m\u001b[0;34m-\u001b[0m\u001b[0;34m-\u001b[0m\u001b[0;34m-\u001b[0m\u001b[0;34m-\u001b[0m\u001b[0;34m-\u001b[0m\u001b[0;34m-\u001b[0m\u001b[0;34m-\u001b[0m\u001b[0;34m\u001b[0m\u001b[0m\n\u001b[1;32m    786\u001b[0m     \"\"\"\n\u001b[0;32m--> 787\u001b[0;31m     \u001b[0mnp\u001b[0m\u001b[0;34m.\u001b[0m\u001b[0mrandom\u001b[0m\u001b[0;34m.\u001b[0m\u001b[0mseed\u001b[0m\u001b[0;34m(\u001b[0m\u001b[0mseed\u001b[0m\u001b[0;34m)\u001b[0m\u001b[0;34m\u001b[0m\u001b[0m\n\u001b[0m\u001b[1;32m    788\u001b[0m \u001b[0;34m\u001b[0m\u001b[0m\n\u001b[1;32m    789\u001b[0m     \u001b[0mnsamples\u001b[0m \u001b[0;34m=\u001b[0m \u001b[0mtx\u001b[0m\u001b[0;34m.\u001b[0m\u001b[0mshape\u001b[0m\u001b[0;34m[\u001b[0m\u001b[0;36m0\u001b[0m\u001b[0;34m]\u001b[0m\u001b[0;34m\u001b[0m\u001b[0m\n",
      "\u001b[0;32mmtrand.pyx\u001b[0m in \u001b[0;36mmtrand.RandomState.seed\u001b[0;34m()\u001b[0m\n",
      "\u001b[0;31mTypeError\u001b[0m: Cannot cast array from dtype('float64') to dtype('int64') according to the rule 'safe'"
     ]
    }
   ],
   "source": [
    "for ideg, deg in enumerate(degrees):\n",
    "    for ised, seed in enumerate(seeds):\n",
    "        print(ideg,ised)\n",
    "        # chose parts\n",
    "        y_tr,x_tr,y_te,x_te = split_data(yb_tr, data_tr, ratio, seed)\n",
    "        # preprocess parts\n",
    "        tx_tr, mean, std = standardize(x_tr)\n",
    "        tx_te, mean, std = standardize(x_te,mean,std)\n",
    "        tx_tr = poly_expansion(tx_tr,deg,True,True)\n",
    "        tx_te = poly_expansion(tx_te,deg,True,True)\n",
    "        # compute w and loss\n",
    "        w,loss = my_stoch_logistic_regression(y_tr,tx_tr,initial_w,max_iters,gamma,batch_size,mode,lambda_,eps)\n",
    "        losses_tr[ideg,ilam,part] = compute_loss(y_tr,tx_tr,w, mode='log')\n",
    "        losses_te[ideg,ilam,part] = compute_loss(y_te,tx_te,w, mode='log')"
   ]
  },
  {
   "cell_type": "code",
   "execution_count": null,
   "metadata": {},
   "outputs": [],
   "source": []
  }
 ],
 "metadata": {
  "kernelspec": {
   "display_name": "Python 3",
   "language": "python",
   "name": "python3"
  },
  "language_info": {
   "codemirror_mode": {
    "name": "ipython",
    "version": 3
   },
   "file_extension": ".py",
   "mimetype": "text/x-python",
   "name": "python",
   "nbconvert_exporter": "python",
   "pygments_lexer": "ipython3",
   "version": "3.6.5"
  }
 },
 "nbformat": 4,
 "nbformat_minor": 2
}
