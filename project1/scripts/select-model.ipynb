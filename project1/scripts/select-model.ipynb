{
 "cells": [
  {
   "cell_type": "code",
   "execution_count": 20,
   "metadata": {},
   "outputs": [
    {
     "name": "stdout",
     "output_type": "stream",
     "text": [
      "The autoreload extension is already loaded. To reload it, use:\n",
      "  %reload_ext autoreload\n"
     ]
    }
   ],
   "source": [
    "# Useful starting lines\n",
    "%matplotlib inline\n",
    "import numpy as np\n",
    "import matplotlib.pyplot as plt\n",
    "from implementations import *\n",
    "from proj1_helpers import *\n",
    "%load_ext autoreload\n",
    "%autoreload 2\n"
   ]
  },
  {
   "cell_type": "code",
   "execution_count": 97,
   "metadata": {},
   "outputs": [],
   "source": [
    "import matplotlib.pyplot as plt"
   ]
  },
  {
   "cell_type": "code",
   "execution_count": 62,
   "metadata": {},
   "outputs": [],
   "source": [
    "path_tr = \"../data/train.csv\"\n",
    "yb_tr, data_tr, ids_tr = load_csv_data(path_tr,False)"
   ]
  },
  {
   "cell_type": "code",
   "execution_count": 66,
   "metadata": {},
   "outputs": [],
   "source": [
    "yb_tr = column_array(yb_tr)"
   ]
  },
  {
   "cell_type": "code",
   "execution_count": 77,
   "metadata": {},
   "outputs": [],
   "source": [
    "nparts = 4\n",
    "ys, txs, inds, boolind = eq_split_data(yb_tr, data_tr,nparts)"
   ]
  },
  {
   "cell_type": "code",
   "execution_count": 120,
   "metadata": {
    "scrolled": true
   },
   "outputs": [],
   "source": [
    "degrees = np.array([1,2,3,4,5,6,7,8,9,10])\n",
    "lambdas = np.linspace(0,1,11)\n",
    "lambdas = np.append(lambdas,np.linspace(2,20,19))"
   ]
  },
  {
   "cell_type": "code",
   "execution_count": 121,
   "metadata": {},
   "outputs": [],
   "source": [
    "max_iters = 1000\n",
    "gamma = 0.2\n",
    "batch_size = 10\n",
    "eps = 1e-3\n",
    "mode = \"ls\""
   ]
  },
  {
   "cell_type": "code",
   "execution_count": 122,
   "metadata": {},
   "outputs": [],
   "source": [
    "losses_tr = np.zeros([len(degrees),len(lambdas),nparts])\n",
    "losses_te = np.zeros([len(degrees),len(lambdas),nparts])"
   ]
  },
  {
   "cell_type": "code",
   "execution_count": null,
   "metadata": {},
   "outputs": [],
   "source": [
    "for ideg, deg in enumerate(degrees):\n",
    "    for ilam, lambda_ in enumerate(lambdas):\n",
    "        for part in range(nparts):\n",
    "            # chose parts\n",
    "            y_tr = yb_tr[boolind[:,part]]\n",
    "            x_tr = data_tr[boolind[:,part],:]\n",
    "            y_te = yb_tr[np.logical_not(boolind[:,part])]\n",
    "            x_te = data_tr[np.logical_not(boolind[:,part]),:]\n",
    "            # preprocess parts\n",
    "            tx_tr, mean, std = standardize(x_tr)\n",
    "            tx_te, mean, std = standardize(x_te,mean,std)\n",
    "            tx_tr = poly_expansion(tx_tr,deg,True)\n",
    "            tx_te = poly_expansion(tx_te,deg,True)\n",
    "            # compute w and loss\n",
    "            w,loss = my_ridge_regression(y_tr,tx_tr,lambda_,mode,max_iters,gamma,batch_size,eps)\n",
    "            losses_tr[ideg,ilam,part] = compute_loss(y_tr,tx_tr,w, mode='log')\n",
    "            losses_te[ideg,ilam,part] = compute_loss(y_te,tx_te,w, mode='log')"
   ]
  },
  {
   "cell_type": "code",
   "execution_count": 94,
   "metadata": {},
   "outputs": [],
   "source": [
    "loss_tr = np.mean(loss_tr,axis=2)\n",
    "loss_te = np.mean(loss_te,axis=2)"
   ]
  },
  {
   "cell_type": "code",
   "execution_count": 96,
   "metadata": {},
   "outputs": [
    {
     "name": "stdout",
     "output_type": "stream",
     "text": [
      "[[0.254964 0.264432 0.271804 0.2768   0.281224 0.285172 0.288372 0.291432\n",
      "  0.293876 0.29632  0.298592]\n",
      " [0.228216 0.243592 0.248072 0.25232  0.256368 0.259916 0.263004 0.265756\n",
      "  0.267792 0.269744 0.271464]\n",
      " [0.339316 0.23454  0.23902  0.243456 0.247328 0.250512 0.252952 0.255096\n",
      "  0.256892 0.258512 0.260072]]\n",
      "[[0.25531467 0.26467733 0.271692   0.27697333 0.281512   0.28508133\n",
      "  0.28832533 0.29131067 0.29397733 0.29623467 0.29854533]\n",
      " [0.228764   0.24368    0.24818933 0.25267467 0.256596   0.26016667\n",
      "  0.26308    0.26569067 0.26813333 0.270064   0.27162133]\n",
      " [0.33953467 0.235172   0.239636   0.24378933 0.24754933 0.25067867\n",
      "  0.253444   0.25557067 0.25719467 0.25864133 0.26016133]]\n"
     ]
    }
   ],
   "source": [
    "print(loss_tr)\n",
    "print(loss_te)"
   ]
  },
  {
   "cell_type": "code",
   "execution_count": 98,
   "metadata": {},
   "outputs": [],
   "source": [
    "from plots import *"
   ]
  },
  {
   "cell_type": "code",
   "execution_count": 119,
   "metadata": {},
   "outputs": [
    {
     "name": "stdout",
     "output_type": "stream",
     "text": [
      "Degree =  1\n",
      "Degree =  2\n",
      "Degree =  3\n"
     ]
    },
    {
     "data": {
      "image/png": "[encoded data removed]",
      "text/plain": [
       "<Figure size 432x288 with 1 Axes>"
      ]
     },
     "metadata": {},
     "output_type": "display_data"
    }
   ],
   "source": [
    "for ideg, deg in enumerate(degrees):\n",
    "    print(\"Degree = \",deg)\n",
    "    cross_validation_visualization(lambdas, loss_tr[ideg,:], loss_te[ideg,:],\"d= \" +str(deg),([0, 0,ideg/(len(degrees)-1)]),([0, 0.5,ideg/(len(degrees)-1)]))"
   ]
  },
  {
   "cell_type": "code",
   "execution_count": null,
   "metadata": {},
   "outputs": [],
   "source": []
  }
 ],
 "metadata": {
  "kernelspec": {
   "display_name": "Python 3",
   "language": "python",
   "name": "python3"
  },
  "language_info": {
   "codemirror_mode": {
    "name": "ipython",
    "version": 3
   },
   "file_extension": ".py",
   "mimetype": "text/x-python",
   "name": "python",
   "nbconvert_exporter": "python",
   "pygments_lexer": "ipython3",
   "version": "3.6.5"
  }
 },
 "nbformat": 4,
 "nbformat_minor": 2
}
