{
 "cells": [
  {
   "cell_type": "code",
   "execution_count": 25,
   "metadata": {},
   "outputs": [
    {
     "name": "stdout",
     "output_type": "stream",
     "text": [
      "The autoreload extension is already loaded. To reload it, use:\n",
      "  %reload_ext autoreload\n"
     ]
    }
   ],
   "source": [
    "# Useful starting lines\n",
    "%matplotlib inline\n",
    "import numpy as np\n",
    "import matplotlib.pyplot as plt\n",
    "from implementations import *\n",
    "from proj1_helpers import *\n",
    "%load_ext autoreload\n",
    "%autoreload 2"
   ]
  },
  {
   "cell_type": "code",
   "execution_count": 69,
   "metadata": {},
   "outputs": [
    {
     "name": "stdout",
     "output_type": "stream",
     "text": [
      "0.09675526170705176\n"
     ]
    }
   ],
   "source": [
    "y, tx, w_actual = generate_data(100,1,1)\n",
    "loss_actual = compute_loss(y,tx,w_actual)\n",
    "print(loss_actual)"
   ]
  },
  {
   "cell_type": "code",
   "execution_count": 90,
   "metadata": {},
   "outputs": [],
   "source": [
    "loss_gd, w_gd = gradient_descent(y,tx,w_actual*0,100,1)\n",
    "loss_sgd, w_sgd = stochastic_gradient_descent(y,tx,w_actual*0,1,100,1)\n",
    "loss_ls, w_ls = least_squares(y,tx)\n",
    "loss_rr, w_rr = ridge_regression(y,tx,0.7)"
   ]
  },
  {
   "cell_type": "code",
   "execution_count": 91,
   "metadata": {},
   "outputs": [
    {
     "name": "stdout",
     "output_type": "stream",
     "text": [
      "0.09481188517356266 [[0.5288682 ]\n",
      " [0.59138125]]\n",
      "0.16326771294611434 [[0.13652429]\n",
      " [0.63811412]]\n",
      "[[0.52876677]\n",
      " [0.59157675]] 0.09481188349911082\n",
      "[[0.53704059]\n",
      " [0.56666562]] 0.09484573865185274\n"
     ]
    }
   ],
   "source": [
    "print(loss_gd,w_gd)\n",
    "print(loss_sgd,w_sgd)\n",
    "print(loss_ls,w_ls)\n",
    "print(loss_rr,w_rr)"
   ]
  }
 ],
 "metadata": {
  "anaconda-cloud": {},
  "kernelspec": {
   "display_name": "Python 3",
   "language": "python",
   "name": "python3"
  },
  "language_info": {
   "codemirror_mode": {
    "name": "ipython",
    "version": 3
   },
   "file_extension": ".py",
   "mimetype": "text/x-python",
   "name": "python",
   "nbconvert_exporter": "python",
   "pygments_lexer": "ipython3",
   "version": "3.6.5"
  }
 },
 "nbformat": 4,
 "nbformat_minor": 1
}
