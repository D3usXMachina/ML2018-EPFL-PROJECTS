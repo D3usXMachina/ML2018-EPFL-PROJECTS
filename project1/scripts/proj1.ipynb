{
 "cells": [
  {
   "cell_type": "code",
   "execution_count": 201,
   "metadata": {},
   "outputs": [
    {
     "name": "stdout",
     "output_type": "stream",
     "text": [
      "The autoreload extension is already loaded. To reload it, use:\n",
      "  %reload_ext autoreload\n"
     ]
    }
   ],
   "source": [
    "# Useful starting lines\n",
    "%matplotlib inline\n",
    "import numpy as np\n",
    "import matplotlib.pyplot as plt\n",
    "from implementations import *\n",
    "from proj1_helpers import *\n",
    "%load_ext autoreload\n",
    "%autoreload 2"
   ]
  },
  {
   "cell_type": "markdown",
   "metadata": {},
   "source": [
    "**Test of regular training functions**"
   ]
  },
  {
   "cell_type": "code",
   "execution_count": 202,
   "metadata": {},
   "outputs": [],
   "source": [
    "nsamples = 10000\n",
    "nfeatures = 30\n",
    "seed = 20\n",
    "std = 10\n",
    "y,tx,w = generate_bin_data(nsamples,nfeatures,seed,std)\n",
    "loss = compute_loss(y,tx,w,\"log\")"
   ]
  },
  {
   "cell_type": "code",
   "execution_count": 212,
   "metadata": {
    "scrolled": true
   },
   "outputs": [
    {
     "name": "stdout",
     "output_type": "stream",
     "text": [
      "0.5012952747603642\n",
      "[[ 0.00717422]\n",
      " [ 0.00308865]\n",
      " [ 0.0582141 ]\n",
      " [ 0.27696333]\n",
      " [-0.17971938]\n",
      " [ 0.0425894 ]\n",
      " [-0.14586581]\n",
      " [-0.14147049]\n",
      " [ 0.07732134]\n",
      " [-0.09432046]\n",
      " [ 0.05137078]\n",
      " [ 0.02031092]\n",
      " [ 0.19738013]\n",
      " [-0.10525107]\n",
      " [-0.26002759]\n",
      " [ 0.12185483]\n",
      " [ 0.01757635]\n",
      " [ 0.00668208]\n",
      " [-0.0165337 ]\n",
      " [-0.02090843]\n",
      " [ 0.13017959]\n",
      " [ 0.21173279]\n",
      " [ 0.04406918]\n",
      " [-0.19084252]\n",
      " [-0.02495173]\n",
      " [ 0.02195592]\n",
      " [ 0.08183416]\n",
      " [-0.0114103 ]\n",
      " [-0.03237466]\n",
      " [-0.02800488]\n",
      " [ 0.21003603]]\n"
     ]
    }
   ],
   "source": [
    "print(loss)\n",
    "print(w)"
   ]
  },
  {
   "cell_type": "code",
   "execution_count": 213,
   "metadata": {},
   "outputs": [],
   "source": [
    "initial_w = np.zeros([nfeatures+1,1])\n",
    "max_iters = 100000\n",
    "gamma = 0.1"
   ]
  },
  {
   "cell_type": "markdown",
   "metadata": {},
   "source": [
    "Least squares GD"
   ]
  },
  {
   "cell_type": "code",
   "execution_count": 214,
   "metadata": {},
   "outputs": [
    {
     "name": "stdout",
     "output_type": "stream",
     "text": [
      "Terminated least_squares_GD after  39  iterations.\n"
     ]
    }
   ],
   "source": [
    "w,loss = least_squares_GD(y,tx,initial_w,max_iters,gamma)"
   ]
  },
  {
   "cell_type": "code",
   "execution_count": 215,
   "metadata": {
    "scrolled": true
   },
   "outputs": [
    {
     "name": "stdout",
     "output_type": "stream",
     "text": [
      "0.42600000000000005\n",
      "[[ 0.01948995]\n",
      " [ 0.02456619]\n",
      " [ 0.02384497]\n",
      " [ 0.02664302]\n",
      " [-0.0215254 ]\n",
      " [ 0.02779789]\n",
      " [-0.01526285]\n",
      " [-0.0026715 ]\n",
      " [ 0.00647283]\n",
      " [ 0.00428793]\n",
      " [-0.01536755]\n",
      " [ 0.03286872]\n",
      " [ 0.01100188]\n",
      " [ 0.00718382]\n",
      " [ 0.01737133]\n",
      " [-0.01404297]\n",
      " [ 0.00380908]\n",
      " [ 0.01668883]\n",
      " [-0.00192869]\n",
      " [-0.01563546]\n",
      " [ 0.03163693]\n",
      " [ 0.02928474]\n",
      " [ 0.01282253]\n",
      " [-0.00730779]\n",
      " [ 0.0325552 ]\n",
      " [-0.00543606]\n",
      " [ 0.02282659]\n",
      " [ 0.03377175]\n",
      " [-0.005536  ]\n",
      " [-0.00769299]\n",
      " [ 0.00359258]]\n"
     ]
    }
   ],
   "source": [
    "print(compute_loss(y, tx, w,'log'))\n",
    "print(w)"
   ]
  },
  {
   "cell_type": "markdown",
   "metadata": {},
   "source": [
    "Least squares SGD"
   ]
  },
  {
   "cell_type": "code",
   "execution_count": 217,
   "metadata": {},
   "outputs": [
    {
     "name": "stdout",
     "output_type": "stream",
     "text": [
      "10000\n"
     ]
    }
   ],
   "source": [
    "w,loss = least_squares_SGD(y,tx,initial_w,10000,gamma)"
   ]
  },
  {
   "cell_type": "code",
   "execution_count": 218,
   "metadata": {},
   "outputs": [
    {
     "name": "stdout",
     "output_type": "stream",
     "text": [
      "0.44660000000000005\n",
      "[[ 0.00717422]\n",
      " [ 0.00308865]\n",
      " [ 0.0582141 ]\n",
      " [ 0.27696333]\n",
      " [-0.17971938]\n",
      " [ 0.0425894 ]\n",
      " [-0.14586581]\n",
      " [-0.14147049]\n",
      " [ 0.07732134]\n",
      " [-0.09432046]\n",
      " [ 0.05137078]\n",
      " [ 0.02031092]\n",
      " [ 0.19738013]\n",
      " [-0.10525107]\n",
      " [-0.26002759]\n",
      " [ 0.12185483]\n",
      " [ 0.01757635]\n",
      " [ 0.00668208]\n",
      " [-0.0165337 ]\n",
      " [-0.02090843]\n",
      " [ 0.13017959]\n",
      " [ 0.21173279]\n",
      " [ 0.04406918]\n",
      " [-0.19084252]\n",
      " [-0.02495173]\n",
      " [ 0.02195592]\n",
      " [ 0.08183416]\n",
      " [-0.0114103 ]\n",
      " [-0.03237466]\n",
      " [-0.02800488]\n",
      " [ 0.21003603]]\n"
     ]
    }
   ],
   "source": [
    "print(compute_loss(y, tx, w,'log'))\n",
    "print(w)"
   ]
  },
  {
   "cell_type": "markdown",
   "metadata": {},
   "source": [
    "Least squares"
   ]
  },
  {
   "cell_type": "code",
   "execution_count": 220,
   "metadata": {},
   "outputs": [],
   "source": [
    "w,loss = least_squares(y, tx)"
   ]
  },
  {
   "cell_type": "code",
   "execution_count": 221,
   "metadata": {},
   "outputs": [
    {
     "name": "stdout",
     "output_type": "stream",
     "text": [
      "0.42290000000000005\n",
      "[[ 0.07015639]\n",
      " [ 0.06372914]\n",
      " [ 0.06013928]\n",
      " [ 0.07101717]\n",
      " [-0.10098996]\n",
      " [ 0.0763126 ]\n",
      " [-0.07754896]\n",
      " [-0.03291536]\n",
      " [-0.00079236]\n",
      " [-0.0071469 ]\n",
      " [-0.08064651]\n",
      " [ 0.08854572]\n",
      " [ 0.0103884 ]\n",
      " [ 0.00294157]\n",
      " [ 0.03200131]\n",
      " [-0.0777082 ]\n",
      " [-0.01288403]\n",
      " [ 0.03699261]\n",
      " [-0.03312778]\n",
      " [-0.07448259]\n",
      " [ 0.08440702]\n",
      " [ 0.07952506]\n",
      " [ 0.01994368]\n",
      " [-0.05359551]\n",
      " [ 0.08904088]\n",
      " [-0.04645924]\n",
      " [ 0.05480948]\n",
      " [ 0.09362449]\n",
      " [-0.04184579]\n",
      " [-0.04943087]\n",
      " [-0.01506491]]\n"
     ]
    }
   ],
   "source": [
    "print(compute_loss(y, tx, w,'log'))\n",
    "print(w)"
   ]
  },
  {
   "cell_type": "markdown",
   "metadata": {},
   "source": [
    "Ridge regression"
   ]
  },
  {
   "cell_type": "code",
   "execution_count": 251,
   "metadata": {},
   "outputs": [],
   "source": [
    "lambda_ = 1"
   ]
  },
  {
   "cell_type": "code",
   "execution_count": 252,
   "metadata": {},
   "outputs": [],
   "source": [
    "w,loss = ridge_regression(y, tx, lambda_)"
   ]
  },
  {
   "cell_type": "code",
   "execution_count": 253,
   "metadata": {},
   "outputs": [
    {
     "name": "stdout",
     "output_type": "stream",
     "text": [
      "0.42600000000000005\n",
      "[[7.39968373e-07]\n",
      " [3.91184103e-07]\n",
      " [3.91951551e-07]\n",
      " [3.97755616e-07]\n",
      " [3.26643641e-07]\n",
      " [3.99846319e-07]\n",
      " [3.37498315e-07]\n",
      " [3.56610884e-07]\n",
      " [3.68849866e-07]\n",
      " [3.64955392e-07]\n",
      " [3.41023574e-07]\n",
      " [4.05693281e-07]\n",
      " [3.78187229e-07]\n",
      " [3.68683775e-07]\n",
      " [3.87184711e-07]\n",
      " [3.41481894e-07]\n",
      " [3.65162822e-07]\n",
      " [3.86627281e-07]\n",
      " [3.61408716e-07]\n",
      " [3.36310326e-07]\n",
      " [4.03654931e-07]\n",
      " [4.03101216e-07]\n",
      " [3.81111576e-07]\n",
      " [3.49676474e-07]\n",
      " [4.06187141e-07]\n",
      " [3.49720752e-07]\n",
      " [3.93616502e-07]\n",
      " [4.07833347e-07]\n",
      " [3.50261746e-07]\n",
      " [3.48643492e-07]\n",
      " [3.63376899e-07]]\n"
     ]
    }
   ],
   "source": [
    "print(compute_loss(y, tx, w,'log'))\n",
    "print(w)"
   ]
  },
  {
   "cell_type": "markdown",
   "metadata": {},
   "source": [
    "**Test of Logistic Regression on actual data**"
   ]
  },
  {
   "cell_type": "code",
   "execution_count": 159,
   "metadata": {},
   "outputs": [],
   "source": [
    "path_tr = \"../data/train.csv\"\n",
    "yb_tr, data_tr, ids_tr = load_csv_data(path_tr,True)"
   ]
  },
  {
   "cell_type": "code",
   "execution_count": 161,
   "metadata": {
    "scrolled": true
   },
   "outputs": [],
   "source": [
    "data_tr0, mean_tr, std_tr = standardize(data_tr)\n",
    "data_tr0 = add_constant(data_tr0)"
   ]
  },
  {
   "cell_type": "code",
   "execution_count": 162,
   "metadata": {},
   "outputs": [],
   "source": [
    "nfeatures = data_tr0.shape[1]\n",
    "initial_w = np.ones([nfeatures,1])/nfeatures"
   ]
  },
  {
   "cell_type": "markdown",
   "metadata": {},
   "source": [
    "Since the features can have numeric values in whatever range, $exp(X^\\top\\,w)$ can be very large when chosing $w_{initial}=1$ (or any other finite value), resulting in $\\sigma=1$. On the other hand chosing $w_{initial}=0$ results in $\\sigma=0.5$.\n",
    "Not sure though whether that actually has an influence on the stability of the method.\n",
    "On a second thought, standardisation or normalisation would actually make it reasonable to use a finite $w_{initial}$. I was thinking maybe $w_{initial} = \\tfrac{1}{\\# features}$."
   ]
  },
  {
   "cell_type": "code",
   "execution_count": 165,
   "metadata": {
    "scrolled": false
   },
   "outputs": [],
   "source": [
    "w, loss = logistic_regression(yb_tr,data_tr0,initial_w,max_iters,0.2)"
   ]
  },
  {
   "cell_type": "code",
   "execution_count": 166,
   "metadata": {
    "scrolled": true
   },
   "outputs": [
    {
     "name": "stdout",
     "output_type": "stream",
     "text": [
      "7521493176.046137\n",
      "[[-5.05269220e+07]\n",
      " [ 1.44569457e+07]\n",
      " [-1.77344108e+07]\n",
      " [-1.78444753e+06]\n",
      " [ 4.76387045e+06]\n",
      " [ 6.00179115e+05]\n",
      " [ 3.17657476e+06]\n",
      " [ 5.34524662e+05]\n",
      " [ 6.66779748e+06]\n",
      " [-1.60473116e+06]\n",
      " [ 8.65432603e+05]\n",
      " [-6.28674434e+06]\n",
      " [ 1.14619961e+07]\n",
      " [ 5.82217945e+05]\n",
      " [ 7.19960565e+06]\n",
      " [ 9.84034661e+05]\n",
      " [-5.83622605e+05]\n",
      " [ 7.26931178e+05]\n",
      " [ 1.35993151e+06]\n",
      " [ 1.14614161e+06]\n",
      " [-2.85887569e+06]\n",
      " [-7.04733140e+04]\n",
      " [ 3.12375671e+04]\n",
      " [ 1.41371656e+05]\n",
      " [ 4.13398084e+06]\n",
      " [ 4.12006185e+06]\n",
      " [ 4.12761988e+06]\n",
      " [ 3.97286141e+05]\n",
      " [ 5.77656952e+05]\n",
      " [ 5.73510469e+05]\n",
      " [-6.47081572e+05]]\n"
     ]
    }
   ],
   "source": [
    "print(loss)\n",
    "print(w)"
   ]
  },
  {
   "cell_type": "code",
   "execution_count": 174,
   "metadata": {
    "scrolled": false
   },
   "outputs": [],
   "source": [
    "w, loss = reg_logistic_regression(yb_tr,data_tr0,1+4,initial_w,max_iters,0.2)"
   ]
  },
  {
   "cell_type": "code",
   "execution_count": 176,
   "metadata": {
    "scrolled": false
   },
   "outputs": [
    {
     "name": "stdout",
     "output_type": "stream",
     "text": [
      "3994036.357120069\n",
      "[[-667.99534162]\n",
      " [ 129.6766822 ]\n",
      " [-228.66895501]\n",
      " [ -14.94019797]\n",
      " [ -82.44496554]\n",
      " [-270.10833093]\n",
      " [-207.94622662]\n",
      " [-271.13099738]\n",
      " [ 143.39873142]\n",
      " [-125.98049701]\n",
      " [-168.71453466]\n",
      " [-183.56434577]\n",
      " [  85.82721938]\n",
      " [-270.38204073]\n",
      " [ 106.60059948]\n",
      " [  26.15895072]\n",
      " [ -16.03729886]\n",
      " [-112.25572516]\n",
      " [  30.03502361]\n",
      " [  16.39320674]\n",
      " [-128.22769493]\n",
      " [   4.9357043 ]\n",
      " [-165.3115051 ]\n",
      " [-238.13357031]\n",
      " [ -98.25480609]\n",
      " [ -91.23495215]\n",
      " [ -91.20886192]\n",
      " [-271.05084782]\n",
      " [-270.44408328]\n",
      " [-270.51287909]\n",
      " [-195.23694477]]\n"
     ]
    }
   ],
   "source": [
    "print(loss)\n",
    "print(w)"
   ]
  },
  {
   "cell_type": "code",
   "execution_count": 27,
   "metadata": {},
   "outputs": [],
   "source": [
    "path_te = \"../data/train.csv\"\n",
    "yb_te, data_te, ids_te = load_csv_data(path_te,True)"
   ]
  },
  {
   "cell_type": "markdown",
   "metadata": {},
   "source": [
    "- log_reg working correctly?\n",
    "- stochastic approach?\n",
    "- iterations end conditions?\n",
    "- preprocessing? (use all features?)\n",
    "- ...?\n",
    "\n",
    "TODO:\n",
    "- bias_variance_decomposition\n",
    "- cross_validation\n",
    "- again test all methods\n",
    "- prepare script run.py\n",
    "\n",
    "TEST:\n",
    "\n",
    "Required Functions\n",
    "\n",
    "- logistic_regression\n",
    "- reg_logistic_regression\n",
    "\n",
    "Trainers\n",
    "\n",
    "- my_least_squares_GD\n",
    "- my_least_squares_SGD\n",
    "- my_least_squares\n",
    "- my_ridge_regression\n",
    "- my_logistic_regression\n",
    "- my_reg_logistic_regression\n",
    "- my_stoch_logistic_regression\n",
    "\n",
    "Utility functions for trainers\n",
    "\n",
    "- compute_gradient\n",
    "- compute_sigma\n",
    "- batch_iter\n",
    "\n",
    "Loss functions\n",
    "\n",
    "- compute_loss\n",
    "\n",
    "Preprocessing\n",
    "\n",
    "- standardize\n",
    "- split_data\n",
    "- add_constant\n",
    "- poly_expansion\n",
    "\n",
    "Utility\n",
    "\n",
    "- generate_data\n",
    "- generate_bin_data\n",
    "- column_array\n",
    "- compute_y"
   ]
  },
  {
   "cell_type": "code",
   "execution_count": null,
   "metadata": {},
   "outputs": [],
   "source": []
  }
 ],
 "metadata": {
  "anaconda-cloud": {},
  "kernelspec": {
   "display_name": "Python 3",
   "language": "python",
   "name": "python3"
  },
  "language_info": {
   "codemirror_mode": {
    "name": "ipython",
    "version": 3
   },
   "file_extension": ".py",
   "mimetype": "text/x-python",
   "name": "python",
   "nbconvert_exporter": "python",
   "pygments_lexer": "ipython3",
   "version": "3.6.5"
  }
 },
 "nbformat": 4,
 "nbformat_minor": 1
}
