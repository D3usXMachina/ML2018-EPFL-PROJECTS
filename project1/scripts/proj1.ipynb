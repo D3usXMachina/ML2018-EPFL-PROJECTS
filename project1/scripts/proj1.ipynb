{
 "cells": [
  {
   "cell_type": "code",
   "execution_count": 146,
   "metadata": {},
   "outputs": [
    {
     "name": "stdout",
     "output_type": "stream",
     "text": [
      "The autoreload extension is already loaded. To reload it, use:\n",
      "  %reload_ext autoreload\n"
     ]
    }
   ],
   "source": [
    "# Useful starting lines\n",
    "%matplotlib inline\n",
    "import numpy as np\n",
    "import matplotlib.pyplot as plt\n",
    "from implementations import *\n",
    "from proj1_helpers import *\n",
    "%load_ext autoreload\n",
    "%autoreload 2"
   ]
  },
  {
   "cell_type": "markdown",
   "metadata": {},
   "source": [
    "**Test of regular training functions**"
   ]
  },
  {
   "cell_type": "code",
   "execution_count": 147,
   "metadata": {},
   "outputs": [],
   "source": [
    "nsamples = 1000\n",
    "nfeatures = 20\n",
    "seed = 20\n",
    "std = 0.1\n",
    "y,tx,w = generate_data(nsamples,nfeatures,seed,std)\n",
    "loss = compute_loss(y,tx,w)"
   ]
  },
  {
   "cell_type": "code",
   "execution_count": 148,
   "metadata": {
    "scrolled": true
   },
   "outputs": [
    {
     "name": "stdout",
     "output_type": "stream",
     "text": [
      "0.005309625925735089\n",
      "[[0.5881308 ]\n",
      " [0.89771373]\n",
      " [0.89153073]\n",
      " [0.81583748]\n",
      " [0.03588959]\n",
      " [0.69175758]\n",
      " [0.37868094]\n",
      " [0.51851095]\n",
      " [0.65795147]\n",
      " [0.19385022]\n",
      " [0.2723164 ]\n",
      " [0.71860593]\n",
      " [0.78300361]\n",
      " [0.85032764]\n",
      " [0.77524489]\n",
      " [0.03666431]\n",
      " [0.11669374]\n",
      " [0.7512807 ]\n",
      " [0.23921822]\n",
      " [0.25480601]\n",
      " [0.85762553]]\n"
     ]
    }
   ],
   "source": [
    "print(loss)\n",
    "print(w)"
   ]
  },
  {
   "cell_type": "code",
   "execution_count": 149,
   "metadata": {},
   "outputs": [],
   "source": [
    "initial_w = np.zeros([nfeatures+1,1])\n",
    "max_iters = 100000\n",
    "gamma = 0.1"
   ]
  },
  {
   "cell_type": "markdown",
   "metadata": {},
   "source": [
    "Least squares GD"
   ]
  },
  {
   "cell_type": "code",
   "execution_count": 150,
   "metadata": {},
   "outputs": [
    {
     "name": "stdout",
     "output_type": "stream",
     "text": [
      "Terminated least_squares_GD after  539  iterations.\n"
     ]
    }
   ],
   "source": [
    "w,loss = least_squares_GD(y,tx,initial_w,max_iters,gamma)"
   ]
  },
  {
   "cell_type": "code",
   "execution_count": 151,
   "metadata": {},
   "outputs": [
    {
     "name": "stdout",
     "output_type": "stream",
     "text": [
      "0.005425532128798946\n",
      "[[0.76351622]\n",
      " [0.86461981]\n",
      " [0.87597689]\n",
      " [0.80442434]\n",
      " [0.01378407]\n",
      " [0.67489353]\n",
      " [0.37532809]\n",
      " [0.51254593]\n",
      " [0.64790447]\n",
      " [0.17423959]\n",
      " [0.24771655]\n",
      " [0.69866241]\n",
      " [0.75143508]\n",
      " [0.84633841]\n",
      " [0.75840143]\n",
      " [0.01782753]\n",
      " [0.11286285]\n",
      " [0.71495562]\n",
      " [0.22391709]\n",
      " [0.2450083 ]\n",
      " [0.83532526]]\n"
     ]
    }
   ],
   "source": [
    "print(loss)\n",
    "print(w)"
   ]
  },
  {
   "cell_type": "markdown",
   "metadata": {},
   "source": [
    "Least squares SGD"
   ]
  },
  {
   "cell_type": "code",
   "execution_count": 152,
   "metadata": {},
   "outputs": [
    {
     "name": "stdout",
     "output_type": "stream",
     "text": [
      "1000\n",
      "Terminated least_squares_SGD after  1099  iterations.\n"
     ]
    }
   ],
   "source": [
    "w,loss = least_squares_SGD(y,tx,initial_w,10000,gamma)"
   ]
  },
  {
   "cell_type": "code",
   "execution_count": 153,
   "metadata": {},
   "outputs": [
    {
     "name": "stdout",
     "output_type": "stream",
     "text": [
      "0.00588249800753959\n",
      "[[0.69050174]\n",
      " [0.8718239 ]\n",
      " [0.89210358]\n",
      " [0.81019568]\n",
      " [0.00622989]\n",
      " [0.67833821]\n",
      " [0.39794494]\n",
      " [0.52490717]\n",
      " [0.65594455]\n",
      " [0.17459873]\n",
      " [0.26796299]\n",
      " [0.71413236]\n",
      " [0.75884473]\n",
      " [0.85811   ]\n",
      " [0.77840507]\n",
      " [0.02014027]\n",
      " [0.13195498]\n",
      " [0.72757485]\n",
      " [0.23740862]\n",
      " [0.24642586]\n",
      " [0.85488967]]\n"
     ]
    }
   ],
   "source": [
    "print(loss)\n",
    "print(w)"
   ]
  },
  {
   "cell_type": "markdown",
   "metadata": {},
   "source": [
    "Least squares"
   ]
  },
  {
   "cell_type": "code",
   "execution_count": 154,
   "metadata": {},
   "outputs": [],
   "source": [
    "w,loss = least_squares(y, tx)"
   ]
  },
  {
   "cell_type": "code",
   "execution_count": 155,
   "metadata": {},
   "outputs": [
    {
     "name": "stdout",
     "output_type": "stream",
     "text": [
      "0.005208633401473409\n",
      "[[0.61337157]\n",
      " [0.88092768]\n",
      " [0.89584667]\n",
      " [0.82287565]\n",
      " [0.02268107]\n",
      " [0.69495938]\n",
      " [0.39151281]\n",
      " [0.52983978]\n",
      " [0.65975028]\n",
      " [0.18017287]\n",
      " [0.25853949]\n",
      " [0.7189675 ]\n",
      " [0.76643704]\n",
      " [0.86417657]\n",
      " [0.77688533]\n",
      " [0.02612297]\n",
      " [0.12626421]\n",
      " [0.73099478]\n",
      " [0.23291732]\n",
      " [0.25594072]\n",
      " [0.8552125 ]]\n"
     ]
    }
   ],
   "source": [
    "print(loss)\n",
    "print(w)"
   ]
  },
  {
   "cell_type": "markdown",
   "metadata": {},
   "source": [
    "Ridge regression"
   ]
  },
  {
   "cell_type": "code",
   "execution_count": 156,
   "metadata": {},
   "outputs": [],
   "source": [
    "lambda_ = 0.0001"
   ]
  },
  {
   "cell_type": "code",
   "execution_count": 157,
   "metadata": {},
   "outputs": [],
   "source": [
    "w,loss = ridge_regression(y, tx, lambda_)"
   ]
  },
  {
   "cell_type": "code",
   "execution_count": 158,
   "metadata": {},
   "outputs": [
    {
     "name": "stdout",
     "output_type": "stream",
     "text": [
      "0.0053476111657850675\n",
      "[[0.73418033]\n",
      " [0.87097238]\n",
      " [0.88401736]\n",
      " [0.81170066]\n",
      " [0.00987004]\n",
      " [0.68130856]\n",
      " [0.37964646]\n",
      " [0.5169666 ]\n",
      " [0.64658915]\n",
      " [0.17021278]\n",
      " [0.24472411]\n",
      " [0.70692478]\n",
      " [0.75758758]\n",
      " [0.85243436]\n",
      " [0.76433065]\n",
      " [0.011916  ]\n",
      " [0.11194507]\n",
      " [0.71799469]\n",
      " [0.22167696]\n",
      " [0.24292179]\n",
      " [0.8421676 ]]\n"
     ]
    }
   ],
   "source": [
    "print(loss)\n",
    "print(w)"
   ]
  },
  {
   "cell_type": "markdown",
   "metadata": {},
   "source": [
    "**Test of Logistic Regression on actual data**"
   ]
  },
  {
   "cell_type": "code",
   "execution_count": 159,
   "metadata": {},
   "outputs": [],
   "source": [
    "path_tr = \"../data/train.csv\"\n",
    "yb_tr, data_tr, ids_tr = load_csv_data(path_tr,True)"
   ]
  },
  {
   "cell_type": "code",
   "execution_count": 161,
   "metadata": {
    "scrolled": true
   },
   "outputs": [],
   "source": [
    "data_tr0, mean_tr, std_tr = standardize(data_tr)\n",
    "data_tr0 = add_constant(data_tr0)"
   ]
  },
  {
   "cell_type": "code",
   "execution_count": 162,
   "metadata": {},
   "outputs": [],
   "source": [
    "nfeatures = data_tr0.shape[1]\n",
    "initial_w = np.ones([nfeatures,1])/nfeatures"
   ]
  },
  {
   "cell_type": "markdown",
   "metadata": {},
   "source": [
    "Since the features can have numeric values in whatever range, $exp(X^\\top\\,w)$ can be very large when chosing $w_{initial}=1$ (or any other finite value), resulting in $\\sigma=1$. On the other hand chosing $w_{initial}=0$ results in $\\sigma=0.5$.\n",
    "Not sure though whether that actually has an influence on the stability of the method.\n",
    "On a second thought, standardisation or normalisation would actually make it reasonable to use a finite $w_{initial}$. I was thinking maybe $w_{initial} = \\tfrac{1}{\\# features}$."
   ]
  },
  {
   "cell_type": "code",
   "execution_count": 165,
   "metadata": {
    "scrolled": false
   },
   "outputs": [],
   "source": [
    "w, loss = logistic_regression(yb_tr,data_tr0,initial_w,max_iters,0.2)"
   ]
  },
  {
   "cell_type": "code",
   "execution_count": 166,
   "metadata": {
    "scrolled": true
   },
   "outputs": [
    {
     "name": "stdout",
     "output_type": "stream",
     "text": [
      "7521493176.046137\n",
      "[[-5.05269220e+07]\n",
      " [ 1.44569457e+07]\n",
      " [-1.77344108e+07]\n",
      " [-1.78444753e+06]\n",
      " [ 4.76387045e+06]\n",
      " [ 6.00179115e+05]\n",
      " [ 3.17657476e+06]\n",
      " [ 5.34524662e+05]\n",
      " [ 6.66779748e+06]\n",
      " [-1.60473116e+06]\n",
      " [ 8.65432603e+05]\n",
      " [-6.28674434e+06]\n",
      " [ 1.14619961e+07]\n",
      " [ 5.82217945e+05]\n",
      " [ 7.19960565e+06]\n",
      " [ 9.84034661e+05]\n",
      " [-5.83622605e+05]\n",
      " [ 7.26931178e+05]\n",
      " [ 1.35993151e+06]\n",
      " [ 1.14614161e+06]\n",
      " [-2.85887569e+06]\n",
      " [-7.04733140e+04]\n",
      " [ 3.12375671e+04]\n",
      " [ 1.41371656e+05]\n",
      " [ 4.13398084e+06]\n",
      " [ 4.12006185e+06]\n",
      " [ 4.12761988e+06]\n",
      " [ 3.97286141e+05]\n",
      " [ 5.77656952e+05]\n",
      " [ 5.73510469e+05]\n",
      " [-6.47081572e+05]]\n"
     ]
    }
   ],
   "source": [
    "print(loss)\n",
    "print(w)"
   ]
  },
  {
   "cell_type": "code",
   "execution_count": 171,
   "metadata": {
    "scrolled": false
   },
   "outputs": [],
   "source": [
    "w, loss = reg_logistic_regression(yb_tr,data_tr0,1+4,initial_w,max_iters,0.2)"
   ]
  },
  {
   "cell_type": "code",
   "execution_count": 172,
   "metadata": {
    "scrolled": false
   },
   "outputs": [
    {
     "name": "stdout",
     "output_type": "stream",
     "text": [
      "5111627.2071659565\n",
      "[[-667.99534162]\n",
      " [ 129.6766822 ]\n",
      " [-228.66895501]\n",
      " [ -14.94019797]\n",
      " [ -82.44496554]\n",
      " [-270.10833093]\n",
      " [-207.94622662]\n",
      " [-271.13099738]\n",
      " [ 143.39873142]\n",
      " [-125.98049701]\n",
      " [-168.71453466]\n",
      " [-183.56434577]\n",
      " [  85.82721938]\n",
      " [-270.38204073]\n",
      " [ 106.60059948]\n",
      " [  26.15895072]\n",
      " [ -16.03729886]\n",
      " [-112.25572516]\n",
      " [  30.03502361]\n",
      " [  16.39320674]\n",
      " [-128.22769493]\n",
      " [   4.9357043 ]\n",
      " [-165.3115051 ]\n",
      " [-238.13357031]\n",
      " [ -98.25480609]\n",
      " [ -91.23495215]\n",
      " [ -91.20886192]\n",
      " [-271.05084782]\n",
      " [-270.44408328]\n",
      " [-270.51287909]\n",
      " [-195.23694477]]\n"
     ]
    }
   ],
   "source": [
    "print(loss)\n",
    "print(w)"
   ]
  },
  {
   "cell_type": "code",
   "execution_count": 27,
   "metadata": {},
   "outputs": [],
   "source": [
    "path_te = \"../data/train.csv\"\n",
    "yb_te, data_te, ids_te = load_csv_data(path_te,True)"
   ]
  },
  {
   "cell_type": "markdown",
   "metadata": {},
   "source": [
    "- log_reg working correctly?\n",
    "- stochastic approach?\n",
    "- iterations end conditions?\n",
    "- preprocessing? (use all features?)\n",
    "- ...?\n",
    "\n",
    "TODO:\n",
    "- bias_variance_decomposition\n",
    "- cross_validation\n",
    "- again test all methods\n",
    "- prepare script run.py\n",
    "\n",
    "TEST:\n",
    "\n",
    "Required Functions\n",
    "\n",
    "- logistic_regression\n",
    "- reg_logistic_regression\n",
    "\n",
    "Trainers\n",
    "\n",
    "- my_least_squares_GD\n",
    "- my_least_squares_SGD\n",
    "- my_least_squares\n",
    "- my_ridge_regression\n",
    "- my_logistic_regression\n",
    "- my_reg_logistic_regression\n",
    "- my_stoch_logistic_regression\n",
    "\n",
    "Utility functions for trainers\n",
    "\n",
    "- compute_gradient\n",
    "- compute_sigma\n",
    "- batch_iter\n",
    "\n",
    "Loss functions\n",
    "\n",
    "- compute_loss\n",
    "\n",
    "Preprocessing\n",
    "\n",
    "- standardize\n",
    "- split_data\n",
    "- add_constant\n",
    "- poly_expansion\n",
    "\n",
    "Utility\n",
    "\n",
    "- generate_data\n",
    "- generate_bin_data\n",
    "- column_array\n",
    "- compute_y"
   ]
  },
  {
   "cell_type": "code",
   "execution_count": null,
   "metadata": {},
   "outputs": [],
   "source": []
  }
 ],
 "metadata": {
  "anaconda-cloud": {},
  "kernelspec": {
   "display_name": "Python 3",
   "language": "python",
   "name": "python3"
  },
  "language_info": {
   "codemirror_mode": {
    "name": "ipython",
    "version": 3
   },
   "file_extension": ".py",
   "mimetype": "text/x-python",
   "name": "python",
   "nbconvert_exporter": "python",
   "pygments_lexer": "ipython3",
   "version": "3.6.5"
  }
 },
 "nbformat": 4,
 "nbformat_minor": 1
}
