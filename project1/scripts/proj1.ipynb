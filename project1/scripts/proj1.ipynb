{
 "cells": [
  {
   "cell_type": "code",
   "execution_count": 20,
   "metadata": {},
   "outputs": [
    {
     "name": "stdout",
     "output_type": "stream",
     "text": [
      "The autoreload extension is already loaded. To reload it, use:\n",
      "  %reload_ext autoreload\n"
     ]
    }
   ],
   "source": [
    "# Useful starting lines\n",
    "%matplotlib inline\n",
    "import numpy as np\n",
    "import matplotlib.pyplot as plt\n",
    "from implementations import *\n",
    "from proj1_helpers import *\n",
    "%load_ext autoreload\n",
    "%autoreload 2"
   ]
  },
  {
   "cell_type": "code",
   "execution_count": 22,
   "metadata": {},
   "outputs": [],
   "source": [
    "path_tr = \"../data/train.csv\"\n",
    "yb_tr, data_tr, ids_tr = load_csv_data(path_tr,True)"
   ]
  },
  {
   "cell_type": "code",
   "execution_count": 36,
   "metadata": {
    "scrolled": true
   },
   "outputs": [],
   "source": [
    "data_tr0, mean_tr, std_tr = standardize(data_tr)\n",
    "data_tr0 = add_constant(data_tr0)"
   ]
  },
  {
   "cell_type": "code",
   "execution_count": 27,
   "metadata": {},
   "outputs": [],
   "source": [
    "path_te = \"../data/train.csv\"\n",
    "yb_te, data_te, ids_te = load_csv_data(path_te,True)"
   ]
  },
  {
   "cell_type": "code",
   "execution_count": 41,
   "metadata": {},
   "outputs": [],
   "source": [
    "nfeatures = data_tr0.shape[1]\n",
    "initial_w = np.zeros([nfeatures,1])"
   ]
  },
  {
   "cell_type": "markdown",
   "metadata": {},
   "source": [
    "Since the features can have numeric values in whatever range, $exp(X^\\top\\,w)$ can be very large when chosing $w_{initial}=1$ (or any other finite value), resulting in $\\sigma=1$. On the other hand chosing $w_{initial}=0$ results in $\\sigma=0.5$.\n",
    "Not sure though whether that actually has an influence on the stability of the method.\n",
    "On a second thought, standardisation or normalisation would actually make it reasonable to use a finite $w_{initial}$. I was thinking maybe $w_{initial} = \\tfrac{1}{\\# features}$."
   ]
  },
  {
   "cell_type": "code",
   "execution_count": 45,
   "metadata": {
    "scrolled": false
   },
   "outputs": [],
   "source": [
    "w, loss = logistic_regression(yb_tr,data_tr0,initial_w,2,0.5)"
   ]
  },
  {
   "cell_type": "code",
   "execution_count": 46,
   "metadata": {},
   "outputs": [
    {
     "name": "stdout",
     "output_type": "stream",
     "text": [
      "inf\n"
     ]
    }
   ],
   "source": [
    "print(loss)"
   ]
  },
  {
   "cell_type": "code",
   "execution_count": 47,
   "metadata": {
    "scrolled": true
   },
   "outputs": [
    {
     "name": "stdout",
     "output_type": "stream",
     "text": [
      "[[ 1.25000000e+03 -6.25000000e+03 -6.25000000e+03 ...  1.25000000e+03\n",
      "  -6.25000000e+03  1.25000000e+03]\n",
      " [ 9.23705556e-14 -4.44089210e-13 -4.44089210e-13 ...  9.23705556e-14\n",
      "  -4.44089210e-13  9.23705556e-14]\n",
      " [ 6.44817533e-13 -3.22941673e-12 -3.22941673e-12 ...  6.44817533e-13\n",
      "  -3.22941673e-12  6.44817533e-13]\n",
      " ...\n",
      " [-1.47437618e-13  1.41398004e-12  1.41398004e-12 ... -1.47437618e-13\n",
      "   1.41398004e-12 -1.47437618e-13]\n",
      " [ 1.20259358e-12 -5.28288524e-12 -5.28288524e-12 ...  1.20259358e-12\n",
      "  -5.28288524e-12  1.20259358e-12]\n",
      " [ 1.08002496e-12 -4.89119856e-12 -4.89119856e-12 ...  1.00852660e-12\n",
      "  -4.94271291e-12  1.00852660e-12]]\n"
     ]
    }
   ],
   "source": [
    "print(w)"
   ]
  }
 ],
 "metadata": {
  "anaconda-cloud": {},
  "kernelspec": {
   "display_name": "Python 3",
   "language": "python",
   "name": "python3"
  },
  "language_info": {
   "codemirror_mode": {
    "name": "ipython",
    "version": 3
   },
   "file_extension": ".py",
   "mimetype": "text/x-python",
   "name": "python",
   "nbconvert_exporter": "python",
   "pygments_lexer": "ipython3",
   "version": "3.6.5"
  }
 },
 "nbformat": 4,
 "nbformat_minor": 1
}
