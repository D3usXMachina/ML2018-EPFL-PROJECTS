{
 "cells": [
  {
   "cell_type": "code",
   "execution_count": 1,
   "metadata": {},
   "outputs": [],
   "source": [
    "# Useful starting lines\n",
    "%matplotlib inline\n",
    "import numpy as np\n",
    "import matplotlib.pyplot as plt\n",
    "from implementations import *\n",
    "from proj1_helpers import *\n",
    "%load_ext autoreload\n",
    "%autoreload 2\n",
    "\n",
    "import time"
   ]
  },
  {
   "cell_type": "markdown",
   "metadata": {},
   "source": [
    "**Test of regular training functions**"
   ]
  },
  {
   "cell_type": "code",
   "execution_count": 14,
   "metadata": {},
   "outputs": [],
   "source": [
    "nsamples = 50000\n",
    "nfeatures = 30\n",
    "seed = 20\n",
    "std = 10\n",
    "y,tx,w = generate_bin_data(nsamples,nfeatures,seed,std)\n",
    "loss = compute_loss(y,tx,w,\"log\")"
   ]
  },
  {
   "cell_type": "code",
   "execution_count": 15,
   "metadata": {
    "scrolled": false
   },
   "outputs": [
    {
     "name": "stdout",
     "output_type": "stream",
     "text": [
      "0.4220400000000001\n",
      "[[ 0.1762616 ]\n",
      " [ 0.79542746]\n",
      " [ 0.78306146]\n",
      " [ 0.63167495]\n",
      " [-0.92822083]\n",
      " [ 0.38351516]\n",
      " [-0.24263812]\n",
      " [ 0.03702189]\n",
      " [ 0.31590293]\n",
      " [-0.61229956]\n",
      " [-0.4553672 ]\n",
      " [ 0.43721187]\n",
      " [ 0.56600722]\n",
      " [ 0.70065528]\n",
      " [ 0.55048979]\n",
      " [-0.92667139]\n",
      " [-0.76661253]\n",
      " [ 0.5025614 ]\n",
      " [-0.52156357]\n",
      " [-0.49038797]\n",
      " [ 0.71525106]\n",
      " [ 0.89955805]\n",
      " [ 0.12337372]\n",
      " [-0.64243896]\n",
      " [ 0.54050387]\n",
      " [-0.01523792]\n",
      " [ 0.26250613]\n",
      " [ 0.67899585]\n",
      " [-0.07792121]\n",
      " [-0.00411985]\n",
      " [ 0.35882224]]\n"
     ]
    }
   ],
   "source": [
    "print(loss)\n",
    "print(w)"
   ]
  },
  {
   "cell_type": "code",
   "execution_count": 16,
   "metadata": {},
   "outputs": [],
   "source": [
    "tx = tx[:,1:]"
   ]
  },
  {
   "cell_type": "code",
   "execution_count": 17,
   "metadata": {},
   "outputs": [],
   "source": [
    "tx = poly_expansion(tx, 2, True, True)"
   ]
  },
  {
   "cell_type": "code",
   "execution_count": 20,
   "metadata": {},
   "outputs": [
    {
     "name": "stdout",
     "output_type": "stream",
     "text": [
      "(50000, 931)\n",
      "931\n"
     ]
    }
   ],
   "source": [
    "print(tx.shape)\n",
    "print(30*30+30+1)"
   ]
  },
  {
   "cell_type": "code",
   "execution_count": 21,
   "metadata": {},
   "outputs": [],
   "source": [
    "initial_w = np.zeros([nfeatures+1,1])\n",
    "max_iters = 1000\n",
    "gamma = 0.1"
   ]
  },
  {
   "cell_type": "markdown",
   "metadata": {},
   "source": [
    "Least squares GD"
   ]
  },
  {
   "cell_type": "code",
   "execution_count": 47,
   "metadata": {},
   "outputs": [
    {
     "name": "stdout",
     "output_type": "stream",
     "text": [
      "Terminated least_squares_GD after  139  iterations.\n",
      "Execution time =  0.25521326065063477 s\n"
     ]
    }
   ],
   "source": [
    "start = time.time()\n",
    "w,loss = least_squares_GD(y,tx,initial_w,max_iters,gamma)\n",
    "end = time.time()\n",
    "print(\"Execution time = \",end-start,\"s\")"
   ]
  },
  {
   "cell_type": "code",
   "execution_count": 48,
   "metadata": {
    "scrolled": true
   },
   "outputs": [
    {
     "name": "stdout",
     "output_type": "stream",
     "text": [
      "0.42292\n",
      "[[ 7.56615789e-03]\n",
      " [ 1.51421797e-02]\n",
      " [ 5.17122978e-02]\n",
      " [ 2.92672558e-02]\n",
      " [-3.55065851e-02]\n",
      " [ 2.57122701e-02]\n",
      " [ 1.26466739e-02]\n",
      " [ 3.56001353e-05]\n",
      " [ 4.24455960e-02]\n",
      " [-1.74761305e-02]\n",
      " [-1.93680993e-02]\n",
      " [ 4.40545555e-02]\n",
      " [ 5.04882252e-02]\n",
      " [ 4.34375725e-02]\n",
      " [ 3.55263249e-02]\n",
      " [-5.77199818e-02]\n",
      " [-2.04646026e-02]\n",
      " [ 2.61935964e-02]\n",
      " [-3.45234978e-02]\n",
      " [-2.80410930e-02]\n",
      " [ 4.00575521e-02]\n",
      " [ 2.18675900e-02]\n",
      " [-6.46606878e-03]\n",
      " [-3.06811875e-02]\n",
      " [ 4.41382188e-02]\n",
      " [ 1.38209445e-02]\n",
      " [ 1.56440842e-02]\n",
      " [ 4.35599118e-02]\n",
      " [-1.17345926e-02]\n",
      " [-1.38353476e-02]\n",
      " [ 1.52771409e-02]]\n"
     ]
    }
   ],
   "source": [
    "print(compute_loss(y, tx, w,'log'))\n",
    "print(w)"
   ]
  },
  {
   "cell_type": "markdown",
   "metadata": {},
   "source": [
    "Least squares SGD"
   ]
  },
  {
   "cell_type": "code",
   "execution_count": 51,
   "metadata": {},
   "outputs": [
    {
     "name": "stdout",
     "output_type": "stream",
     "text": [
      "Terminated least_squares_SGD after  99  iterations.\n",
      "Execution time =  0.019011974334716797 s\n"
     ]
    }
   ],
   "source": [
    "start = time.time()\n",
    "w,loss = least_squares_SGD(y,tx,initial_w,10000,gamma)\n",
    "end = time.time()\n",
    "print(\"Execution time = \",end-start,\"s\")"
   ]
  },
  {
   "cell_type": "code",
   "execution_count": 52,
   "metadata": {},
   "outputs": [
    {
     "name": "stdout",
     "output_type": "stream",
     "text": [
      "0.42314\n",
      "[[ 0.03276812]\n",
      " [-0.06433142]\n",
      " [ 0.03118197]\n",
      " [-0.09032684]\n",
      " [-0.01173774]\n",
      " [ 0.06006896]\n",
      " [ 0.04916534]\n",
      " [ 0.02334943]\n",
      " [ 0.03234766]\n",
      " [ 0.04796303]\n",
      " [-0.00117982]\n",
      " [ 0.09113767]\n",
      " [ 0.12663447]\n",
      " [-0.0273359 ]\n",
      " [ 0.12600499]\n",
      " [-0.05557246]\n",
      " [-0.00932897]\n",
      " [ 0.09243668]\n",
      " [ 0.04104187]\n",
      " [-0.12114585]\n",
      " [ 0.08308621]\n",
      " [ 0.10563868]\n",
      " [-0.04125099]\n",
      " [-0.04268297]\n",
      " [ 0.07773246]\n",
      " [-0.1394915 ]\n",
      " [ 0.01784272]\n",
      " [ 0.00464978]\n",
      " [ 0.01349729]\n",
      " [-0.03749372]\n",
      " [ 0.00515157]]\n"
     ]
    }
   ],
   "source": [
    "print(compute_loss(y, tx, w,'log'))\n",
    "print(w)"
   ]
  },
  {
   "cell_type": "markdown",
   "metadata": {},
   "source": [
    "Least squares"
   ]
  },
  {
   "cell_type": "code",
   "execution_count": 53,
   "metadata": {},
   "outputs": [
    {
     "name": "stdout",
     "output_type": "stream",
     "text": [
      "Execution time =  0.01906752586364746 s\n"
     ]
    }
   ],
   "source": [
    "start = time.time()\n",
    "w,loss = least_squares(y, tx)\n",
    "end = time.time()\n",
    "print(\"Execution time = \",end-start,\"s\")"
   ]
  },
  {
   "cell_type": "code",
   "execution_count": 54,
   "metadata": {},
   "outputs": [
    {
     "name": "stdout",
     "output_type": "stream",
     "text": [
      "0.42124\n",
      "[[-6.55115197e-02]\n",
      " [ 2.22668788e-02]\n",
      " [ 7.57476131e-02]\n",
      " [ 4.26000941e-02]\n",
      " [-5.16702434e-02]\n",
      " [ 3.77203864e-02]\n",
      " [ 1.91816700e-02]\n",
      " [ 5.72106217e-05]\n",
      " [ 6.16834646e-02]\n",
      " [-2.51878858e-02]\n",
      " [-2.74618360e-02]\n",
      " [ 6.39543641e-02]\n",
      " [ 7.33123155e-02]\n",
      " [ 6.28497662e-02]\n",
      " [ 5.15755950e-02]\n",
      " [-8.25583047e-02]\n",
      " [-2.88839680e-02]\n",
      " [ 3.87906215e-02]\n",
      " [-4.98191283e-02]\n",
      " [-4.03417582e-02]\n",
      " [ 5.91570080e-02]\n",
      " [ 3.23461396e-02]\n",
      " [-8.47448241e-03]\n",
      " [-4.36612646e-02]\n",
      " [ 6.39448350e-02]\n",
      " [ 1.97631116e-02]\n",
      " [ 2.28211852e-02]\n",
      " [ 6.36018330e-02]\n",
      " [-1.67636277e-02]\n",
      " [-1.99850431e-02]\n",
      " [ 2.34793873e-02]]\n"
     ]
    }
   ],
   "source": [
    "print(compute_loss(y, tx, w,'log'))\n",
    "print(w)"
   ]
  },
  {
   "cell_type": "markdown",
   "metadata": {},
   "source": [
    "Ridge regression"
   ]
  },
  {
   "cell_type": "code",
   "execution_count": 55,
   "metadata": {},
   "outputs": [],
   "source": [
    "lambda_ = 1"
   ]
  },
  {
   "cell_type": "code",
   "execution_count": 56,
   "metadata": {},
   "outputs": [
    {
     "name": "stdout",
     "output_type": "stream",
     "text": [
      "Execution time =  0.0067331790924072266 s\n"
     ]
    }
   ],
   "source": [
    "start = time.time()\n",
    "w,loss = ridge_regression(y, tx, lambda_)\n",
    "end = time.time()\n",
    "print(\"Execution time = \",end-start,\"s\")"
   ]
  },
  {
   "cell_type": "code",
   "execution_count": 57,
   "metadata": {},
   "outputs": [
    {
     "name": "stdout",
     "output_type": "stream",
     "text": [
      "0.4228200000000001\n",
      "[[0.01428077]\n",
      " [0.00773409]\n",
      " [0.00981783]\n",
      " [0.0085559 ]\n",
      " [0.00479252]\n",
      " [0.00837662]\n",
      " [0.00758801]\n",
      " [0.00690233]\n",
      " [0.00932104]\n",
      " [0.00586043]\n",
      " [0.00575732]\n",
      " [0.00942371]\n",
      " [0.0098297 ]\n",
      " [0.00940767]\n",
      " [0.00892908]\n",
      " [0.00349308]\n",
      " [0.00569079]\n",
      " [0.00838318]\n",
      " [0.00489587]\n",
      " [0.00524245]\n",
      " [0.00916573]\n",
      " [0.00812286]\n",
      " [0.00645829]\n",
      " [0.00507424]\n",
      " [0.00944579]\n",
      " [0.00767406]\n",
      " [0.00778345]\n",
      " [0.00939163]\n",
      " [0.00619175]\n",
      " [0.00607977]\n",
      " [0.00769429]]\n"
     ]
    }
   ],
   "source": [
    "print(compute_loss(y, tx, w,'log'))\n",
    "print(w)"
   ]
  },
  {
   "cell_type": "markdown",
   "metadata": {},
   "source": [
    "Logistic Regression"
   ]
  },
  {
   "cell_type": "code",
   "execution_count": 58,
   "metadata": {},
   "outputs": [
    {
     "name": "stdout",
     "output_type": "stream",
     "text": [
      "Execution time =  2.1895809173583984 s\n"
     ]
    }
   ],
   "source": [
    "start = time.time()\n",
    "w,loss = logistic_regression(y, tx, initial_w, max_iters, gamma)\n",
    "end = time.time()\n",
    "print(\"Execution time = \",end-start,\"s\")"
   ]
  },
  {
   "cell_type": "code",
   "execution_count": 59,
   "metadata": {},
   "outputs": [
    {
     "name": "stdout",
     "output_type": "stream",
     "text": [
      "0.4939200000000001\n",
      "[[-4573.77696557]\n",
      " [  439.25031905]\n",
      " [ 1671.34528355]\n",
      " [  902.93049902]\n",
      " [-1269.94317535]\n",
      " [  803.15089722]\n",
      " [  373.26241927]\n",
      " [  -70.53323746]\n",
      " [ 1355.29055389]\n",
      " [ -657.1444643 ]\n",
      " [ -712.75213673]\n",
      " [ 1398.86852266]\n",
      " [ 1628.04472357]\n",
      " [ 1383.5564438 ]\n",
      " [ 1123.54929705]\n",
      " [-1971.64007251]\n",
      " [ -743.52890177]\n",
      " [  833.11272665]\n",
      " [-1227.31004297]\n",
      " [-1006.98932953]\n",
      " [ 1302.88278172]\n",
      " [  681.1808689 ]\n",
      " [ -270.21007863]\n",
      " [-1086.55376691]\n",
      " [ 1400.75694604]\n",
      " [  382.80052575]\n",
      " [  447.01736519]\n",
      " [ 1404.93351888]\n",
      " [ -456.49024192]\n",
      " [ -531.19463378]\n",
      " [  464.8728527 ]]\n"
     ]
    }
   ],
   "source": [
    "print(compute_loss(y, tx, w,'log'))\n",
    "print(w)"
   ]
  },
  {
   "cell_type": "markdown",
   "metadata": {},
   "source": [
    "Regularized Logistic Regression"
   ]
  },
  {
   "cell_type": "code",
   "execution_count": 61,
   "metadata": {},
   "outputs": [
    {
     "name": "stdout",
     "output_type": "stream",
     "text": [
      "Execution time =  2.2424869537353516 s\n"
     ]
    }
   ],
   "source": [
    "start = time.time()\n",
    "w,loss = reg_logistic_regression(y, tx, lambda_ ,initial_w, max_iters, gamma)\n",
    "end = time.time()\n",
    "print(\"Execution time = \",end-start,\"s\")"
   ]
  },
  {
   "cell_type": "code",
   "execution_count": 62,
   "metadata": {},
   "outputs": [
    {
     "name": "stdout",
     "output_type": "stream",
     "text": [
      "0.57718\n",
      "[[-873.22501765]\n",
      " [-349.43556253]\n",
      " [-176.83406141]\n",
      " [-281.40989336]\n",
      " [-586.72098916]\n",
      " [-302.73179968]\n",
      " [-364.9235337 ]\n",
      " [-422.94262943]\n",
      " [-219.81159121]\n",
      " [-505.95358578]\n",
      " [-515.54773856]\n",
      " [-212.41753803]\n",
      " [-185.2441843 ]\n",
      " [-217.33218187]\n",
      " [-253.59351433]\n",
      " [-695.34146281]\n",
      " [-520.76210891]\n",
      " [-300.25440617]\n",
      " [-587.32877586]\n",
      " [-555.71385282]\n",
      " [-233.94831363]\n",
      " [-318.55838798]\n",
      " [-452.9512098 ]\n",
      " [-568.3116537 ]\n",
      " [-213.09403698]\n",
      " [-354.85400829]\n",
      " [-348.33301964]\n",
      " [-216.25449162]\n",
      " [-477.06500134]\n",
      " [-488.55085603]\n",
      " [-350.28035759]]\n"
     ]
    }
   ],
   "source": [
    "print(compute_loss(y, tx, w,'log'))\n",
    "print(w)"
   ]
  },
  {
   "cell_type": "markdown",
   "metadata": {},
   "source": [
    "Stochastic regularized Logistic Regression"
   ]
  },
  {
   "cell_type": "code",
   "execution_count": 70,
   "metadata": {},
   "outputs": [
    {
     "name": "stdout",
     "output_type": "stream",
     "text": [
      "Execution time =  2.3909947872161865 s\n"
     ]
    }
   ],
   "source": [
    "batch_size = 10\n",
    "start = time.time()\n",
    "w,loss = my_stoch_logistic_regression(y, tx, initial_w, max_iters, gamma, batch_size, \"log\", lambda_=0, eps=1e-1)\n",
    "end = time.time()\n",
    "print(\"Execution time = \",end-start,\"s\")"
   ]
  },
  {
   "cell_type": "code",
   "execution_count": 71,
   "metadata": {},
   "outputs": [
    {
     "name": "stdout",
     "output_type": "stream",
     "text": [
      "0.4394\n",
      "[[-416.00125638]\n",
      " [  51.89554091]\n",
      " [ 171.80413891]\n",
      " [  96.77935575]\n",
      " [-114.97461932]\n",
      " [  87.45372182]\n",
      " [  45.08978716]\n",
      " [   1.04649537]\n",
      " [ 140.87828362]\n",
      " [ -55.04976754]\n",
      " [ -60.52591295]\n",
      " [ 146.06546734]\n",
      " [ 167.08266243]\n",
      " [ 143.63526444]\n",
      " [ 117.62254721]\n",
      " [-184.70458772]\n",
      " [ -63.94035047]\n",
      " [  89.1775153 ]\n",
      " [-112.02517161]\n",
      " [ -90.27686405]\n",
      " [ 135.41394236]\n",
      " [  75.16661056]\n",
      " [ -17.63051165]\n",
      " [ -97.91227243]\n",
      " [ 145.59634985]\n",
      " [  46.18438208]\n",
      " [  52.48075721]\n",
      " [ 145.55430735]\n",
      " [ -35.96659224]\n",
      " [ -43.51156378]\n",
      " [  54.76533247]]\n"
     ]
    }
   ],
   "source": [
    "print(compute_loss(y, tx, w,'log'))\n",
    "print(w)"
   ]
  },
  {
   "cell_type": "markdown",
   "metadata": {},
   "source": [
    "**Test of Logistic Regression on actual data**"
   ]
  },
  {
   "cell_type": "code",
   "execution_count": 77,
   "metadata": {},
   "outputs": [],
   "source": [
    "path_tr = \"../data/train.csv\"\n",
    "yb_tr, data_tr, ids_tr = load_csv_data(path_tr,False)"
   ]
  },
  {
   "cell_type": "code",
   "execution_count": 78,
   "metadata": {
    "scrolled": true
   },
   "outputs": [],
   "source": [
    "data_tr0, mean_tr, std_tr = standardize(data_tr)\n",
    "data_tr0 = add_constant(data_tr0)"
   ]
  },
  {
   "cell_type": "code",
   "execution_count": 79,
   "metadata": {},
   "outputs": [],
   "source": [
    "nfeatures = data_tr0.shape[1]\n",
    "initial_w = np.ones([nfeatures,1])/nfeatures"
   ]
  },
  {
   "cell_type": "markdown",
   "metadata": {},
   "source": [
    "Since the features can have numeric values in whatever range, $exp(X^\\top\\,w)$ can be very large when chosing $w_{initial}=1$ (or any other finite value), resulting in $\\sigma=1$. On the other hand chosing $w_{initial}=0$ results in $\\sigma=0.5$.\n",
    "Not sure though whether that actually has an influence on the stability of the method.\n",
    "On a second thought, standardisation or normalisation would actually make it reasonable to use a finite $w_{initial}$. I was thinking maybe $w_{initial} = \\tfrac{1}{\\# features}$."
   ]
  },
  {
   "cell_type": "code",
   "execution_count": 80,
   "metadata": {
    "scrolled": false
   },
   "outputs": [],
   "source": [
    "w, loss = logistic_regression(yb_tr,data_tr0,initial_w,max_iters,0.2)"
   ]
  },
  {
   "cell_type": "code",
   "execution_count": 81,
   "metadata": {
    "scrolled": true
   },
   "outputs": [
    {
     "name": "stdout",
     "output_type": "stream",
     "text": [
      "0.2975199999999999\n",
      "[[-2.33442832e+07]\n",
      " [ 7.94623610e+06]\n",
      " [-9.26840120e+06]\n",
      " [-9.56443613e+05]\n",
      " [ 2.45844934e+06]\n",
      " [ 1.12675666e+05]\n",
      " [ 1.90648523e+06]\n",
      " [ 7.63687507e+04]\n",
      " [ 3.67298270e+06]\n",
      " [-9.42630850e+05]\n",
      " [ 5.02813322e+05]\n",
      " [-3.79754805e+06]\n",
      " [ 5.20118195e+06]\n",
      " [ 1.02676813e+05]\n",
      " [ 3.27850623e+06]\n",
      " [-2.54173419e+04]\n",
      " [-9.88946817e+04]\n",
      " [-1.23959790e+05]\n",
      " [-6.14737109e+03]\n",
      " [ 4.42328464e+04]\n",
      " [-1.43877942e+06]\n",
      " [ 8.45614235e+04]\n",
      " [ 1.66554932e+05]\n",
      " [-2.70457162e+05]\n",
      " [ 1.31175150e+06]\n",
      " [ 1.27529404e+06]\n",
      " [ 1.27549556e+06]\n",
      " [ 5.15947235e+04]\n",
      " [ 9.98707569e+04]\n",
      " [ 9.96238520e+04]\n",
      " [-1.28187363e+05]]\n"
     ]
    }
   ],
   "source": [
    "print(loss)\n",
    "print(w)"
   ]
  },
  {
   "cell_type": "code",
   "execution_count": 84,
   "metadata": {
    "scrolled": false
   },
   "outputs": [],
   "source": [
    "w, loss = reg_logistic_regression(yb_tr,data_tr0,1,initial_w,max_iters,0.2)"
   ]
  },
  {
   "cell_type": "code",
   "execution_count": 85,
   "metadata": {
    "scrolled": false
   },
   "outputs": [
    {
     "name": "stdout",
     "output_type": "stream",
     "text": [
      "0.31354799999999994\n",
      "[[-1.22676709e+05]\n",
      " [ 3.74880448e+04]\n",
      " [-4.69533429e+04]\n",
      " [-3.27429318e+03]\n",
      " [ 1.02134583e+04]\n",
      " [-3.83339757e+03]\n",
      " [ 7.13302459e+03]\n",
      " [-4.04353031e+03]\n",
      " [ 1.96412098e+04]\n",
      " [-9.36516805e+03]\n",
      " [-2.90433059e+02]\n",
      " [-2.39592936e+04]\n",
      " [ 2.44817466e+04]\n",
      " [-3.89141842e+03]\n",
      " [ 2.13530628e+04]\n",
      " [-2.93264029e+02]\n",
      " [-6.19251874e+02]\n",
      " [-3.49767635e+03]\n",
      " [-7.49404688e+01]\n",
      " [ 4.34500428e+02]\n",
      " [-8.32906499e+03]\n",
      " [ 4.99690353e+02]\n",
      " [-2.12980571e+03]\n",
      " [-6.07101449e+03]\n",
      " [ 4.45896342e+03]\n",
      " [ 4.38184919e+03]\n",
      " [ 4.38167909e+03]\n",
      " [-4.15334004e+03]\n",
      " [-3.90730062e+03]\n",
      " [-3.90883202e+03]\n",
      " [-4.43801773e+03]]\n"
     ]
    }
   ],
   "source": [
    "print(loss)\n",
    "print(w)"
   ]
  },
  {
   "cell_type": "markdown",
   "metadata": {},
   "source": [
    "TODO:\n",
    "- bias_variance_decomposition\n",
    "- cross_validation\n",
    "- again test all methods\n",
    "- prepare script run.py\n",
    "- optimize end condition log reg\n",
    "\n",
    "TEST:\n",
    "\n",
    "Trainers\n",
    "\n",
    "- my_least_squares_GD\n",
    "- my_least_squares_SGD\n",
    "- my_least_squares\n",
    "- my_ridge_regression\n",
    "- my_logistic_regression\n",
    "- my_reg_logistic_regression\n",
    "- my_stoch_logistic_regression\n",
    "\n",
    "Utility functions for trainers\n",
    "\n",
    "- compute_gradient\n",
    "- compute_sigma\n",
    "- batch_iter\n",
    "\n",
    "Loss functions\n",
    "\n",
    "- compute_loss"
   ]
  },
  {
   "cell_type": "code",
   "execution_count": null,
   "metadata": {},
   "outputs": [],
   "source": []
  }
 ],
 "metadata": {
  "anaconda-cloud": {},
  "kernelspec": {
   "display_name": "Python 3",
   "language": "python",
   "name": "python3"
  },
  "language_info": {
   "codemirror_mode": {
    "name": "ipython",
    "version": 3
   },
   "file_extension": ".py",
   "mimetype": "text/x-python",
   "name": "python",
   "nbconvert_exporter": "python",
   "pygments_lexer": "ipython3",
   "version": "3.6.5"
  }
 },
 "nbformat": 4,
 "nbformat_minor": 1
}
