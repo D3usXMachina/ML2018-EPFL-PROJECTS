{
 "cells": [
  {
   "cell_type": "code",
   "execution_count": 131,
   "metadata": {},
   "outputs": [
    {
     "name": "stdout",
     "output_type": "stream",
     "text": [
      "The autoreload extension is already loaded. To reload it, use:\n",
      "  %reload_ext autoreload\n"
     ]
    }
   ],
   "source": [
    "# Useful starting lines\n",
    "%matplotlib inline\n",
    "import numpy as np\n",
    "import matplotlib.pyplot as plt\n",
    "from implementations import *\n",
    "from proj1_helpers import *\n",
    "%load_ext autoreload\n",
    "%autoreload 2"
   ]
  },
  {
   "cell_type": "markdown",
   "metadata": {},
   "source": [
    "**Test of regular training functions**"
   ]
  },
  {
   "cell_type": "code",
   "execution_count": 72,
   "metadata": {},
   "outputs": [],
   "source": [
    "nsamples = 1000\n",
    "nfeatures = 20\n",
    "seed = 20\n",
    "std = 0.1\n",
    "y,tx,w = generate_data(nsamples,nfeatures,seed,std)\n",
    "loss = compute_loss(y,tx,w)"
   ]
  },
  {
   "cell_type": "code",
   "execution_count": 73,
   "metadata": {},
   "outputs": [
    {
     "name": "stdout",
     "output_type": "stream",
     "text": [
      "0.005309625925735089\n",
      "[[0.5881308 ]\n",
      " [0.89771373]\n",
      " [0.89153073]\n",
      " [0.81583748]\n",
      " [0.03588959]\n",
      " [0.69175758]\n",
      " [0.37868094]\n",
      " [0.51851095]\n",
      " [0.65795147]\n",
      " [0.19385022]\n",
      " [0.2723164 ]\n",
      " [0.71860593]\n",
      " [0.78300361]\n",
      " [0.85032764]\n",
      " [0.77524489]\n",
      " [0.03666431]\n",
      " [0.11669374]\n",
      " [0.7512807 ]\n",
      " [0.23921822]\n",
      " [0.25480601]\n",
      " [0.85762553]]\n"
     ]
    }
   ],
   "source": [
    "print(loss)\n",
    "print(w)"
   ]
  },
  {
   "cell_type": "code",
   "execution_count": 74,
   "metadata": {},
   "outputs": [],
   "source": [
    "initial_w = np.zeros([nfeatures+1,1])\n",
    "max_iters = 1000\n",
    "gamma = 0.1"
   ]
  },
  {
   "cell_type": "markdown",
   "metadata": {},
   "source": [
    "Least squares GD"
   ]
  },
  {
   "cell_type": "code",
   "execution_count": 75,
   "metadata": {},
   "outputs": [],
   "source": [
    "w,loss = least_squares_GD(y,tx,initial_w,max_iters,gamma)"
   ]
  },
  {
   "cell_type": "code",
   "execution_count": 76,
   "metadata": {},
   "outputs": [
    {
     "name": "stdout",
     "output_type": "stream",
     "text": [
      "0.0052593447826233585\n",
      "[[0.6890661 ]\n",
      " [0.87512541]\n",
      " [0.88846579]\n",
      " [0.81566863]\n",
      " [0.01444484]\n",
      " [0.68646149]\n",
      " [0.38430377]\n",
      " [0.52174775]\n",
      " [0.65213307]\n",
      " [0.17469574]\n",
      " [0.24988232]\n",
      " [0.71191271]\n",
      " [0.76128226]\n",
      " [0.85666565]\n",
      " [0.76935158]\n",
      " [0.01784878]\n",
      " [0.11764169]\n",
      " [0.72330248]\n",
      " [0.2260221 ]\n",
      " [0.24789811]\n",
      " [0.84770479]]\n"
     ]
    }
   ],
   "source": [
    "print(loss)\n",
    "print(w)"
   ]
  },
  {
   "cell_type": "markdown",
   "metadata": {},
   "source": [
    "Least squares SGD"
   ]
  },
  {
   "cell_type": "code",
   "execution_count": 77,
   "metadata": {},
   "outputs": [],
   "source": [
    "batch_size = 5"
   ]
  },
  {
   "cell_type": "code",
   "execution_count": 78,
   "metadata": {},
   "outputs": [],
   "source": [
    "w,loss = least_squares_SGD(y,tx,initial_w,max_iters,gamma,batch_size)"
   ]
  },
  {
   "cell_type": "code",
   "execution_count": 79,
   "metadata": {},
   "outputs": [
    {
     "name": "stdout",
     "output_type": "stream",
     "text": [
      "0.005443839601445151\n",
      "[[0.69255826]\n",
      " [0.87863503]\n",
      " [0.89415912]\n",
      " [0.82099462]\n",
      " [0.00597278]\n",
      " [0.68762262]\n",
      " [0.38623202]\n",
      " [0.51888116]\n",
      " [0.65084684]\n",
      " [0.17260222]\n",
      " [0.26018386]\n",
      " [0.70635302]\n",
      " [0.77162842]\n",
      " [0.86587718]\n",
      " [0.76683629]\n",
      " [0.02233551]\n",
      " [0.11459682]\n",
      " [0.72804092]\n",
      " [0.22694495]\n",
      " [0.23968123]\n",
      " [0.85211246]]\n"
     ]
    }
   ],
   "source": [
    "print(loss)\n",
    "print(w)"
   ]
  },
  {
   "cell_type": "markdown",
   "metadata": {},
   "source": [
    "Least squares"
   ]
  },
  {
   "cell_type": "code",
   "execution_count": 80,
   "metadata": {},
   "outputs": [],
   "source": [
    "w,loss = least_squares(y, tx)"
   ]
  },
  {
   "cell_type": "code",
   "execution_count": 81,
   "metadata": {},
   "outputs": [
    {
     "name": "stdout",
     "output_type": "stream",
     "text": [
      "0.005208633401473409\n",
      "[[0.61337157]\n",
      " [0.88092768]\n",
      " [0.89584667]\n",
      " [0.82287565]\n",
      " [0.02268107]\n",
      " [0.69495938]\n",
      " [0.39151281]\n",
      " [0.52983978]\n",
      " [0.65975028]\n",
      " [0.18017287]\n",
      " [0.25853949]\n",
      " [0.7189675 ]\n",
      " [0.76643704]\n",
      " [0.86417657]\n",
      " [0.77688533]\n",
      " [0.02612297]\n",
      " [0.12626421]\n",
      " [0.73099478]\n",
      " [0.23291732]\n",
      " [0.25594072]\n",
      " [0.8552125 ]]\n"
     ]
    }
   ],
   "source": [
    "print(loss)\n",
    "print(w)"
   ]
  },
  {
   "cell_type": "markdown",
   "metadata": {},
   "source": [
    "Ridge regression"
   ]
  },
  {
   "cell_type": "code",
   "execution_count": 82,
   "metadata": {},
   "outputs": [],
   "source": [
    "lambda_ = 0.1"
   ]
  },
  {
   "cell_type": "code",
   "execution_count": 83,
   "metadata": {},
   "outputs": [],
   "source": [
    "w,loss = ridge_regression(y, tx, lambda_)"
   ]
  },
  {
   "cell_type": "code",
   "execution_count": 84,
   "metadata": {},
   "outputs": [
    {
     "name": "stdout",
     "output_type": "stream",
     "text": [
      "0.06267882577209904\n",
      "[[0.9142397 ]\n",
      " [0.58544917]\n",
      " [0.58923816]\n",
      " [0.57562004]\n",
      " [0.35012217]\n",
      " [0.52174881]\n",
      " [0.42938352]\n",
      " [0.48052005]\n",
      " [0.53178707]\n",
      " [0.3871863 ]\n",
      " [0.41844349]\n",
      " [0.51696615]\n",
      " [0.55292467]\n",
      " [0.59353327]\n",
      " [0.55153101]\n",
      " [0.33768782]\n",
      " [0.35578199]\n",
      " [0.54248559]\n",
      " [0.4066689 ]\n",
      " [0.41550889]\n",
      " [0.56563421]]\n"
     ]
    }
   ],
   "source": [
    "print(loss)\n",
    "print(w)"
   ]
  },
  {
   "cell_type": "markdown",
   "metadata": {},
   "source": [
    "**Test of Logistic Regression on actual data**"
   ]
  },
  {
   "cell_type": "code",
   "execution_count": 144,
   "metadata": {},
   "outputs": [],
   "source": [
    "path_tr = \"../data/train.csv\"\n",
    "yb_tr, data_tr, ids_tr = load_csv_data(path_tr,True)"
   ]
  },
  {
   "cell_type": "code",
   "execution_count": 145,
   "metadata": {
    "scrolled": true
   },
   "outputs": [],
   "source": [
    "data_tr0, mean_tr, std_tr = standardize(data_tr)\n",
    "data_tr0 = add_constant(data_tr0)"
   ]
  },
  {
   "cell_type": "code",
   "execution_count": 149,
   "metadata": {},
   "outputs": [],
   "source": [
    "nfeatures = data_tr0.shape[1]\n",
    "initial_w = np.ones([nfeatures,1])/nfeatures"
   ]
  },
  {
   "cell_type": "markdown",
   "metadata": {},
   "source": [
    "Since the features can have numeric values in whatever range, $exp(X^\\top\\,w)$ can be very large when chosing $w_{initial}=1$ (or any other finite value), resulting in $\\sigma=1$. On the other hand chosing $w_{initial}=0$ results in $\\sigma=0.5$.\n",
    "Not sure though whether that actually has an influence on the stability of the method.\n",
    "On a second thought, standardisation or normalisation would actually make it reasonable to use a finite $w_{initial}$. I was thinking maybe $w_{initial} = \\tfrac{1}{\\# features}$."
   ]
  },
  {
   "cell_type": "code",
   "execution_count": 150,
   "metadata": {
    "scrolled": false
   },
   "outputs": [
    {
     "name": "stdout",
     "output_type": "stream",
     "text": [
      "y\n",
      "(5000, 1)\n",
      "grad\n",
      "(5000, 1)\n",
      "s\n",
      "(5000, 1)\n",
      "grad H\n",
      "(31, 1)\n",
      "y\n",
      "(5000, 1)\n",
      "grad\n",
      "(5000, 1)\n",
      "s\n",
      "(5000, 1)\n",
      "grad H\n",
      "(31, 1)\n"
     ]
    }
   ],
   "source": [
    "w, loss = logistic_regression(yb_tr,data_tr0,initial_w,2,0.5,\"newton\",0.5)"
   ]
  },
  {
   "cell_type": "code",
   "execution_count": 160,
   "metadata": {
    "scrolled": true
   },
   "outputs": [
    {
     "name": "stdout",
     "output_type": "stream",
     "text": [
      "[[1. 0. 1. ... 0. 0. 1.]]\n"
     ]
    }
   ],
   "source": [
    "print(compute_sigma(data_tr0,w).transpose())"
   ]
  },
  {
   "cell_type": "code",
   "execution_count": 155,
   "metadata": {
    "scrolled": false
   },
   "outputs": [
    {
     "name": "stdout",
     "output_type": "stream",
     "text": [
      "inf\n",
      "[[ 1.43892673e+06]\n",
      " [ 4.12273055e+05]\n",
      " [ 8.24748343e+05]\n",
      " [-1.49422980e+05]\n",
      " [ 5.88307643e+05]\n",
      " [-5.83935104e+07]\n",
      " [ 6.86329310e+05]\n",
      " [ 7.62714296e+07]\n",
      " [ 7.69862697e+04]\n",
      " [-2.01373013e+05]\n",
      " [-1.81283781e+12]\n",
      " [-4.10991480e+05]\n",
      " [-4.45450469e+05]\n",
      " [-6.12638859e+07]\n",
      " [ 3.24556560e+11]\n",
      " [-4.55517026e+05]\n",
      " [-6.08351225e+03]\n",
      " [ 3.28106880e+11]\n",
      " [ 3.81893600e+05]\n",
      " [-3.98182805e+04]\n",
      " [ 1.30627243e+04]\n",
      " [-5.65575823e+04]\n",
      " [ 2.03031455e+05]\n",
      " [ 7.89521002e+05]\n",
      " [-4.32301295e+06]\n",
      " [ 2.44193373e+06]\n",
      " [ 1.51819419e+06]\n",
      " [ 2.61247322e+06]\n",
      " [ 2.58791371e+07]\n",
      " [ 1.34497711e+07]\n",
      " [ 1.55512626e+12]]\n"
     ]
    }
   ],
   "source": [
    "print(loss)\n",
    "print(w)"
   ]
  },
  {
   "cell_type": "code",
   "execution_count": 27,
   "metadata": {},
   "outputs": [],
   "source": [
    "path_te = \"../data/train.csv\"\n",
    "yb_te, data_te, ids_te = load_csv_data(path_te,True)"
   ]
  }
 ],
 "metadata": {
  "anaconda-cloud": {},
  "kernelspec": {
   "display_name": "Python 3",
   "language": "python",
   "name": "python3"
  },
  "language_info": {
   "codemirror_mode": {
    "name": "ipython",
    "version": 3
   },
   "file_extension": ".py",
   "mimetype": "text/x-python",
   "name": "python",
   "nbconvert_exporter": "python",
   "pygments_lexer": "ipython3",
   "version": "3.6.5"
  }
 },
 "nbformat": 4,
 "nbformat_minor": 1
}
