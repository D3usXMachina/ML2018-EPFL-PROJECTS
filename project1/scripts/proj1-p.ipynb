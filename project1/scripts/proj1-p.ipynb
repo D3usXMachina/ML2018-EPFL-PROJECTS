{
 "cells": [
  {
   "cell_type": "code",
   "execution_count": 1,
   "metadata": {},
   "outputs": [],
   "source": [
    "# Useful starting lines\n",
    "%matplotlib inline\n",
    "import numpy as np\n",
    "import matplotlib.pyplot as plt\n",
    "from implementations import *\n",
    "from proj1_helpers import *\n",
    "%load_ext autoreload\n",
    "%autoreload 2"
   ]
  },
  {
   "cell_type": "markdown",
   "metadata": {},
   "source": [
    "**Test of regular training functions**"
   ]
  },
  {
   "cell_type": "code",
   "execution_count": 2,
   "metadata": {},
   "outputs": [],
   "source": [
    "nsamples = 1000\n",
    "nfeatures = 20\n",
    "seed = 20\n",
    "std = 0.1\n",
    "y,tx,w = generate_data(nsamples,nfeatures,seed,std)\n",
    "loss = compute_loss(y,tx,w)"
   ]
  },
  {
   "cell_type": "code",
   "execution_count": 3,
   "metadata": {
    "scrolled": true
   },
   "outputs": [
    {
     "name": "stdout",
     "output_type": "stream",
     "text": [
      "0.005309625925735089\n",
      "[[ 0.1762616 ]\n",
      " [ 0.79542746]\n",
      " [ 0.78306146]\n",
      " [ 0.63167495]\n",
      " [-0.92822083]\n",
      " [ 0.38351516]\n",
      " [-0.24263812]\n",
      " [ 0.03702189]\n",
      " [ 0.31590293]\n",
      " [-0.61229956]\n",
      " [-0.4553672 ]\n",
      " [ 0.43721187]\n",
      " [ 0.56600722]\n",
      " [ 0.70065528]\n",
      " [ 0.55048979]\n",
      " [-0.92667139]\n",
      " [-0.76661253]\n",
      " [ 0.5025614 ]\n",
      " [-0.52156357]\n",
      " [-0.49038797]\n",
      " [ 0.71525106]]\n"
     ]
    }
   ],
   "source": [
    "print(loss)\n",
    "print(w)"
   ]
  },
  {
   "cell_type": "code",
   "execution_count": 4,
   "metadata": {},
   "outputs": [],
   "source": [
    "initial_w = np.zeros([nfeatures+1,1])\n",
    "max_iters = 100000\n",
    "gamma = 0.1"
   ]
  },
  {
   "cell_type": "markdown",
   "metadata": {},
   "source": [
    "Least squares GD"
   ]
  },
  {
   "cell_type": "code",
   "execution_count": 5,
   "metadata": {},
   "outputs": [
    {
     "name": "stdout",
     "output_type": "stream",
     "text": [
      "Terminated least_squares_GD after  589  iterations.\n"
     ]
    }
   ],
   "source": [
    "w,loss = least_squares_GD(y,tx,initial_w,max_iters,gamma)"
   ]
  },
  {
   "cell_type": "code",
   "execution_count": 6,
   "metadata": {},
   "outputs": [
    {
     "name": "stdout",
     "output_type": "stream",
     "text": [
      "0.005263113775547522\n",
      "[[ 0.15483312]\n",
      " [ 0.77521245]\n",
      " [ 0.78409973]\n",
      " [ 0.63694343]\n",
      " [-0.92573112]\n",
      " [ 0.3872494 ]\n",
      " [-0.22861084]\n",
      " [ 0.05145808]\n",
      " [ 0.32834661]\n",
      " [-0.61536715]\n",
      " [-0.45421206]\n",
      " [ 0.43222627]\n",
      " [ 0.54526185]\n",
      " [ 0.71506445]\n",
      " [ 0.55147459]\n",
      " [-0.92010031]\n",
      " [-0.74650163]\n",
      " [ 0.4862108 ]\n",
      " [-0.51670025]\n",
      " [-0.47710491]\n",
      " [ 0.71034127]]\n"
     ]
    }
   ],
   "source": [
    "print(loss)\n",
    "print(w)"
   ]
  },
  {
   "cell_type": "markdown",
   "metadata": {},
   "source": [
    "Least squares SGD"
   ]
  },
  {
   "cell_type": "code",
   "execution_count": 7,
   "metadata": {},
   "outputs": [
    {
     "name": "stdout",
     "output_type": "stream",
     "text": [
      "Terminated least_squares_SGD after  599  iterations.\n"
     ]
    }
   ],
   "source": [
    "w,loss = least_squares_SGD(y,tx,initial_w,10000,gamma)"
   ]
  },
  {
   "cell_type": "code",
   "execution_count": 8,
   "metadata": {},
   "outputs": [
    {
     "name": "stdout",
     "output_type": "stream",
     "text": [
      "0.00594309918821907\n",
      "[[ 0.18034311]\n",
      " [ 0.77059666]\n",
      " [ 0.78607342]\n",
      " [ 0.62818267]\n",
      " [-0.93924056]\n",
      " [ 0.38074666]\n",
      " [-0.21715287]\n",
      " [ 0.05141713]\n",
      " [ 0.33083564]\n",
      " [-0.6170471 ]\n",
      " [-0.44230045]\n",
      " [ 0.43335394]\n",
      " [ 0.54072466]\n",
      " [ 0.71553842]\n",
      " [ 0.56287622]\n",
      " [-0.92082503]\n",
      " [-0.73391364]\n",
      " [ 0.48949539]\n",
      " [-0.50896692]\n",
      " [-0.48236113]\n",
      " [ 0.71326105]]\n"
     ]
    }
   ],
   "source": [
    "print(loss)\n",
    "print(w)"
   ]
  },
  {
   "cell_type": "markdown",
   "metadata": {},
   "source": [
    "Least squares"
   ]
  },
  {
   "cell_type": "code",
   "execution_count": 9,
   "metadata": {},
   "outputs": [],
   "source": [
    "w,loss = least_squares(y, tx)"
   ]
  },
  {
   "cell_type": "code",
   "execution_count": 10,
   "metadata": {},
   "outputs": [
    {
     "name": "stdout",
     "output_type": "stream",
     "text": [
      "0.005208633401473408\n",
      "[[ 0.20150237]\n",
      " [ 0.77864141]\n",
      " [ 0.7873774 ]\n",
      " [ 0.63871312]\n",
      " [-0.94142934]\n",
      " [ 0.38671696]\n",
      " [-0.22980625]\n",
      " [ 0.04835073]\n",
      " [ 0.31770175]\n",
      " [-0.62597692]\n",
      " [-0.4691441 ]\n",
      " [ 0.43757343]\n",
      " [ 0.54944065]\n",
      " [ 0.71450421]\n",
      " [ 0.55213022]\n",
      " [-0.93721272]\n",
      " [-0.75704205]\n",
      " [ 0.48227548]\n",
      " [-0.52786446]\n",
      " [-0.48925327]\n",
      " [ 0.71283803]]\n"
     ]
    }
   ],
   "source": [
    "print(loss)\n",
    "print(w)"
   ]
  },
  {
   "cell_type": "markdown",
   "metadata": {},
   "source": [
    "Ridge regression"
   ]
  },
  {
   "cell_type": "code",
   "execution_count": 11,
   "metadata": {},
   "outputs": [],
   "source": [
    "lambda_ = 0.0001"
   ]
  },
  {
   "cell_type": "code",
   "execution_count": 12,
   "metadata": {},
   "outputs": [],
   "source": [
    "w,loss = ridge_regression(y, tx, lambda_)"
   ]
  },
  {
   "cell_type": "code",
   "execution_count": 13,
   "metadata": {},
   "outputs": [
    {
     "name": "stdout",
     "output_type": "stream",
     "text": [
      "0.005210508424564729\n",
      "[[ 0.20013947]\n",
      " [ 0.77695313]\n",
      " [ 0.78568382]\n",
      " [ 0.63736215]\n",
      " [-0.93871185]\n",
      " [ 0.38592071]\n",
      " [-0.22928267]\n",
      " [ 0.04840484]\n",
      " [ 0.31764339]\n",
      " [-0.62408123]\n",
      " [-0.46742257]\n",
      " [ 0.43642401]\n",
      " [ 0.54821894]\n",
      " [ 0.71315937]\n",
      " [ 0.55107625]\n",
      " [-0.93440663]\n",
      " [-0.75498797]\n",
      " [ 0.48153747]\n",
      " [-0.52622629]\n",
      " [-0.48756298]\n",
      " [ 0.71133883]]\n"
     ]
    }
   ],
   "source": [
    "print(loss)\n",
    "print(w)"
   ]
  },
  {
   "cell_type": "markdown",
   "metadata": {},
   "source": [
    "**Test of Logistic Regression on actual data**"
   ]
  },
  {
   "cell_type": "code",
   "execution_count": 63,
   "metadata": {},
   "outputs": [],
   "source": [
    "path_tr = \"../data/train.csv\"\n",
    "yb_tr, data_tr, ids_tr = load_csv_data(path_tr,True)"
   ]
  },
  {
   "cell_type": "code",
   "execution_count": 69,
   "metadata": {
    "scrolled": false
   },
   "outputs": [],
   "source": [
    "data_tr0, mean_tr, std_tr = standardize(data_tr)\n",
    "data_tr0 = add_constant(data_tr0)"
   ]
  },
  {
   "cell_type": "code",
   "execution_count": 70,
   "metadata": {},
   "outputs": [],
   "source": [
    "nfeatures = data_tr0.shape[1]\n",
    "initial_w = np.ones([nfeatures,1])/nfeatures"
   ]
  },
  {
   "cell_type": "markdown",
   "metadata": {},
   "source": [
    "Since the features can have numeric values in whatever range, $exp(X^\\top\\,w)$ can be very large when chosing $w_{initial}=1$ (or any other finite value), resulting in $\\sigma=1$. On the other hand chosing $w_{initial}=0$ results in $\\sigma=0.5$.\n",
    "Not sure though whether that actually has an influence on the stability of the method.\n",
    "On a second thought, standardisation or normalisation would actually make it reasonable to use a finite $w_{initial}$. I was thinking maybe $w_{initial} = \\tfrac{1}{\\# features}$."
   ]
  },
  {
   "cell_type": "code",
   "execution_count": 71,
   "metadata": {
    "scrolled": false
   },
   "outputs": [],
   "source": [
    "max_iters = 5000\n",
    "w, loss = logistic_regression(yb_tr,data_tr0,initial_w,max_iters,0.2)"
   ]
  },
  {
   "cell_type": "code",
   "execution_count": 72,
   "metadata": {
    "scrolled": false
   },
   "outputs": [
    {
     "name": "stdout",
     "output_type": "stream",
     "text": [
      "0.2798\n",
      "[[-2.52684145e+06]\n",
      " [ 7.22837053e+05]\n",
      " [-8.86942722e+05]\n",
      " [-8.91851537e+04]\n",
      " [ 2.38212051e+05]\n",
      " [ 3.00160112e+04]\n",
      " [ 1.58894333e+05]\n",
      " [ 2.67322358e+04]\n",
      " [ 3.33420963e+05]\n",
      " [-8.03067947e+04]\n",
      " [ 4.32986503e+04]\n",
      " [-3.14424400e+05]\n",
      " [ 5.73245164e+05]\n",
      " [ 2.91177055e+04]\n",
      " [ 3.60105593e+05]\n",
      " [ 4.92375251e+04]\n",
      " [-2.92017249e+04]\n",
      " [ 3.63261880e+04]\n",
      " [ 6.80401919e+04]\n",
      " [ 5.73310498e+04]\n",
      " [-1.42973964e+05]\n",
      " [-3.53037435e+03]\n",
      " [ 1.57540613e+03]\n",
      " [ 7.07173749e+03]\n",
      " [ 2.06721977e+05]\n",
      " [ 2.06028883e+05]\n",
      " [ 2.06406455e+05]\n",
      " [ 1.98739024e+04]\n",
      " [ 2.88896921e+04]\n",
      " [ 2.86823816e+04]\n",
      " [-3.23444273e+04]]\n"
     ]
    }
   ],
   "source": [
    "print(loss)\n",
    "print(w)"
   ]
  },
  {
   "cell_type": "code",
   "execution_count": 73,
   "metadata": {},
   "outputs": [
    {
     "name": "stdout",
     "output_type": "stream",
     "text": [
      "[[ 1.16273904e+02]\n",
      " [-3.32617174e+01]\n",
      " [ 4.08131239e+01]\n",
      " [ 4.10390055e+00]\n",
      " [-1.09614496e+01]\n",
      " [-1.38120214e+00]\n",
      " [-7.31160414e+00]\n",
      " [-1.23009753e+00]\n",
      " [-1.53425365e+01]\n",
      " [ 3.69535831e+00]\n",
      " [-1.99240958e+00]\n",
      " [ 1.44683999e+01]\n",
      " [-2.63781700e+01]\n",
      " [-1.33986614e+00]\n",
      " [-1.65704434e+01]\n",
      " [-2.26568995e+00]\n",
      " [ 1.34373233e+00]\n",
      " [-1.67156816e+00]\n",
      " [-3.13090430e+00]\n",
      " [-2.63811763e+00]\n",
      " [ 6.57902024e+00]\n",
      " [ 1.62451985e-01]\n",
      " [-7.24931204e-02]\n",
      " [-3.25409625e-01]\n",
      " [-9.51241770e+00]\n",
      " [-9.48052464e+00]\n",
      " [-9.49789882e+00]\n",
      " [-9.14507804e-01]\n",
      " [-1.32937399e+00]\n",
      " [-1.31983449e+00]\n",
      " [ 1.48834540e+00]]\n"
     ]
    }
   ],
   "source": [
    "w = w/np.mean(w)\n",
    "print(w)"
   ]
  },
  {
   "cell_type": "code",
   "execution_count": 74,
   "metadata": {
    "scrolled": false
   },
   "outputs": [],
   "source": [
    "w, loss = reg_logistic_regression(yb_tr,data_tr0,1+4,initial_w,max_iters,0.2)"
   ]
  },
  {
   "cell_type": "code",
   "execution_count": 75,
   "metadata": {
    "scrolled": false
   },
   "outputs": [
    {
     "name": "stdout",
     "output_type": "stream",
     "text": [
      "0.6064\n",
      "[[-667.99534162]\n",
      " [ 129.6766822 ]\n",
      " [-228.66895501]\n",
      " [ -14.94019797]\n",
      " [ -82.44496554]\n",
      " [-270.10833093]\n",
      " [-207.94622662]\n",
      " [-271.13099738]\n",
      " [ 143.39873142]\n",
      " [-125.98049701]\n",
      " [-168.71453466]\n",
      " [-183.56434577]\n",
      " [  85.82721938]\n",
      " [-270.38204073]\n",
      " [ 106.60059948]\n",
      " [  26.15895072]\n",
      " [ -16.03729886]\n",
      " [-112.25572516]\n",
      " [  30.03502361]\n",
      " [  16.39320674]\n",
      " [-128.22769493]\n",
      " [   4.9357043 ]\n",
      " [-165.3115051 ]\n",
      " [-238.13357031]\n",
      " [ -98.25480609]\n",
      " [ -91.23495215]\n",
      " [ -91.20886192]\n",
      " [-271.05084782]\n",
      " [-270.44408328]\n",
      " [-270.51287909]\n",
      " [-195.23694477]]\n"
     ]
    }
   ],
   "source": [
    "print(loss)\n",
    "print(w)"
   ]
  },
  {
   "cell_type": "code",
   "execution_count": 76,
   "metadata": {},
   "outputs": [],
   "source": [
    "path_te = \"../data/train.csv\"\n",
    "yb_te, data_te, ids_te = load_csv_data(path_te,True)\n",
    "data_te0, mean_te, std_te = standardize(data_te)\n",
    "data_te0 = add_constant(data_te0)"
   ]
  },
  {
   "cell_type": "markdown",
   "metadata": {},
   "source": [
    "- log_reg working correctly?\n",
    "- stochastic approach?\n",
    "- iterations end conditions?\n",
    "- preprocessing? (use all features?)\n",
    "- ...?\n",
    "\n",
    "TODO:\n",
    "- bias_variance_decomposition\n",
    "- cross_validation\n",
    "- again test all methods\n",
    "- prepare script run.py\n",
    "\n",
    "TEST:\n",
    "\n",
    "Required Functions\n",
    "\n",
    "- logistic_regression\n",
    "- reg_logistic_regression\n",
    "\n",
    "Trainers\n",
    "\n",
    "- my_least_squares_GD\n",
    "- my_least_squares_SGD\n",
    "- my_least_squares\n",
    "- my_ridge_regression\n",
    "- my_logistic_regression\n",
    "- my_reg_logistic_regression\n",
    "- my_stoch_logistic_regression\n",
    "\n",
    "Utility functions for trainers\n",
    "\n",
    "- compute_gradient\n",
    "- compute_sigma\n",
    "- batch_iter\n",
    "\n",
    "Loss functions\n",
    "\n",
    "- compute_loss\n",
    "\n",
    "Preprocessing\n",
    "\n",
    "- standardize\n",
    "- split_data\n",
    "- add_constant\n",
    "- poly_expansion\n",
    "\n",
    "Utility\n",
    "\n",
    "- generate_data\n",
    "- generate_bin_data\n",
    "- column_array\n",
    "- compute_y"
   ]
  },
  {
   "cell_type": "code",
   "execution_count": 44,
   "metadata": {},
   "outputs": [],
   "source": [
    "path_tr = \"../data/train.csv\"\n",
    "yb_tr, data_tr, ids_tr = load_csv_data(path_tr,False)"
   ]
  },
  {
   "cell_type": "code",
   "execution_count": 78,
   "metadata": {},
   "outputs": [],
   "source": [
    "degree = 6\n",
    "data_tr0 = poly_expansion(data_tr, degree, False, False)\n",
    "data_tr0, mean_tr, std_tr = standardize(data_tr0)\n",
    "data_tr0 = add_constant(data_tr0)\n",
    "nfeatures = data_tr0.shape[1]\n",
    "initial_w = np.ones([nfeatures,1])/nfeatures"
   ]
  },
  {
   "cell_type": "code",
   "execution_count": 79,
   "metadata": {},
   "outputs": [],
   "source": [
    "lambda_ = 0\n",
    "#w_SGD, loss_SGD = my_least_squares_SGD(yb_tr, data_tr0, initial_w, max_iters=1000, gamma=0.01, batch_size=4, lambda_=0, eps=1e-5)\n",
    "w_SGD, loss_SGD = my_logistic_regression(yb_tr, data_tr0, initial_w, 2000, 0.02, mode='log', lambda_=0, eps=1e-05)"
   ]
  },
  {
   "cell_type": "code",
   "execution_count": 80,
   "metadata": {
    "scrolled": false
   },
   "outputs": [
    {
     "name": "stdout",
     "output_type": "stream",
     "text": [
      "0.26259599999999994\n",
      "[[-5.66135812e+06]\n",
      " [ 1.19721462e+06]\n",
      " [-1.24508296e+06]\n",
      " [ 1.18808986e+06]\n",
      " [-1.22155414e+06]\n",
      " [ 1.20445367e+06]\n",
      " [-1.21452250e+06]\n",
      " [-1.21907262e+06]\n",
      " [-7.19487615e+05]\n",
      " [-1.57876890e+05]\n",
      " [ 7.28530731e+03]\n",
      " [ 2.23481904e+04]\n",
      " [ 1.38969262e+04]\n",
      " [ 1.18100302e+03]\n",
      " [-3.94928306e+05]\n",
      " [-2.39031245e+05]\n",
      " [-8.53443693e+04]\n",
      " [-3.65400212e+04]\n",
      " [-2.28054220e+04]\n",
      " [ 3.58260752e+05]\n",
      " [ 2.19685122e+05]\n",
      " [ 3.82011628e+04]\n",
      " [ 1.42999446e+04]\n",
      " [ 1.17335862e+04]\n",
      " [ 1.13908761e+04]\n",
      " [ 2.01208293e+04]\n",
      " [-1.82347587e+04]\n",
      " [ 1.82473108e+04]\n",
      " [-1.82472273e+04]\n",
      " [ 1.82472388e+04]\n",
      " [-1.82472277e+04]\n",
      " [ 2.91186632e+05]\n",
      " [ 5.17460279e+05]\n",
      " [ 3.88495425e+05]\n",
      " [ 2.78189478e+05]\n",
      " [ 1.73022080e+05]\n",
      " [ 1.08184547e+05]\n",
      " [ 1.49717567e+04]\n",
      " [-1.82244207e+04]\n",
      " [ 1.82470496e+04]\n",
      " [-1.82472258e+04]\n",
      " [ 1.82472388e+04]\n",
      " [-1.82472277e+04]\n",
      " [ 6.08938746e+05]\n",
      " [ 3.74299519e+05]\n",
      " [ 1.44575014e+05]\n",
      " [-5.70890823e+04]\n",
      " [-2.12660134e+05]\n",
      " [-3.15376103e+05]\n",
      " [-5.14744235e+04]\n",
      " [ 2.13226661e+04]\n",
      " [ 1.25087938e+04]\n",
      " [ 1.14442761e+04]\n",
      " [ 1.13450540e+04]\n",
      " [ 1.13343733e+04]\n",
      " [ 1.82118355e+05]\n",
      " [ 1.33930604e+04]\n",
      " [-5.10581785e+04]\n",
      " [-4.79894465e+04]\n",
      " [-3.29258138e+04]\n",
      " [-2.35693426e+04]\n",
      " [-5.57474431e+05]\n",
      " [-2.19725955e+05]\n",
      " [-3.96137878e+04]\n",
      " [-3.42819196e+03]\n",
      " [ 2.72882186e+03]\n",
      " [ 6.12505583e+03]\n",
      " [ 3.51979418e+05]\n",
      " [ 1.73323324e+05]\n",
      " [ 2.18308768e+05]\n",
      " [ 1.35723109e+05]\n",
      " [ 1.38939246e+05]\n",
      " [ 1.23507368e+05]\n",
      " [ 1.86972626e+04]\n",
      " [-1.82467733e+04]\n",
      " [ 1.82472392e+04]\n",
      " [-1.82472277e+04]\n",
      " [ 1.82472388e+04]\n",
      " [-1.82472277e+04]\n",
      " [ 6.36562722e+05]\n",
      " [ 1.48098451e+05]\n",
      " [-4.84384458e+04]\n",
      " [-4.09053894e+04]\n",
      " [-2.12338968e+04]\n",
      " [-1.25324266e+04]\n",
      " [-1.20938073e+04]\n",
      " [-1.72007297e+05]\n",
      " [ 7.10065558e+02]\n",
      " [-1.77644575e+05]\n",
      " [ 8.53446552e+03]\n",
      " [-1.71429538e+05]\n",
      " [-1.14015680e+04]\n",
      " [-1.00768130e+04]\n",
      " [-1.42325215e+03]\n",
      " [-3.37272191e+03]\n",
      " [ 1.32201947e+02]\n",
      " [ 9.90587237e+02]\n",
      " [ 7.35652576e+04]\n",
      " [ 5.67520807e+04]\n",
      " [ 3.59176878e+04]\n",
      " [ 1.78529436e+04]\n",
      " [ 6.27189739e+03]\n",
      " [-5.60168051e+02]\n",
      " [-1.08143764e+03]\n",
      " [-2.91439863e+05]\n",
      " [ 2.07705674e+03]\n",
      " [-2.77851089e+05]\n",
      " [ 3.27512881e+03]\n",
      " [-2.61961200e+05]\n",
      " [ 6.78788218e+03]\n",
      " [-9.37813439e+03]\n",
      " [ 3.16505582e+03]\n",
      " [-7.40058789e+03]\n",
      " [-4.28797140e+02]\n",
      " [-4.69158109e+03]\n",
      " [-1.77199685e+05]\n",
      " [ 4.80337665e+04]\n",
      " [ 1.62512484e+04]\n",
      " [ 1.17526031e+04]\n",
      " [ 1.13632643e+04]\n",
      " [ 1.13314692e+04]\n",
      " [ 4.77561413e+03]\n",
      " [ 6.99773535e+03]\n",
      " [ 1.80847534e+02]\n",
      " [-1.32694785e+03]\n",
      " [-1.96309825e+03]\n",
      " [-7.71010144e+03]\n",
      " [ 8.43103736e+04]\n",
      " [-6.88166746e+04]\n",
      " [-1.15607062e+05]\n",
      " [-9.33225962e+04]\n",
      " [-6.08681100e+04]\n",
      " [-4.00248224e+04]\n",
      " [-2.62401905e+04]\n",
      " [-7.12203809e+04]\n",
      " [-1.02165404e+05]\n",
      " [-1.22512480e+05]\n",
      " [-1.35480516e+05]\n",
      " [-1.43652637e+05]\n",
      " [ 3.92898269e+04]\n",
      " [-2.09149164e+04]\n",
      " [ 2.25681979e+04]\n",
      " [-2.26809286e+04]\n",
      " [ 2.25946172e+04]\n",
      " [-2.26527774e+04]\n",
      " [ 2.25979837e+04]\n",
      " [-2.26156914e+04]\n",
      " [ 2.26218791e+04]\n",
      " [-2.26218678e+04]\n",
      " [ 2.26218789e+04]\n",
      " [-2.26218679e+04]\n",
      " [ 2.26484843e+04]\n",
      " [-2.26218042e+04]\n",
      " [ 2.26218792e+04]\n",
      " [-2.26218679e+04]\n",
      " [ 2.26218789e+04]\n",
      " [-2.26218679e+04]\n",
      " [ 1.63698810e+04]\n",
      " [-1.92046655e+04]\n",
      " [ 1.79444417e+04]\n",
      " [-1.83511260e+04]\n",
      " [ 1.82037702e+04]\n",
      " [-1.82690005e+04]\n",
      " [ 1.82882868e+04]\n",
      " [-1.82439219e+04]\n",
      " [ 1.82472390e+04]\n",
      " [-1.82472277e+04]\n",
      " [ 1.82472388e+04]\n",
      " [-1.82472277e+04]\n",
      " [ 1.82133253e+04]\n",
      " [-1.82473122e+04]\n",
      " [ 1.82472387e+04]\n",
      " [-1.82472277e+04]\n",
      " [ 1.82472388e+04]\n",
      " [-1.82472277e+04]\n",
      " [ 5.28722520e+04]\n",
      " [-7.72076206e+04]\n",
      " [-9.15419774e+04]\n",
      " [-6.23611281e+04]\n",
      " [-4.22987904e+04]\n",
      " [-3.25803497e+04]]\n"
     ]
    }
   ],
   "source": [
    "print(loss_SGD)\n",
    "print(w_SGD)"
   ]
  },
  {
   "cell_type": "code",
   "execution_count": 28,
   "metadata": {},
   "outputs": [],
   "source": [
    "path_te = \"../data/test.csv\"\n",
    "yb_te, data_te, ids_te = load_csv_data(path_te,False)\n",
    "data_te0, mean_te, std_te = standardize(data_te, mean_tr, std_tr)\n",
    "data_te0 = add_constant(data_te0)\n",
    "yb_te = yb_te.reshape(len(yb_te),1)"
   ]
  },
  {
   "cell_type": "code",
   "execution_count": 31,
   "metadata": {},
   "outputs": [],
   "source": [
    "#print(yb_te[:50])"
   ]
  },
  {
   "cell_type": "code",
   "execution_count": 32,
   "metadata": {},
   "outputs": [
    {
     "ename": "ValueError",
     "evalue": "shapes (568238,31) and (184,1) not aligned: 31 (dim 1) != 184 (dim 0)",
     "output_type": "error",
     "traceback": [
      "\u001b[1;31m---------------------------------------------------------------------------\u001b[0m",
      "\u001b[1;31mValueError\u001b[0m                                Traceback (most recent call last)",
      "\u001b[1;32m<ipython-input-32-5142651ba126>\u001b[0m in \u001b[0;36m<module>\u001b[1;34m()\u001b[0m\n\u001b[1;32m----> 1\u001b[1;33m \u001b[0my_pred\u001b[0m \u001b[1;33m=\u001b[0m \u001b[0mcompute_y\u001b[0m\u001b[1;33m(\u001b[0m\u001b[0mdata_te0\u001b[0m\u001b[1;33m,\u001b[0m \u001b[0mw_SGD\u001b[0m\u001b[1;33m)\u001b[0m\u001b[1;33m\u001b[0m\u001b[0m\n\u001b[0m\u001b[0;32m      2\u001b[0m \u001b[0mprint\u001b[0m\u001b[1;33m(\u001b[0m\u001b[0my_pred\u001b[0m\u001b[1;33m.\u001b[0m\u001b[0mshape\u001b[0m\u001b[1;33m)\u001b[0m\u001b[1;33m\u001b[0m\u001b[0m\n",
      "\u001b[1;32m~\\Desktop\\Epfl Desktop\\GitML\\MLPROJECT1\\ML2018-EPFL-PROJECTS\\project1\\scripts\\implementations.py\u001b[0m in \u001b[0;36mcompute_y\u001b[1;34m(tx, w)\u001b[0m\n\u001b[0;32m    963\u001b[0m     \"\"\"\n\u001b[0;32m    964\u001b[0m \u001b[1;33m\u001b[0m\u001b[0m\n\u001b[1;32m--> 965\u001b[1;33m     \u001b[0my\u001b[0m \u001b[1;33m=\u001b[0m \u001b[0mnp\u001b[0m\u001b[1;33m.\u001b[0m\u001b[0mwhere\u001b[0m\u001b[1;33m(\u001b[0m\u001b[0mtx\u001b[0m\u001b[1;33m.\u001b[0m\u001b[0mdot\u001b[0m\u001b[1;33m(\u001b[0m\u001b[0mw\u001b[0m\u001b[1;33m)\u001b[0m\u001b[1;33m<\u001b[0m\u001b[1;36m0\u001b[0m\u001b[1;33m,\u001b[0m\u001b[1;33m-\u001b[0m\u001b[1;36m1\u001b[0m\u001b[1;33m,\u001b[0m\u001b[1;36m1\u001b[0m\u001b[1;33m)\u001b[0m\u001b[1;33m\u001b[0m\u001b[0m\n\u001b[0m\u001b[0;32m    966\u001b[0m \u001b[1;33m\u001b[0m\u001b[0m\n\u001b[0;32m    967\u001b[0m     \u001b[1;32mreturn\u001b[0m \u001b[0my\u001b[0m\u001b[1;33m\u001b[0m\u001b[0m\n",
      "\u001b[1;31mValueError\u001b[0m: shapes (568238,31) and (184,1) not aligned: 31 (dim 1) != 184 (dim 0)"
     ]
    }
   ],
   "source": [
    "y_pred = compute_y(data_te0, w_SGD)\n",
    "print(y_pred.shape)"
   ]
  },
  {
   "cell_type": "code",
   "execution_count": 29,
   "metadata": {},
   "outputs": [
    {
     "ename": "NameError",
     "evalue": "name 'y_pred' is not defined",
     "output_type": "error",
     "traceback": [
      "\u001b[1;31m---------------------------------------------------------------------------\u001b[0m",
      "\u001b[1;31mNameError\u001b[0m                                 Traceback (most recent call last)",
      "\u001b[1;32m<ipython-input-29-8091dbef4d34>\u001b[0m in \u001b[0;36m<module>\u001b[1;34m()\u001b[0m\n\u001b[1;32m----> 1\u001b[1;33m \u001b[0mloss_gl\u001b[0m \u001b[1;33m=\u001b[0m \u001b[0mcompute_loss\u001b[0m\u001b[1;33m(\u001b[0m\u001b[0my_pred\u001b[0m\u001b[1;33m,\u001b[0m \u001b[0mdata_te0\u001b[0m\u001b[1;33m,\u001b[0m \u001b[0mw_SGD\u001b[0m\u001b[1;33m,\u001b[0m \u001b[1;34m\"log\"\u001b[0m\u001b[1;33m,\u001b[0m \u001b[0mlambda_\u001b[0m\u001b[1;33m=\u001b[0m\u001b[1;36m0\u001b[0m\u001b[1;33m)\u001b[0m\u001b[1;33m\u001b[0m\u001b[0m\n\u001b[0m\u001b[0;32m      2\u001b[0m \u001b[0mprint\u001b[0m\u001b[1;33m(\u001b[0m\u001b[0mloss_gl\u001b[0m\u001b[1;33m)\u001b[0m\u001b[1;33m\u001b[0m\u001b[0m\n",
      "\u001b[1;31mNameError\u001b[0m: name 'y_pred' is not defined"
     ]
    }
   ],
   "source": [
    "loss_gl = compute_loss(y_pred, data_te0, w_SGD, \"log\", lambda_=0)\n",
    "print(loss_gl)"
   ]
  },
  {
   "cell_type": "code",
   "execution_count": 127,
   "metadata": {},
   "outputs": [],
   "source": [
    "create_csv_submission(ids_te, y_pred, \"Testnumber2.csv\")"
   ]
  },
  {
   "cell_type": "code",
   "execution_count": null,
   "metadata": {},
   "outputs": [],
   "source": []
  }
 ],
 "metadata": {
  "anaconda-cloud": {},
  "kernelspec": {
   "display_name": "Python 3",
   "language": "python",
   "name": "python3"
  },
  "language_info": {
   "codemirror_mode": {
    "name": "ipython",
    "version": 3
   },
   "file_extension": ".py",
   "mimetype": "text/x-python",
   "name": "python",
   "nbconvert_exporter": "python",
   "pygments_lexer": "ipython3",
   "version": "3.6.5"
  }
 },
 "nbformat": 4,
 "nbformat_minor": 1
}
