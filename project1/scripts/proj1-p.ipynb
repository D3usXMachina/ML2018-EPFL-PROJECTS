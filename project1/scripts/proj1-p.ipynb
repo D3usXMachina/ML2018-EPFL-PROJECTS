{
 "cells": [
  {
   "cell_type": "code",
   "execution_count": 1,
   "metadata": {},
   "outputs": [],
   "source": [
    "# Useful starting lines\n",
    "%matplotlib inline\n",
    "import numpy as np\n",
    "import matplotlib.pyplot as plt\n",
    "from implementations import *\n",
    "from proj1_helpers import *\n",
    "%load_ext autoreload\n",
    "%autoreload 2"
   ]
  },
  {
   "cell_type": "markdown",
   "metadata": {},
   "source": [
    "**Test of regular training functions**"
   ]
  },
  {
   "cell_type": "code",
   "execution_count": 2,
   "metadata": {},
   "outputs": [],
   "source": [
    "nsamples = 1000\n",
    "nfeatures = 20\n",
    "seed = 20\n",
    "std = 0.1\n",
    "y,tx,w = generate_data(nsamples,nfeatures,seed,std)\n",
    "loss = compute_loss(y,tx,w)"
   ]
  },
  {
   "cell_type": "code",
   "execution_count": 3,
   "metadata": {
    "scrolled": true
   },
   "outputs": [
    {
     "name": "stdout",
     "output_type": "stream",
     "text": [
      "0.005309625925735089\n",
      "[[ 0.1762616 ]\n",
      " [ 0.79542746]\n",
      " [ 0.78306146]\n",
      " [ 0.63167495]\n",
      " [-0.92822083]\n",
      " [ 0.38351516]\n",
      " [-0.24263812]\n",
      " [ 0.03702189]\n",
      " [ 0.31590293]\n",
      " [-0.61229956]\n",
      " [-0.4553672 ]\n",
      " [ 0.43721187]\n",
      " [ 0.56600722]\n",
      " [ 0.70065528]\n",
      " [ 0.55048979]\n",
      " [-0.92667139]\n",
      " [-0.76661253]\n",
      " [ 0.5025614 ]\n",
      " [-0.52156357]\n",
      " [-0.49038797]\n",
      " [ 0.71525106]]\n"
     ]
    }
   ],
   "source": [
    "print(loss)\n",
    "print(w)"
   ]
  },
  {
   "cell_type": "code",
   "execution_count": 4,
   "metadata": {},
   "outputs": [],
   "source": [
    "initial_w = np.zeros([nfeatures+1,1])\n",
    "max_iters = 100000\n",
    "gamma = 0.1"
   ]
  },
  {
   "cell_type": "markdown",
   "metadata": {},
   "source": [
    "Least squares GD"
   ]
  },
  {
   "cell_type": "code",
   "execution_count": 5,
   "metadata": {},
   "outputs": [
    {
     "name": "stdout",
     "output_type": "stream",
     "text": [
      "Terminated least_squares_GD after  589  iterations.\n"
     ]
    }
   ],
   "source": [
    "w,loss = least_squares_GD(y,tx,initial_w,max_iters,gamma)"
   ]
  },
  {
   "cell_type": "code",
   "execution_count": 6,
   "metadata": {},
   "outputs": [
    {
     "name": "stdout",
     "output_type": "stream",
     "text": [
      "0.005263113775547522\n",
      "[[ 0.15483312]\n",
      " [ 0.77521245]\n",
      " [ 0.78409973]\n",
      " [ 0.63694343]\n",
      " [-0.92573112]\n",
      " [ 0.3872494 ]\n",
      " [-0.22861084]\n",
      " [ 0.05145808]\n",
      " [ 0.32834661]\n",
      " [-0.61536715]\n",
      " [-0.45421206]\n",
      " [ 0.43222627]\n",
      " [ 0.54526185]\n",
      " [ 0.71506445]\n",
      " [ 0.55147459]\n",
      " [-0.92010031]\n",
      " [-0.74650163]\n",
      " [ 0.4862108 ]\n",
      " [-0.51670025]\n",
      " [-0.47710491]\n",
      " [ 0.71034127]]\n"
     ]
    }
   ],
   "source": [
    "print(loss)\n",
    "print(w)"
   ]
  },
  {
   "cell_type": "markdown",
   "metadata": {},
   "source": [
    "Least squares SGD"
   ]
  },
  {
   "cell_type": "code",
   "execution_count": 7,
   "metadata": {},
   "outputs": [
    {
     "name": "stdout",
     "output_type": "stream",
     "text": [
      "Terminated least_squares_SGD after  599  iterations.\n"
     ]
    }
   ],
   "source": [
    "w,loss = least_squares_SGD(y,tx,initial_w,10000,gamma)"
   ]
  },
  {
   "cell_type": "code",
   "execution_count": 8,
   "metadata": {},
   "outputs": [
    {
     "name": "stdout",
     "output_type": "stream",
     "text": [
      "0.00594309918821907\n",
      "[[ 0.18034311]\n",
      " [ 0.77059666]\n",
      " [ 0.78607342]\n",
      " [ 0.62818267]\n",
      " [-0.93924056]\n",
      " [ 0.38074666]\n",
      " [-0.21715287]\n",
      " [ 0.05141713]\n",
      " [ 0.33083564]\n",
      " [-0.6170471 ]\n",
      " [-0.44230045]\n",
      " [ 0.43335394]\n",
      " [ 0.54072466]\n",
      " [ 0.71553842]\n",
      " [ 0.56287622]\n",
      " [-0.92082503]\n",
      " [-0.73391364]\n",
      " [ 0.48949539]\n",
      " [-0.50896692]\n",
      " [-0.48236113]\n",
      " [ 0.71326105]]\n"
     ]
    }
   ],
   "source": [
    "print(loss)\n",
    "print(w)"
   ]
  },
  {
   "cell_type": "markdown",
   "metadata": {},
   "source": [
    "Least squares"
   ]
  },
  {
   "cell_type": "code",
   "execution_count": 9,
   "metadata": {},
   "outputs": [],
   "source": [
    "w,loss = least_squares(y, tx)"
   ]
  },
  {
   "cell_type": "code",
   "execution_count": 10,
   "metadata": {},
   "outputs": [
    {
     "name": "stdout",
     "output_type": "stream",
     "text": [
      "0.005208633401473408\n",
      "[[ 0.20150237]\n",
      " [ 0.77864141]\n",
      " [ 0.7873774 ]\n",
      " [ 0.63871312]\n",
      " [-0.94142934]\n",
      " [ 0.38671696]\n",
      " [-0.22980625]\n",
      " [ 0.04835073]\n",
      " [ 0.31770175]\n",
      " [-0.62597692]\n",
      " [-0.4691441 ]\n",
      " [ 0.43757343]\n",
      " [ 0.54944065]\n",
      " [ 0.71450421]\n",
      " [ 0.55213022]\n",
      " [-0.93721272]\n",
      " [-0.75704205]\n",
      " [ 0.48227548]\n",
      " [-0.52786446]\n",
      " [-0.48925327]\n",
      " [ 0.71283803]]\n"
     ]
    }
   ],
   "source": [
    "print(loss)\n",
    "print(w)"
   ]
  },
  {
   "cell_type": "markdown",
   "metadata": {},
   "source": [
    "Ridge regression"
   ]
  },
  {
   "cell_type": "code",
   "execution_count": 11,
   "metadata": {},
   "outputs": [],
   "source": [
    "lambda_ = 0.0001"
   ]
  },
  {
   "cell_type": "code",
   "execution_count": 12,
   "metadata": {},
   "outputs": [],
   "source": [
    "w,loss = ridge_regression(y, tx, lambda_)"
   ]
  },
  {
   "cell_type": "code",
   "execution_count": 13,
   "metadata": {},
   "outputs": [
    {
     "name": "stdout",
     "output_type": "stream",
     "text": [
      "0.005210508424564729\n",
      "[[ 0.20013947]\n",
      " [ 0.77695313]\n",
      " [ 0.78568382]\n",
      " [ 0.63736215]\n",
      " [-0.93871185]\n",
      " [ 0.38592071]\n",
      " [-0.22928267]\n",
      " [ 0.04840484]\n",
      " [ 0.31764339]\n",
      " [-0.62408123]\n",
      " [-0.46742257]\n",
      " [ 0.43642401]\n",
      " [ 0.54821894]\n",
      " [ 0.71315937]\n",
      " [ 0.55107625]\n",
      " [-0.93440663]\n",
      " [-0.75498797]\n",
      " [ 0.48153747]\n",
      " [-0.52622629]\n",
      " [-0.48756298]\n",
      " [ 0.71133883]]\n"
     ]
    }
   ],
   "source": [
    "print(loss)\n",
    "print(w)"
   ]
  },
  {
   "cell_type": "markdown",
   "metadata": {},
   "source": [
    "**Test of Logistic Regression on actual data**"
   ]
  },
  {
   "cell_type": "code",
   "execution_count": 63,
   "metadata": {},
   "outputs": [],
   "source": [
    "path_tr = \"../data/train.csv\"\n",
    "yb_tr, data_tr, ids_tr = load_csv_data(path_tr,True)"
   ]
  },
  {
   "cell_type": "code",
   "execution_count": 69,
   "metadata": {
    "scrolled": false
   },
   "outputs": [],
   "source": [
    "data_tr0, mean_tr, std_tr = standardize(data_tr)\n",
    "data_tr0 = add_constant(data_tr0)"
   ]
  },
  {
   "cell_type": "code",
   "execution_count": 70,
   "metadata": {},
   "outputs": [],
   "source": [
    "nfeatures = data_tr0.shape[1]\n",
    "initial_w = np.ones([nfeatures,1])/nfeatures"
   ]
  },
  {
   "cell_type": "markdown",
   "metadata": {},
   "source": [
    "Since the features can have numeric values in whatever range, $exp(X^\\top\\,w)$ can be very large when chosing $w_{initial}=1$ (or any other finite value), resulting in $\\sigma=1$. On the other hand chosing $w_{initial}=0$ results in $\\sigma=0.5$.\n",
    "Not sure though whether that actually has an influence on the stability of the method.\n",
    "On a second thought, standardisation or normalisation would actually make it reasonable to use a finite $w_{initial}$. I was thinking maybe $w_{initial} = \\tfrac{1}{\\# features}$."
   ]
  },
  {
   "cell_type": "code",
   "execution_count": 71,
   "metadata": {
    "scrolled": false
   },
   "outputs": [],
   "source": [
    "max_iters = 5000\n",
    "w, loss = logistic_regression(yb_tr,data_tr0,initial_w,max_iters,0.2)"
   ]
  },
  {
   "cell_type": "code",
   "execution_count": 72,
   "metadata": {
    "scrolled": false
   },
   "outputs": [
    {
     "name": "stdout",
     "output_type": "stream",
     "text": [
      "0.2798\n",
      "[[-2.52684145e+06]\n",
      " [ 7.22837053e+05]\n",
      " [-8.86942722e+05]\n",
      " [-8.91851537e+04]\n",
      " [ 2.38212051e+05]\n",
      " [ 3.00160112e+04]\n",
      " [ 1.58894333e+05]\n",
      " [ 2.67322358e+04]\n",
      " [ 3.33420963e+05]\n",
      " [-8.03067947e+04]\n",
      " [ 4.32986503e+04]\n",
      " [-3.14424400e+05]\n",
      " [ 5.73245164e+05]\n",
      " [ 2.91177055e+04]\n",
      " [ 3.60105593e+05]\n",
      " [ 4.92375251e+04]\n",
      " [-2.92017249e+04]\n",
      " [ 3.63261880e+04]\n",
      " [ 6.80401919e+04]\n",
      " [ 5.73310498e+04]\n",
      " [-1.42973964e+05]\n",
      " [-3.53037435e+03]\n",
      " [ 1.57540613e+03]\n",
      " [ 7.07173749e+03]\n",
      " [ 2.06721977e+05]\n",
      " [ 2.06028883e+05]\n",
      " [ 2.06406455e+05]\n",
      " [ 1.98739024e+04]\n",
      " [ 2.88896921e+04]\n",
      " [ 2.86823816e+04]\n",
      " [-3.23444273e+04]]\n"
     ]
    }
   ],
   "source": [
    "print(loss)\n",
    "print(w)"
   ]
  },
  {
   "cell_type": "code",
   "execution_count": 73,
   "metadata": {},
   "outputs": [
    {
     "name": "stdout",
     "output_type": "stream",
     "text": [
      "[[ 1.16273904e+02]\n",
      " [-3.32617174e+01]\n",
      " [ 4.08131239e+01]\n",
      " [ 4.10390055e+00]\n",
      " [-1.09614496e+01]\n",
      " [-1.38120214e+00]\n",
      " [-7.31160414e+00]\n",
      " [-1.23009753e+00]\n",
      " [-1.53425365e+01]\n",
      " [ 3.69535831e+00]\n",
      " [-1.99240958e+00]\n",
      " [ 1.44683999e+01]\n",
      " [-2.63781700e+01]\n",
      " [-1.33986614e+00]\n",
      " [-1.65704434e+01]\n",
      " [-2.26568995e+00]\n",
      " [ 1.34373233e+00]\n",
      " [-1.67156816e+00]\n",
      " [-3.13090430e+00]\n",
      " [-2.63811763e+00]\n",
      " [ 6.57902024e+00]\n",
      " [ 1.62451985e-01]\n",
      " [-7.24931204e-02]\n",
      " [-3.25409625e-01]\n",
      " [-9.51241770e+00]\n",
      " [-9.48052464e+00]\n",
      " [-9.49789882e+00]\n",
      " [-9.14507804e-01]\n",
      " [-1.32937399e+00]\n",
      " [-1.31983449e+00]\n",
      " [ 1.48834540e+00]]\n"
     ]
    }
   ],
   "source": [
    "w = w/np.mean(w)\n",
    "print(w)"
   ]
  },
  {
   "cell_type": "code",
   "execution_count": 74,
   "metadata": {
    "scrolled": false
   },
   "outputs": [],
   "source": [
    "w, loss = reg_logistic_regression(yb_tr,data_tr0,1+4,initial_w,max_iters,0.2)"
   ]
  },
  {
   "cell_type": "code",
   "execution_count": 75,
   "metadata": {
    "scrolled": false
   },
   "outputs": [
    {
     "name": "stdout",
     "output_type": "stream",
     "text": [
      "0.6064\n",
      "[[-667.99534162]\n",
      " [ 129.6766822 ]\n",
      " [-228.66895501]\n",
      " [ -14.94019797]\n",
      " [ -82.44496554]\n",
      " [-270.10833093]\n",
      " [-207.94622662]\n",
      " [-271.13099738]\n",
      " [ 143.39873142]\n",
      " [-125.98049701]\n",
      " [-168.71453466]\n",
      " [-183.56434577]\n",
      " [  85.82721938]\n",
      " [-270.38204073]\n",
      " [ 106.60059948]\n",
      " [  26.15895072]\n",
      " [ -16.03729886]\n",
      " [-112.25572516]\n",
      " [  30.03502361]\n",
      " [  16.39320674]\n",
      " [-128.22769493]\n",
      " [   4.9357043 ]\n",
      " [-165.3115051 ]\n",
      " [-238.13357031]\n",
      " [ -98.25480609]\n",
      " [ -91.23495215]\n",
      " [ -91.20886192]\n",
      " [-271.05084782]\n",
      " [-270.44408328]\n",
      " [-270.51287909]\n",
      " [-195.23694477]]\n"
     ]
    }
   ],
   "source": [
    "print(loss)\n",
    "print(w)"
   ]
  },
  {
   "cell_type": "code",
   "execution_count": 76,
   "metadata": {},
   "outputs": [],
   "source": [
    "path_te = \"../data/train.csv\"\n",
    "yb_te, data_te, ids_te = load_csv_data(path_te,True)\n",
    "data_te0, mean_te, std_te = standardize(data_te)\n",
    "data_te0 = add_constant(data_te0)"
   ]
  },
  {
   "cell_type": "markdown",
   "metadata": {},
   "source": [
    "- log_reg working correctly?\n",
    "- stochastic approach?\n",
    "- iterations end conditions?\n",
    "- preprocessing? (use all features?)\n",
    "- ...?\n",
    "\n",
    "TODO:\n",
    "- bias_variance_decomposition\n",
    "- cross_validation\n",
    "- again test all methods\n",
    "- prepare script run.py\n",
    "\n",
    "TEST:\n",
    "\n",
    "Required Functions\n",
    "\n",
    "- logistic_regression\n",
    "- reg_logistic_regression\n",
    "\n",
    "Trainers\n",
    "\n",
    "- my_least_squares_GD\n",
    "- my_least_squares_SGD\n",
    "- my_least_squares\n",
    "- my_ridge_regression\n",
    "- my_logistic_regression\n",
    "- my_reg_logistic_regression\n",
    "- my_stoch_logistic_regression\n",
    "\n",
    "Utility functions for trainers\n",
    "\n",
    "- compute_gradient\n",
    "- compute_sigma\n",
    "- batch_iter\n",
    "\n",
    "Loss functions\n",
    "\n",
    "- compute_loss\n",
    "\n",
    "Preprocessing\n",
    "\n",
    "- standardize\n",
    "- split_data\n",
    "- add_constant\n",
    "- poly_expansion\n",
    "\n",
    "Utility\n",
    "\n",
    "- generate_data\n",
    "- generate_bin_data\n",
    "- column_array\n",
    "- compute_y"
   ]
  },
  {
   "cell_type": "code",
   "execution_count": 44,
   "metadata": {},
   "outputs": [],
   "source": [
    "path_tr = \"../data/train.csv\"\n",
    "yb_tr, data_tr, ids_tr = load_csv_data(path_tr,False)"
   ]
  },
  {
   "cell_type": "code",
   "execution_count": 101,
   "metadata": {},
   "outputs": [],
   "source": [
    "degree = 7\n",
    "data_tr0 = poly_expansion(data_tr, degree, False, False)\n",
    "data_tr0, mean_tr, std_tr = standardize(data_tr0)\n",
    "data_tr0 = add_constant(data_tr0)\n",
    "nfeatures = data_tr0.shape[1]\n",
    "initial_w = np.ones([nfeatures,1])/nfeatures"
   ]
  },
  {
   "cell_type": "code",
   "execution_count": 110,
   "metadata": {},
   "outputs": [
    {
     "name": "stdout",
     "output_type": "stream",
     "text": [
      "iteration:  0\n",
      "iteration:  1\n"
     ]
    }
   ],
   "source": [
    "lambda_ = 0\n",
    "#w_SGD, loss_SGD = my_least_squares_SGD(yb_tr, data_tr0, initial_w, max_iters=1000, gamma=0.01, batch_size=4, lambda_=0, eps=1e-5)\n",
    "w_SGD, loss_SGD = my_logistic_regression(yb_tr, data_tr0, initial_w, 2000, 0.02, 'newton', lambda_=0, eps=1e-05)\n",
    "#w_SGD, loss_SGD = my_stoch_logistic_regression(yb_tr, data_tr0, initial_w, 2000, 0.02, 10, \"newton\", lambda_=0, eps=1e-5)"
   ]
  },
  {
   "cell_type": "code",
   "execution_count": 109,
   "metadata": {
    "scrolled": false
   },
   "outputs": [
    {
     "name": "stdout",
     "output_type": "stream",
     "text": [
      "0.5811240000000001\n",
      "[[-2.19981772e+48]\n",
      " [ 8.48159782e+47]\n",
      " [-1.33800157e+49]\n",
      " [ 7.81334072e+49]\n",
      " [-1.48655526e+50]\n",
      " [ 2.45484290e+49]\n",
      " [ 1.62921717e+50]\n",
      " [-1.02519301e+50]\n",
      " [-3.86430281e+46]\n",
      " [ 3.66485168e+47]\n",
      " [-2.45462593e+48]\n",
      " [ 1.09034371e+49]\n",
      " [-2.60394940e+49]\n",
      " [ 3.01192904e+49]\n",
      " [-1.32332807e+49]\n",
      " [ 1.30261708e+47]\n",
      " [-2.84341012e+47]\n",
      " [-9.75670152e+47]\n",
      " [ 1.08524454e+49]\n",
      " [-3.50296715e+49]\n",
      " [ 4.66826745e+49]\n",
      " [-2.19279710e+49]\n",
      " [-6.18656823e+46]\n",
      " [ 7.07187727e+47]\n",
      " [-1.40592445e+49]\n",
      " [ 1.83051717e+50]\n",
      " [-1.13853448e+51]\n",
      " [ 3.24273513e+51]\n",
      " [-3.37243712e+51]\n",
      " [ 2.23729653e+44]\n",
      " [-6.51113580e+44]\n",
      " [ 1.95453026e+45]\n",
      " [ 2.98297115e+45]\n",
      " [ 2.14007709e+45]\n",
      " [-5.19408869e+44]\n",
      " [ 3.46922577e+44]\n",
      " [-1.11306435e+34]\n",
      " [ 3.16302176e+34]\n",
      " [-1.26801930e+35]\n",
      " [ 2.90050571e+35]\n",
      " [-4.68516735e+35]\n",
      " [ 4.04465355e+35]\n",
      " [-1.43377655e+35]\n",
      " [-1.52782114e+35]\n",
      " [ 3.30561762e+37]\n",
      " [-1.72640237e+39]\n",
      " [ 1.60209183e+41]\n",
      " [ 1.34264388e+42]\n",
      " [-7.70468534e+44]\n",
      " [ 7.96688323e+44]\n",
      " [-9.57387029e+33]\n",
      " [ 7.00049949e+34]\n",
      " [-2.28698894e+35]\n",
      " [ 4.26105626e+35]\n",
      " [-4.70257897e+35]\n",
      " [ 2.86010260e+35]\n",
      " [-7.35443931e+34]\n",
      " [ 7.59742468e+32]\n",
      " [-3.34899508e+34]\n",
      " [ 2.01603320e+36]\n",
      " [-5.45803868e+37]\n",
      " [ 7.05407980e+38]\n",
      " [-4.19621562e+39]\n",
      " [ 9.12846219e+39]\n",
      " [-2.97250660e+33]\n",
      " [ 2.12099388e+34]\n",
      " [-8.63700497e+34]\n",
      " [ 2.42197438e+35]\n",
      " [-4.34751864e+35]\n",
      " [ 4.31374318e+35]\n",
      " [-1.75763263e+35]\n",
      " [ 6.74821434e+32]\n",
      " [-4.95195562e+33]\n",
      " [ 2.60024519e+34]\n",
      " [-9.87737611e+34]\n",
      " [ 2.16022831e+35]\n",
      " [-2.35958859e+35]\n",
      " [ 9.89265778e+34]\n",
      " [-6.48428859e+32]\n",
      " [ 2.13593511e+32]\n",
      " [ 4.11527745e+33]\n",
      " [-4.42027177e+32]\n",
      " [-6.71856705e+33]\n",
      " [ 1.98304237e+32]\n",
      " [ 3.25628812e+33]\n",
      " [ 2.16851260e+36]\n",
      " [-6.86703593e+39]\n",
      " [ 4.67013216e+42]\n",
      " [ 1.65554805e+44]\n",
      " [-6.61326318e+44]\n",
      " [ 2.37451826e+44]\n",
      " [-2.32338584e+45]\n",
      " [-2.26256671e+19]\n",
      " [-1.37225328e+20]\n",
      " [ 8.38086776e+20]\n",
      " [-3.28815148e+21]\n",
      " [ 7.30084239e+21]\n",
      " [-8.02788232e+21]\n",
      " [ 3.41920744e+21]\n",
      " [ 1.91132976e+17]\n",
      " [-2.67460171e+18]\n",
      " [ 7.91921158e+18]\n",
      " [ 2.97930629e+18]\n",
      " [-1.89514719e+19]\n",
      " [-1.41996384e+18]\n",
      " [ 1.07761103e+19]\n",
      " [-1.76071300e+19]\n",
      " [ 5.51719413e+18]\n",
      " [ 2.79599367e+19]\n",
      " [-1.44910049e+19]\n",
      " [-2.84515713e+19]\n",
      " [ 8.43597831e+18]\n",
      " [ 1.40682533e+19]\n",
      " [ 3.92816122e+19]\n",
      " [ 2.17582561e+19]\n",
      " [-5.91318398e+20]\n",
      " [ 2.47878408e+21]\n",
      " [-5.36711372e+21]\n",
      " [ 5.82305598e+21]\n",
      " [-2.48502339e+21]\n",
      " [-2.84543533e+18]\n",
      " [-1.74649350e+19]\n",
      " [ 2.95621457e+18]\n",
      " [ 1.20503311e+19]\n",
      " [-9.85386651e+18]\n",
      " [ 1.36335977e+18]\n",
      " [ 8.22810067e+18]\n",
      " [-1.58487371e+19]\n",
      " [-5.16943134e+18]\n",
      " [-3.98407152e+18]\n",
      " [ 4.40934722e+18]\n",
      " [ 2.88737144e+19]\n",
      " [-4.65175158e+17]\n",
      " [-1.58744631e+19]\n",
      " [ 7.25321619e+20]\n",
      " [-1.31368870e+22]\n",
      " [ 4.52898245e+23]\n",
      " [-7.72983163e+24]\n",
      " [ 6.42124477e+25]\n",
      " [-2.50628719e+26]\n",
      " [ 3.65643157e+26]\n",
      " [-1.19103760e+19]\n",
      " [-2.74768219e+18]\n",
      " [ 2.75898496e+18]\n",
      " [ 1.63693238e+19]\n",
      " [ 9.52960270e+18]\n",
      " [-1.45522762e+19]\n",
      " [-5.04763520e+18]\n",
      " [ 2.28309113e+19]\n",
      " [-1.81731016e+19]\n",
      " [ 5.94846857e+19]\n",
      " [-8.51658509e+20]\n",
      " [ 3.22592485e+21]\n",
      " [-5.29692970e+21]\n",
      " [ 3.26051723e+21]\n",
      " [-2.44174359e+29]\n",
      " [ 1.73942850e+29]\n",
      " [ 4.77561289e+28]\n",
      " [-1.65891583e+29]\n",
      " [-1.02345409e+28]\n",
      " [ 1.01407836e+29]\n",
      " [-5.98044139e+27]\n",
      " [-2.56799010e+21]\n",
      " [ 8.70738133e+22]\n",
      " [-1.17981651e+24]\n",
      " [ 6.93262414e+24]\n",
      " [-1.98256634e+25]\n",
      " [ 2.68356247e+25]\n",
      " [-1.37464123e+25]\n",
      " [ 1.28167996e+22]\n",
      " [ 1.42449860e+24]\n",
      " [-1.84106496e+27]\n",
      " [ 3.31610539e+28]\n",
      " [-6.42051647e+28]\n",
      " [-1.30077442e+29]\n",
      " [ 1.73075778e+29]\n",
      " [-1.53568467e+22]\n",
      " [-3.23283928e+23]\n",
      " [ 2.25438836e+27]\n",
      " [-1.10468388e+28]\n",
      " [ 1.52520657e+28]\n",
      " [ 1.77381626e+28]\n",
      " [-1.24047602e+29]\n",
      " [ 1.66448237e+22]\n",
      " [-3.66977672e+23]\n",
      " [ 3.96955007e+24]\n",
      " [-2.16182902e+25]\n",
      " [ 6.09901475e+25]\n",
      " [-8.41939647e+25]\n",
      " [ 4.46152653e+25]\n",
      " [ 1.21789894e+23]\n",
      " [-3.11442511e+23]\n",
      " [-1.39116738e+28]\n",
      " [-4.05348220e+26]\n",
      " [ 1.42659739e+28]\n",
      " [-1.53353968e+28]\n",
      " [ 2.47066852e+49]\n",
      " [-4.99590596e+11]\n",
      " [ 9.74167302e+12]\n",
      " [ 6.46716906e+16]\n",
      " [ 1.07253225e+17]\n",
      " [-4.12529726e+16]\n",
      " [-1.65912610e+17]\n",
      " [-2.47066852e+49]\n",
      " [-1.94063802e+12]\n",
      " [ 1.58913790e+09]\n",
      " [-2.23338299e+09]\n",
      " [ 7.21554506e+09]\n",
      " [-1.23695058e+10]\n",
      " [ 1.16823110e+10]\n",
      " [-4.46676599e+09]]\n"
     ]
    }
   ],
   "source": [
    "print(loss_SGD)\n",
    "print(w_SGD)"
   ]
  },
  {
   "cell_type": "code",
   "execution_count": 92,
   "metadata": {},
   "outputs": [],
   "source": [
    "path_te = \"../data/test.csv\"\n",
    "yb_te, data_te, ids_te = load_csv_data(path_te,False)"
   ]
  },
  {
   "cell_type": "code",
   "execution_count": 94,
   "metadata": {},
   "outputs": [],
   "source": [
    "data_te0 = poly_expansion(data_te, degree, False, False)\n",
    "data_te0, mean_te, std_te = standardize(data_te0, mean_tr, std_tr)\n",
    "data_te0 = add_constant(data_te0)\n",
    "yb_te = yb_te.reshape(len(yb_te),1)"
   ]
  },
  {
   "cell_type": "code",
   "execution_count": 95,
   "metadata": {},
   "outputs": [],
   "source": [
    "#print(yb_te[:50])"
   ]
  },
  {
   "cell_type": "code",
   "execution_count": 97,
   "metadata": {},
   "outputs": [
    {
     "name": "stdout",
     "output_type": "stream",
     "text": [
      "[[-1]\n",
      " [-1]\n",
      " [-1]\n",
      " ...\n",
      " [-1]\n",
      " [ 1]\n",
      " [-1]]\n"
     ]
    }
   ],
   "source": [
    "y_pred = compute_y(data_te0, w_SGD)\n",
    "print(y_pred)"
   ]
  },
  {
   "cell_type": "code",
   "execution_count": 99,
   "metadata": {},
   "outputs": [
    {
     "name": "stdout",
     "output_type": "stream",
     "text": [
      "0.0\n"
     ]
    }
   ],
   "source": [
    "loss_gl = compute_loss(y_pred, data_te0, w_SGD, \"log\", lambda_=0)\n",
    "print(loss_gl)"
   ]
  },
  {
   "cell_type": "code",
   "execution_count": 100,
   "metadata": {},
   "outputs": [],
   "source": [
    "create_csv_submission(ids_te, y_pred, \"Testnumber3.csv\")"
   ]
  },
  {
   "cell_type": "code",
   "execution_count": null,
   "metadata": {},
   "outputs": [],
   "source": []
  }
 ],
 "metadata": {
  "anaconda-cloud": {},
  "kernelspec": {
   "display_name": "Python 3",
   "language": "python",
   "name": "python3"
  },
  "language_info": {
   "codemirror_mode": {
    "name": "ipython",
    "version": 3
   },
   "file_extension": ".py",
   "mimetype": "text/x-python",
   "name": "python",
   "nbconvert_exporter": "python",
   "pygments_lexer": "ipython3",
   "version": "3.6.5"
  }
 },
 "nbformat": 4,
 "nbformat_minor": 1
}
