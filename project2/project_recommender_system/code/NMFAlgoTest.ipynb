{
 "cells": [
  {
   "cell_type": "code",
   "execution_count": 17,
   "metadata": {},
   "outputs": [],
   "source": [
    "# Useful starting lines\n",
    "%matplotlib inline\n",
    "import numpy as np\n",
    "import scipy\n",
    "import scipy.io\n",
    "import scipy.sparse as sp\n",
    "import matplotlib.pyplot as plt\n",
    "import time\n",
    "import pandas as pd\n",
    "%load_ext autoreload\n",
    "%autoreload 2"
   ]
  },
  {
   "cell_type": "code",
   "execution_count": 2,
   "metadata": {},
   "outputs": [],
   "source": [
    "# import scikit-surprise stuff\n",
    "from surprise import SVD\n",
    "from surprise import NMF\n",
    "from surprise import Reader\n",
    "from surprise import Dataset\n",
    "from surprise.model_selection import cross_validate, GridSearchCV\n",
    "from surprise import accuracy\n",
    "from surprise.model_selection import train_test_split"
   ]
  },
  {
   "cell_type": "code",
   "execution_count": 3,
   "metadata": {
    "scrolled": true
   },
   "outputs": [],
   "source": [
    "# import costum stuff\n",
    "from utility import *"
   ]
  },
  {
   "cell_type": "code",
   "execution_count": 4,
   "metadata": {},
   "outputs": [],
   "source": [
    "# prepare file in correct format for scikit-surprise\n",
    "filepathcsv = \"../data/data_train.csv\"\n",
    "filepath = \"../data/data_train.dat\"\n",
    "convertCSV2Surprise(filepathcsv,filepath)"
   ]
  },
  {
   "cell_type": "code",
   "execution_count": 5,
   "metadata": {},
   "outputs": [],
   "source": [
    "# import data\n",
    "csvreader = Reader(line_format=u\"user item rating\",sep=\";\",rating_scale=(1,5),skip_lines=1)\n",
    "data = Dataset.load_from_file(filepath,csvreader)\n",
    "\n",
    "# chose algorithm\n",
    "algo = SVD()"
   ]
  },
  {
   "cell_type": "code",
   "execution_count": 6,
   "metadata": {
    "scrolled": true
   },
   "outputs": [
    {
     "ename": "KeyboardInterrupt",
     "evalue": "",
     "output_type": "error",
     "traceback": [
      "\u001b[1;31m---------------------------------------------------------------------------\u001b[0m",
      "\u001b[1;31mKeyboardInterrupt\u001b[0m                         Traceback (most recent call last)",
      "\u001b[1;32m<ipython-input-6-2201d34674d4>\u001b[0m in \u001b[0;36m<module>\u001b[1;34m()\u001b[0m\n\u001b[0;32m      1\u001b[0m \u001b[1;31m# test sequential execution\u001b[0m\u001b[1;33m\u001b[0m\u001b[1;33m\u001b[0m\u001b[0m\n\u001b[0;32m      2\u001b[0m \u001b[0mt\u001b[0m \u001b[1;33m=\u001b[0m \u001b[0mtime\u001b[0m\u001b[1;33m.\u001b[0m\u001b[0mclock\u001b[0m\u001b[1;33m(\u001b[0m\u001b[1;33m)\u001b[0m\u001b[1;33m\u001b[0m\u001b[0m\n\u001b[1;32m----> 3\u001b[1;33m \u001b[0mcross_validate\u001b[0m\u001b[1;33m(\u001b[0m\u001b[0malgo\u001b[0m\u001b[1;33m,\u001b[0m\u001b[0mdata\u001b[0m\u001b[1;33m,\u001b[0m\u001b[0mmeasures\u001b[0m\u001b[1;33m=\u001b[0m\u001b[1;33m[\u001b[0m\u001b[1;34m'RMSE'\u001b[0m\u001b[1;33m,\u001b[0m\u001b[1;34m'MAE'\u001b[0m\u001b[1;33m]\u001b[0m\u001b[1;33m,\u001b[0m \u001b[0mcv\u001b[0m\u001b[1;33m=\u001b[0m\u001b[1;36m5\u001b[0m\u001b[1;33m,\u001b[0m \u001b[0mverbose\u001b[0m\u001b[1;33m=\u001b[0m\u001b[1;32mTrue\u001b[0m\u001b[1;33m)\u001b[0m\u001b[1;33m\u001b[0m\u001b[0m\n\u001b[0m\u001b[0;32m      4\u001b[0m \u001b[0mt\u001b[0m \u001b[1;33m=\u001b[0m \u001b[0mtime\u001b[0m\u001b[1;33m.\u001b[0m\u001b[0mclock\u001b[0m\u001b[1;33m(\u001b[0m\u001b[1;33m)\u001b[0m\u001b[1;33m-\u001b[0m\u001b[0mt\u001b[0m\u001b[1;33m\u001b[0m\u001b[0m\n\u001b[0;32m      5\u001b[0m \u001b[0mprint\u001b[0m\u001b[1;33m(\u001b[0m\u001b[1;34m\"Sequential execution time: \"\u001b[0m\u001b[1;33m,\u001b[0m\u001b[0mt\u001b[0m\u001b[1;33m)\u001b[0m\u001b[1;33m\u001b[0m\u001b[0m\n",
      "\u001b[1;32m~\\Anaconda3\\lib\\site-packages\\surprise\\model_selection\\validation.py\u001b[0m in \u001b[0;36mcross_validate\u001b[1;34m(algo, data, measures, cv, return_train_measures, n_jobs, pre_dispatch, verbose)\u001b[0m\n\u001b[0;32m     99\u001b[0m                                            return_train_measures)\n\u001b[0;32m    100\u001b[0m                     for (trainset, testset) in cv.split(data))\n\u001b[1;32m--> 101\u001b[1;33m     \u001b[0mout\u001b[0m \u001b[1;33m=\u001b[0m \u001b[0mParallel\u001b[0m\u001b[1;33m(\u001b[0m\u001b[0mn_jobs\u001b[0m\u001b[1;33m=\u001b[0m\u001b[0mn_jobs\u001b[0m\u001b[1;33m,\u001b[0m \u001b[0mpre_dispatch\u001b[0m\u001b[1;33m=\u001b[0m\u001b[0mpre_dispatch\u001b[0m\u001b[1;33m)\u001b[0m\u001b[1;33m(\u001b[0m\u001b[0mdelayed_list\u001b[0m\u001b[1;33m)\u001b[0m\u001b[1;33m\u001b[0m\u001b[0m\n\u001b[0m\u001b[0;32m    102\u001b[0m \u001b[1;33m\u001b[0m\u001b[0m\n\u001b[0;32m    103\u001b[0m     (test_measures_dicts,\n",
      "\u001b[1;32m~\\Anaconda3\\lib\\site-packages\\joblib\\parallel.py\u001b[0m in \u001b[0;36m__call__\u001b[1;34m(self, iterable)\u001b[0m\n\u001b[0;32m    915\u001b[0m             \u001b[1;31m# remaining jobs.\u001b[0m\u001b[1;33m\u001b[0m\u001b[1;33m\u001b[0m\u001b[0m\n\u001b[0;32m    916\u001b[0m             \u001b[0mself\u001b[0m\u001b[1;33m.\u001b[0m\u001b[0m_iterating\u001b[0m \u001b[1;33m=\u001b[0m \u001b[1;32mFalse\u001b[0m\u001b[1;33m\u001b[0m\u001b[0m\n\u001b[1;32m--> 917\u001b[1;33m             \u001b[1;32mif\u001b[0m \u001b[0mself\u001b[0m\u001b[1;33m.\u001b[0m\u001b[0mdispatch_one_batch\u001b[0m\u001b[1;33m(\u001b[0m\u001b[0miterator\u001b[0m\u001b[1;33m)\u001b[0m\u001b[1;33m:\u001b[0m\u001b[1;33m\u001b[0m\u001b[0m\n\u001b[0m\u001b[0;32m    918\u001b[0m                 \u001b[0mself\u001b[0m\u001b[1;33m.\u001b[0m\u001b[0m_iterating\u001b[0m \u001b[1;33m=\u001b[0m \u001b[0mself\u001b[0m\u001b[1;33m.\u001b[0m\u001b[0m_original_iterator\u001b[0m \u001b[1;32mis\u001b[0m \u001b[1;32mnot\u001b[0m \u001b[1;32mNone\u001b[0m\u001b[1;33m\u001b[0m\u001b[0m\n\u001b[0;32m    919\u001b[0m \u001b[1;33m\u001b[0m\u001b[0m\n",
      "\u001b[1;32m~\\Anaconda3\\lib\\site-packages\\joblib\\parallel.py\u001b[0m in \u001b[0;36mdispatch_one_batch\u001b[1;34m(self, iterator)\u001b[0m\n\u001b[0;32m    757\u001b[0m                 \u001b[1;32mreturn\u001b[0m \u001b[1;32mFalse\u001b[0m\u001b[1;33m\u001b[0m\u001b[0m\n\u001b[0;32m    758\u001b[0m             \u001b[1;32melse\u001b[0m\u001b[1;33m:\u001b[0m\u001b[1;33m\u001b[0m\u001b[0m\n\u001b[1;32m--> 759\u001b[1;33m                 \u001b[0mself\u001b[0m\u001b[1;33m.\u001b[0m\u001b[0m_dispatch\u001b[0m\u001b[1;33m(\u001b[0m\u001b[0mtasks\u001b[0m\u001b[1;33m)\u001b[0m\u001b[1;33m\u001b[0m\u001b[0m\n\u001b[0m\u001b[0;32m    760\u001b[0m                 \u001b[1;32mreturn\u001b[0m \u001b[1;32mTrue\u001b[0m\u001b[1;33m\u001b[0m\u001b[0m\n\u001b[0;32m    761\u001b[0m \u001b[1;33m\u001b[0m\u001b[0m\n",
      "\u001b[1;32m~\\Anaconda3\\lib\\site-packages\\joblib\\parallel.py\u001b[0m in \u001b[0;36m_dispatch\u001b[1;34m(self, batch)\u001b[0m\n\u001b[0;32m    714\u001b[0m         \u001b[1;32mwith\u001b[0m \u001b[0mself\u001b[0m\u001b[1;33m.\u001b[0m\u001b[0m_lock\u001b[0m\u001b[1;33m:\u001b[0m\u001b[1;33m\u001b[0m\u001b[0m\n\u001b[0;32m    715\u001b[0m             \u001b[0mjob_idx\u001b[0m \u001b[1;33m=\u001b[0m \u001b[0mlen\u001b[0m\u001b[1;33m(\u001b[0m\u001b[0mself\u001b[0m\u001b[1;33m.\u001b[0m\u001b[0m_jobs\u001b[0m\u001b[1;33m)\u001b[0m\u001b[1;33m\u001b[0m\u001b[0m\n\u001b[1;32m--> 716\u001b[1;33m             \u001b[0mjob\u001b[0m \u001b[1;33m=\u001b[0m \u001b[0mself\u001b[0m\u001b[1;33m.\u001b[0m\u001b[0m_backend\u001b[0m\u001b[1;33m.\u001b[0m\u001b[0mapply_async\u001b[0m\u001b[1;33m(\u001b[0m\u001b[0mbatch\u001b[0m\u001b[1;33m,\u001b[0m \u001b[0mcallback\u001b[0m\u001b[1;33m=\u001b[0m\u001b[0mcb\u001b[0m\u001b[1;33m)\u001b[0m\u001b[1;33m\u001b[0m\u001b[0m\n\u001b[0m\u001b[0;32m    717\u001b[0m             \u001b[1;31m# A job can complete so quickly than its callback is\u001b[0m\u001b[1;33m\u001b[0m\u001b[1;33m\u001b[0m\u001b[0m\n\u001b[0;32m    718\u001b[0m             \u001b[1;31m# called before we get here, causing self._jobs to\u001b[0m\u001b[1;33m\u001b[0m\u001b[1;33m\u001b[0m\u001b[0m\n",
      "\u001b[1;32m~\\Anaconda3\\lib\\site-packages\\joblib\\_parallel_backends.py\u001b[0m in \u001b[0;36mapply_async\u001b[1;34m(self, func, callback)\u001b[0m\n\u001b[0;32m    180\u001b[0m     \u001b[1;32mdef\u001b[0m \u001b[0mapply_async\u001b[0m\u001b[1;33m(\u001b[0m\u001b[0mself\u001b[0m\u001b[1;33m,\u001b[0m \u001b[0mfunc\u001b[0m\u001b[1;33m,\u001b[0m \u001b[0mcallback\u001b[0m\u001b[1;33m=\u001b[0m\u001b[1;32mNone\u001b[0m\u001b[1;33m)\u001b[0m\u001b[1;33m:\u001b[0m\u001b[1;33m\u001b[0m\u001b[0m\n\u001b[0;32m    181\u001b[0m         \u001b[1;34m\"\"\"Schedule a func to be run\"\"\"\u001b[0m\u001b[1;33m\u001b[0m\u001b[0m\n\u001b[1;32m--> 182\u001b[1;33m         \u001b[0mresult\u001b[0m \u001b[1;33m=\u001b[0m \u001b[0mImmediateResult\u001b[0m\u001b[1;33m(\u001b[0m\u001b[0mfunc\u001b[0m\u001b[1;33m)\u001b[0m\u001b[1;33m\u001b[0m\u001b[0m\n\u001b[0m\u001b[0;32m    183\u001b[0m         \u001b[1;32mif\u001b[0m \u001b[0mcallback\u001b[0m\u001b[1;33m:\u001b[0m\u001b[1;33m\u001b[0m\u001b[0m\n\u001b[0;32m    184\u001b[0m             \u001b[0mcallback\u001b[0m\u001b[1;33m(\u001b[0m\u001b[0mresult\u001b[0m\u001b[1;33m)\u001b[0m\u001b[1;33m\u001b[0m\u001b[0m\n",
      "\u001b[1;32m~\\Anaconda3\\lib\\site-packages\\joblib\\_parallel_backends.py\u001b[0m in \u001b[0;36m__init__\u001b[1;34m(self, batch)\u001b[0m\n\u001b[0;32m    547\u001b[0m         \u001b[1;31m# Don't delay the application, to avoid keeping the input\u001b[0m\u001b[1;33m\u001b[0m\u001b[1;33m\u001b[0m\u001b[0m\n\u001b[0;32m    548\u001b[0m         \u001b[1;31m# arguments in memory\u001b[0m\u001b[1;33m\u001b[0m\u001b[1;33m\u001b[0m\u001b[0m\n\u001b[1;32m--> 549\u001b[1;33m         \u001b[0mself\u001b[0m\u001b[1;33m.\u001b[0m\u001b[0mresults\u001b[0m \u001b[1;33m=\u001b[0m \u001b[0mbatch\u001b[0m\u001b[1;33m(\u001b[0m\u001b[1;33m)\u001b[0m\u001b[1;33m\u001b[0m\u001b[0m\n\u001b[0m\u001b[0;32m    550\u001b[0m \u001b[1;33m\u001b[0m\u001b[0m\n\u001b[0;32m    551\u001b[0m     \u001b[1;32mdef\u001b[0m \u001b[0mget\u001b[0m\u001b[1;33m(\u001b[0m\u001b[0mself\u001b[0m\u001b[1;33m)\u001b[0m\u001b[1;33m:\u001b[0m\u001b[1;33m\u001b[0m\u001b[0m\n",
      "\u001b[1;32m~\\Anaconda3\\lib\\site-packages\\joblib\\parallel.py\u001b[0m in \u001b[0;36m__call__\u001b[1;34m(self)\u001b[0m\n\u001b[0;32m    223\u001b[0m         \u001b[1;32mwith\u001b[0m \u001b[0mparallel_backend\u001b[0m\u001b[1;33m(\u001b[0m\u001b[0mself\u001b[0m\u001b[1;33m.\u001b[0m\u001b[0m_backend\u001b[0m\u001b[1;33m,\u001b[0m \u001b[0mn_jobs\u001b[0m\u001b[1;33m=\u001b[0m\u001b[0mself\u001b[0m\u001b[1;33m.\u001b[0m\u001b[0m_n_jobs\u001b[0m\u001b[1;33m)\u001b[0m\u001b[1;33m:\u001b[0m\u001b[1;33m\u001b[0m\u001b[0m\n\u001b[0;32m    224\u001b[0m             return [func(*args, **kwargs)\n\u001b[1;32m--> 225\u001b[1;33m                     for func, args, kwargs in self.items]\n\u001b[0m\u001b[0;32m    226\u001b[0m \u001b[1;33m\u001b[0m\u001b[0m\n\u001b[0;32m    227\u001b[0m     \u001b[1;32mdef\u001b[0m \u001b[0m__len__\u001b[0m\u001b[1;33m(\u001b[0m\u001b[0mself\u001b[0m\u001b[1;33m)\u001b[0m\u001b[1;33m:\u001b[0m\u001b[1;33m\u001b[0m\u001b[0m\n",
      "\u001b[1;32m~\\Anaconda3\\lib\\site-packages\\joblib\\parallel.py\u001b[0m in \u001b[0;36m<listcomp>\u001b[1;34m(.0)\u001b[0m\n\u001b[0;32m    223\u001b[0m         \u001b[1;32mwith\u001b[0m \u001b[0mparallel_backend\u001b[0m\u001b[1;33m(\u001b[0m\u001b[0mself\u001b[0m\u001b[1;33m.\u001b[0m\u001b[0m_backend\u001b[0m\u001b[1;33m,\u001b[0m \u001b[0mn_jobs\u001b[0m\u001b[1;33m=\u001b[0m\u001b[0mself\u001b[0m\u001b[1;33m.\u001b[0m\u001b[0m_n_jobs\u001b[0m\u001b[1;33m)\u001b[0m\u001b[1;33m:\u001b[0m\u001b[1;33m\u001b[0m\u001b[0m\n\u001b[0;32m    224\u001b[0m             return [func(*args, **kwargs)\n\u001b[1;32m--> 225\u001b[1;33m                     for func, args, kwargs in self.items]\n\u001b[0m\u001b[0;32m    226\u001b[0m \u001b[1;33m\u001b[0m\u001b[0m\n\u001b[0;32m    227\u001b[0m     \u001b[1;32mdef\u001b[0m \u001b[0m__len__\u001b[0m\u001b[1;33m(\u001b[0m\u001b[0mself\u001b[0m\u001b[1;33m)\u001b[0m\u001b[1;33m:\u001b[0m\u001b[1;33m\u001b[0m\u001b[0m\n",
      "\u001b[1;32m~\\Anaconda3\\lib\\site-packages\\surprise\\model_selection\\validation.py\u001b[0m in \u001b[0;36mfit_and_score\u001b[1;34m(algo, trainset, testset, measures, return_train_measures)\u001b[0m\n\u001b[0;32m    162\u001b[0m \u001b[1;33m\u001b[0m\u001b[0m\n\u001b[0;32m    163\u001b[0m     \u001b[0mstart_fit\u001b[0m \u001b[1;33m=\u001b[0m \u001b[0mtime\u001b[0m\u001b[1;33m.\u001b[0m\u001b[0mtime\u001b[0m\u001b[1;33m(\u001b[0m\u001b[1;33m)\u001b[0m\u001b[1;33m\u001b[0m\u001b[0m\n\u001b[1;32m--> 164\u001b[1;33m     \u001b[0malgo\u001b[0m\u001b[1;33m.\u001b[0m\u001b[0mfit\u001b[0m\u001b[1;33m(\u001b[0m\u001b[0mtrainset\u001b[0m\u001b[1;33m)\u001b[0m\u001b[1;33m\u001b[0m\u001b[0m\n\u001b[0m\u001b[0;32m    165\u001b[0m     \u001b[0mfit_time\u001b[0m \u001b[1;33m=\u001b[0m \u001b[0mtime\u001b[0m\u001b[1;33m.\u001b[0m\u001b[0mtime\u001b[0m\u001b[1;33m(\u001b[0m\u001b[1;33m)\u001b[0m \u001b[1;33m-\u001b[0m \u001b[0mstart_fit\u001b[0m\u001b[1;33m\u001b[0m\u001b[0m\n\u001b[0;32m    166\u001b[0m     \u001b[0mstart_test\u001b[0m \u001b[1;33m=\u001b[0m \u001b[0mtime\u001b[0m\u001b[1;33m.\u001b[0m\u001b[0mtime\u001b[0m\u001b[1;33m(\u001b[0m\u001b[1;33m)\u001b[0m\u001b[1;33m\u001b[0m\u001b[0m\n",
      "\u001b[1;32m~\\Anaconda3\\lib\\site-packages\\surprise\\prediction_algorithms\\matrix_factorization.pyx\u001b[0m in \u001b[0;36msurprise.prediction_algorithms.matrix_factorization.SVD.fit\u001b[1;34m()\u001b[0m\n",
      "\u001b[1;32m~\\Anaconda3\\lib\\site-packages\\surprise\\prediction_algorithms\\matrix_factorization.pyx\u001b[0m in \u001b[0;36msurprise.prediction_algorithms.matrix_factorization.SVD.sgd\u001b[1;34m()\u001b[0m\n",
      "\u001b[1;32m~\\Anaconda3\\lib\\site-packages\\surprise\\trainset.py\u001b[0m in \u001b[0;36mall_ratings\u001b[1;34m(self)\u001b[0m\n\u001b[0;32m    188\u001b[0m         \u001b[1;32mfor\u001b[0m \u001b[0mu\u001b[0m\u001b[1;33m,\u001b[0m \u001b[0mu_ratings\u001b[0m \u001b[1;32min\u001b[0m \u001b[0miteritems\u001b[0m\u001b[1;33m(\u001b[0m\u001b[0mself\u001b[0m\u001b[1;33m.\u001b[0m\u001b[0mur\u001b[0m\u001b[1;33m)\u001b[0m\u001b[1;33m:\u001b[0m\u001b[1;33m\u001b[0m\u001b[0m\n\u001b[0;32m    189\u001b[0m             \u001b[1;32mfor\u001b[0m \u001b[0mi\u001b[0m\u001b[1;33m,\u001b[0m \u001b[0mr\u001b[0m \u001b[1;32min\u001b[0m \u001b[0mu_ratings\u001b[0m\u001b[1;33m:\u001b[0m\u001b[1;33m\u001b[0m\u001b[0m\n\u001b[1;32m--> 190\u001b[1;33m                 \u001b[1;32myield\u001b[0m \u001b[0mu\u001b[0m\u001b[1;33m,\u001b[0m \u001b[0mi\u001b[0m\u001b[1;33m,\u001b[0m \u001b[0mr\u001b[0m\u001b[1;33m\u001b[0m\u001b[0m\n\u001b[0m\u001b[0;32m    191\u001b[0m \u001b[1;33m\u001b[0m\u001b[0m\n\u001b[0;32m    192\u001b[0m     \u001b[1;32mdef\u001b[0m \u001b[0mbuild_testset\u001b[0m\u001b[1;33m(\u001b[0m\u001b[0mself\u001b[0m\u001b[1;33m)\u001b[0m\u001b[1;33m:\u001b[0m\u001b[1;33m\u001b[0m\u001b[0m\n",
      "\u001b[1;31mKeyboardInterrupt\u001b[0m: "
     ]
    }
   ],
   "source": [
    "# test sequential execution\n",
    "t = time.clock()\n",
    "cross_validate(algo,data,measures=['RMSE','MAE'], cv=5, verbose=True)\n",
    "t = time.clock()-t\n",
    "print(\"Sequential execution time: \",t)"
   ]
  },
  {
   "cell_type": "code",
   "execution_count": null,
   "metadata": {},
   "outputs": [],
   "source": [
    "# testing parallel execution\n",
    "t = time.clock()\n",
    "cross_validate(algo,data,measures=['RMSE','MAE'], cv=5, verbose=True,n_jobs=-1)\n",
    "t = time.clock()-t\n",
    "print(\"Parallel execution time: \",t)"
   ]
  },
  {
   "cell_type": "code",
   "execution_count": 16,
   "metadata": {},
   "outputs": [],
   "source": [
    "GridSearchCV?"
   ]
  },
  {
   "cell_type": "code",
   "execution_count": 6,
   "metadata": {},
   "outputs": [],
   "source": [
    "algo = NMF()"
   ]
  },
  {
   "cell_type": "code",
   "execution_count": 13,
   "metadata": {},
   "outputs": [
    {
     "name": "stdout",
     "output_type": "stream",
     "text": [
      "[75, 100]\n"
     ]
    }
   ],
   "source": [
    "print([i for i in range(75,101,25)])"
   ]
  },
  {
   "cell_type": "code",
   "execution_count": 6,
   "metadata": {},
   "outputs": [],
   "source": [
    "grid = \\\n",
    "{\\\n",
    "\"n_factors\": [2, 20, 100],\\\n",
    "\"reg_pu\": [0.1,0.2,0.3,0.5],\\\n",
    "\"reg_qi\": [0.3,0.4,0.5,1.0],\\\n",
    "\"n_epochs\": [20]\n",
    "}\n",
    "\n",
    "gridsearch = GridSearchCV(algo_class=NMF,param_grid=grid,measures=['RMSE','MAE'], cv=2, n_jobs=-1, joblib_verbose=2)"
   ]
  },
  {
   "cell_type": "code",
   "execution_count": 7,
   "metadata": {},
   "outputs": [
    {
     "name": "stdout",
     "output_type": "stream",
     "text": [
      "1.0045750480196105\n",
      "{'n_factors': 100, 'reg_pu': 0.2, 'reg_qi': 0.3, 'n_epochs': 20}\n"
     ]
    }
   ],
   "source": [
    "gridsearch.fit(data)\n",
    "print(gridsearch.best_score['rmse'])\n",
    "print(gridsearch.best_params['rmse'])"
   ]
  },
  {
   "cell_type": "markdown",
   "metadata": {},
   "source": [
    "**THIS IS THE RESULTS AND INITAL PARAMETERS FOR THE FIRST NMF ALGO RUN**"
   ]
  },
  {
   "cell_type": "markdown",
   "metadata": {},
   "source": [
    "**DO NOT EXECUTE THE TWO BOTTOM LINES ANYMORE!!**"
   ]
  },
  {
   "cell_type": "code",
   "execution_count": 8,
   "metadata": {},
   "outputs": [],
   "source": [
    "grid_2_NMF = \\\n",
    "{\\\n",
    "\"n_factors\": [2, 20, 100],\\\n",
    "\"reg_pu\": [0.005,0.02,0.05,0.1],\\\n",
    "\"reg_qi\": [0.01,0.05,0.1,0.3],\\\n",
    "\"n_epochs\": [20]\n",
    "}"
   ]
  },
  {
   "cell_type": "code",
   "execution_count": 9,
   "metadata": {},
   "outputs": [
    {
     "name": "stdout",
     "output_type": "stream",
     "text": [
      "1.0045750480196105\n",
      "{'n_factors': 100, 'reg_pu': 0.2, 'reg_qi': 0.3, 'n_epochs': 20}\n",
      "{'split0_test_rmse': array([1.23847032, 1.16221232, 1.11970456, 1.07314184, 1.11283606,\n",
      "       1.08961589, 1.08198889, 1.10346872, 1.08594816, 1.08343713,\n",
      "       1.08833365, 1.14479965, 1.08816736, 1.10447972, 1.12409477,\n",
      "       1.22814691, 1.01039364, 1.01438201, 1.02062527, 1.0516354 ,\n",
      "       1.02684906, 1.03928772, 1.05175396, 1.10223426, 1.04549111,\n",
      "       1.06266326, 1.07766828, 1.14698583, 1.07782929, 1.10232028,\n",
      "       1.12507785, 1.23036247, 1.08989546, 1.02513092, 1.00576141,\n",
      "       1.03595748, 1.00395185, 1.01493625, 1.03154211, 1.09752869,\n",
      "       1.02270828, 1.04679132, 1.06759199, 1.14521917, 1.06772847,\n",
      "       1.09693127, 1.1220744 , 1.22971718]), 'split1_test_rmse': array([1.23670512, 1.16280571, 1.11809078, 1.07261919, 1.11187004,\n",
      "       1.08919306, 1.08133756, 1.10307119, 1.08557053, 1.08296208,\n",
      "       1.08774489, 1.14325998, 1.08774799, 1.1035381 , 1.12293093,\n",
      "       1.22603453, 1.01092977, 1.01546115, 1.02160458, 1.05149152,\n",
      "       1.02684482, 1.03889749, 1.05078385, 1.10097299, 1.04518419,\n",
      "       1.06154674, 1.07695141, 1.14553221, 1.0772825 , 1.10109223,\n",
      "       1.12390288, 1.22807969, 1.09327413, 1.02767133, 1.00758434,\n",
      "       1.03585496, 1.00519825, 1.01538303, 1.03145479, 1.09659634,\n",
      "       1.0227824 , 1.04628686, 1.06694499, 1.14378597, 1.06715985,\n",
      "       1.0958301 , 1.12065687, 1.22747198]), 'mean_test_rmse': array([1.23758772, 1.16250902, 1.11889767, 1.07288051, 1.11235305,\n",
      "       1.08940448, 1.08166322, 1.10326995, 1.08575935, 1.08319961,\n",
      "       1.08803927, 1.14402981, 1.08795768, 1.10400891, 1.12351285,\n",
      "       1.22709072, 1.0106617 , 1.01492158, 1.02111493, 1.05156346,\n",
      "       1.02684694, 1.03909261, 1.0512689 , 1.10160362, 1.04533765,\n",
      "       1.062105  , 1.07730985, 1.14625902, 1.0775559 , 1.10170625,\n",
      "       1.12449037, 1.22922108, 1.0915848 , 1.02640113, 1.00667287,\n",
      "       1.03590622, 1.00457505, 1.01515964, 1.03149845, 1.09706251,\n",
      "       1.02274534, 1.04653909, 1.06726849, 1.14450257, 1.06744416,\n",
      "       1.09638069, 1.12136564, 1.22859458]), 'std_test_rmse': array([8.82597347e-04, 2.96695181e-04, 8.06889671e-04, 2.61322066e-04,\n",
      "       4.83011241e-04, 2.11413339e-04, 3.25663816e-04, 1.98763989e-04,\n",
      "       1.88814062e-04, 2.37523879e-04, 2.94382071e-04, 7.69837718e-04,\n",
      "       2.09686786e-04, 4.70808567e-04, 5.81923263e-04, 1.05619354e-03,\n",
      "       2.68066473e-04, 5.39572293e-04, 4.89651922e-04, 7.19409557e-05,\n",
      "       2.12086384e-06, 1.95111858e-04, 4.85055517e-04, 6.30631635e-04,\n",
      "       1.53460692e-04, 5.58257200e-04, 3.58433021e-04, 7.26810574e-04,\n",
      "       2.73391693e-04, 6.14025093e-04, 5.87485718e-04, 1.14139091e-03,\n",
      "       1.68933317e-03, 1.27020698e-03, 9.11469157e-04, 5.12620839e-05,\n",
      "       6.23201892e-04, 2.23390661e-04, 4.36592267e-05, 4.66175343e-04,\n",
      "       3.70628072e-05, 2.52226504e-04, 3.23501229e-04, 7.16601569e-04,\n",
      "       2.84305622e-04, 5.50585417e-04, 7.08760744e-04, 1.12259986e-03]), 'rank_test_rmse': array([48, 44, 37, 20, 36, 28, 23, 34, 25, 24, 27, 41, 26, 35, 39, 45,  3,\n",
      "        4,  6, 16,  9, 12, 15, 32, 13, 17, 21, 43, 22, 33, 40, 47, 29,  8,\n",
      "        2, 11,  1,  5, 10, 31,  7, 14, 18, 42, 19, 30, 38, 46],\n",
      "      dtype=int64), 'split0_test_mae': array([1.05580941, 0.98514313, 0.94493665, 0.89883205, 0.93827868,\n",
      "       0.9154238 , 0.90786319, 0.92934919, 0.91174828, 0.90929733,\n",
      "       0.91428095, 0.96895446, 0.91420124, 0.93027144, 0.94928172,\n",
      "       1.04626945, 0.81795009, 0.82818842, 0.83816247, 0.87616444,\n",
      "       0.84650037, 0.86188314, 0.87612895, 0.92807048, 0.8691014 ,\n",
      "       0.88791659, 0.90345184, 0.97100758, 0.90355071, 0.92815411,\n",
      "       0.9501484 , 1.04828532, 0.81558551, 0.79598341, 0.80003847,\n",
      "       0.85873754, 0.8077149 , 0.8317724 , 0.85355128, 0.9235022 ,\n",
      "       0.84249382, 0.87107291, 0.8932796 , 0.96933202, 0.89344519,\n",
      "       0.92292673, 0.94735943, 1.0477365 ]), 'split1_test_mae': array([1.05431212, 0.98560275, 0.94312077, 0.8979501 , 0.93694472,\n",
      "       0.91443798, 0.90670216, 0.92857778, 0.91105026, 0.90857992,\n",
      "       0.91334177, 0.9672547 , 0.9133552 , 0.92902929, 0.94784042,\n",
      "       1.0443378 , 0.81741334, 0.8285918 , 0.83874937, 0.87545093,\n",
      "       0.84603622, 0.86107156, 0.87458832, 0.92645496, 0.86823413,\n",
      "       0.88625129, 0.90234542, 0.96941616, 0.90268331, 0.92652756,\n",
      "       0.94876107, 1.04622857, 0.81791224, 0.79734839, 0.80102158,\n",
      "       0.85811796, 0.80831706, 0.83162762, 0.85296469, 0.92224118,\n",
      "       0.8420033 , 0.8700566 , 0.89218456, 0.96776252, 0.89243812,\n",
      "       0.92145011, 0.94567254, 1.04567264]), 'mean_test_mae': array([1.05506077, 0.98537294, 0.94402871, 0.89839107, 0.9376117 ,\n",
      "       0.91493089, 0.90728268, 0.92896348, 0.91139927, 0.90893863,\n",
      "       0.91381136, 0.96810458, 0.91377822, 0.92965037, 0.94856107,\n",
      "       1.04530362, 0.81768171, 0.82839011, 0.83845592, 0.87580768,\n",
      "       0.8462683 , 0.86147735, 0.87535864, 0.92726272, 0.86866777,\n",
      "       0.88708394, 0.90289863, 0.97021187, 0.90311701, 0.92734084,\n",
      "       0.94945473, 1.04725694, 0.81674887, 0.7966659 , 0.80053003,\n",
      "       0.85842775, 0.80801598, 0.83170001, 0.85325798, 0.92287169,\n",
      "       0.84224856, 0.87056476, 0.89273208, 0.96854727, 0.89294165,\n",
      "       0.92218842, 0.94651599, 1.04670457]), 'std_test_mae': array([7.48643754e-04, 2.29812361e-04, 9.07940515e-04, 4.40976554e-04,\n",
      "       6.66978647e-04, 4.92907823e-04, 5.80517869e-04, 3.85701227e-04,\n",
      "       3.49009894e-04, 3.58703434e-04, 4.69586548e-04, 8.49879470e-04,\n",
      "       4.23016217e-04, 6.21077101e-04, 7.20651438e-04, 9.65825767e-04,\n",
      "       2.68372639e-04, 2.01690024e-04, 2.93448901e-04, 3.56756015e-04,\n",
      "       2.32075068e-04, 4.05788929e-04, 7.70314279e-04, 8.07756068e-04,\n",
      "       4.33633302e-04, 8.32652313e-04, 5.53211289e-04, 7.95709580e-04,\n",
      "       4.33701752e-04, 8.13275377e-04, 6.93665451e-04, 1.02837165e-03,\n",
      "       1.16336619e-03, 6.82489748e-04, 4.91556736e-04, 3.09792321e-04,\n",
      "       3.01081422e-04, 7.23904414e-05, 2.93297630e-04, 6.30510167e-04,\n",
      "       2.45256914e-04, 5.08153287e-04, 5.47515585e-04, 7.84751868e-04,\n",
      "       5.03535148e-04, 7.38309347e-04, 8.43446147e-04, 1.03192829e-03]), 'rank_test_mae': array([48, 44, 37, 21, 36, 29, 24, 34, 26, 25, 28, 41, 27, 35, 39, 45,  5,\n",
      "        6,  8, 17, 10, 13, 16, 32, 14, 18, 22, 43, 23, 33, 40, 47,  4,  1,\n",
      "        2, 12,  3,  7, 11, 31,  9, 15, 19, 42, 20, 30, 38, 46],\n",
      "      dtype=int64), 'mean_fit_time': array([ 8.37658763,  8.33270502,  8.53517914,  8.5166955 ,  9.050313  ,\n",
      "        9.61680508,  9.13110185,  8.95555627,  9.1819694 ,  8.51822495,\n",
      "        8.25642502,  8.38707423,  8.2394861 ,  8.23946941,  8.25295126,\n",
      "        8.16518354, 16.73464644, 22.12126803, 20.9675765 , 19.39988494,\n",
      "       20.06370926, 19.72593963, 18.79895735, 19.4033711 , 19.96952891,\n",
      "       21.19040501, 21.30912566, 18.61208749, 20.29846275, 18.0574249 ,\n",
      "       18.2301203 , 20.50481308, 61.703251  , 62.9169215 , 61.8213433 ,\n",
      "       65.79498112, 62.00880671, 60.96337247, 61.34795225, 59.29812348,\n",
      "       63.70894921, 63.64486849, 60.35897696, 59.74080682, 60.79226756,\n",
      "       61.08089852, 59.67081058, 52.9991082 ]), 'std_fit_time': array([0.00500369, 0.0568645 , 0.1824801 , 0.08327746, 0.39347458,\n",
      "       0.33761525, 0.2797358 , 0.05335581, 0.64276218, 0.2393589 ,\n",
      "       0.12217367, 0.00448775, 0.03342545, 0.01246655, 0.08977735,\n",
      "       0.02092814, 0.2584821 , 2.24926925, 1.19137788, 0.10761666,\n",
      "       0.9147141 , 1.05111778, 0.05805659, 0.35159302, 1.66801071,\n",
      "       2.73612154, 1.51747823, 0.19272661, 0.13825428, 0.57603204,\n",
      "       0.01885164, 2.60117185, 0.5394851 , 1.55159223, 0.80134332,\n",
      "       0.4010185 , 1.01974559, 0.49465084, 0.74342692, 0.33823717,\n",
      "       1.75234568, 1.1690563 , 0.20968044, 0.47709846, 0.0306263 ,\n",
      "       0.25222564, 1.54741442, 1.59930289]), 'mean_test_time': array([3.98835075, 3.91602933, 4.06413269, 5.21754885, 4.44261777,\n",
      "       4.56926382, 4.87794101, 4.42420542, 4.43512261, 3.78986692,\n",
      "       3.79784513, 3.85868251, 3.85071945, 3.87015212, 3.81578064,\n",
      "       3.88759065, 4.70661592, 7.1068083 , 5.63080573, 6.24394166,\n",
      "       5.94183326, 5.32620347, 5.55441558, 5.2348187 , 5.44623518,\n",
      "       7.00735521, 5.74774098, 5.32852709, 5.51588917, 5.12162268,\n",
      "       5.01683569, 5.85625637, 5.98680997, 5.79881847, 5.97947967,\n",
      "       5.93105245, 5.7497052 , 6.11040437, 5.45137811, 6.09017313,\n",
      "       6.55621731, 5.79902446, 5.86733103, 5.71993053, 5.43984985,\n",
      "       5.76899588, 5.20676553, 5.09640121]), 'std_test_time': array([0.02395213, 0.02244008, 0.1246984 , 1.34191155, 0.19198859,\n",
      "       0.00949633, 0.43382561, 0.00199687, 0.49669039, 0.00897598,\n",
      "       0.02194095, 0.01196849, 0.05885792, 0.02742684, 0.04286742,\n",
      "       0.01793599, 0.29600787, 0.63047135, 0.21789169, 0.18717206,\n",
      "       0.33538795, 0.00276697, 0.34410703, 0.09082675, 0.10052967,\n",
      "       0.22023177, 0.0597136 , 0.20838344, 0.02435923, 0.47275293,\n",
      "       0.133425  , 0.93091714, 0.28592205, 0.10843861, 0.53548682,\n",
      "       0.24544573, 0.07419097, 0.03745377, 0.03401756, 0.72957313,\n",
      "       0.38901746, 0.06859028, 0.10509133, 0.2694329 , 0.0192318 ,\n",
      "       0.21206462, 0.26481855, 0.02420282]), 'params': [{'n_factors': 2, 'reg_pu': 0.1, 'reg_qi': 0.3, 'n_epochs': 20}, {'n_factors': 2, 'reg_pu': 0.1, 'reg_qi': 0.4, 'n_epochs': 20}, {'n_factors': 2, 'reg_pu': 0.1, 'reg_qi': 0.5, 'n_epochs': 20}, {'n_factors': 2, 'reg_pu': 0.1, 'reg_qi': 1.0, 'n_epochs': 20}, {'n_factors': 2, 'reg_pu': 0.2, 'reg_qi': 0.3, 'n_epochs': 20}, {'n_factors': 2, 'reg_pu': 0.2, 'reg_qi': 0.4, 'n_epochs': 20}, {'n_factors': 2, 'reg_pu': 0.2, 'reg_qi': 0.5, 'n_epochs': 20}, {'n_factors': 2, 'reg_pu': 0.2, 'reg_qi': 1.0, 'n_epochs': 20}, {'n_factors': 2, 'reg_pu': 0.3, 'reg_qi': 0.3, 'n_epochs': 20}, {'n_factors': 2, 'reg_pu': 0.3, 'reg_qi': 0.4, 'n_epochs': 20}, {'n_factors': 2, 'reg_pu': 0.3, 'reg_qi': 0.5, 'n_epochs': 20}, {'n_factors': 2, 'reg_pu': 0.3, 'reg_qi': 1.0, 'n_epochs': 20}, {'n_factors': 2, 'reg_pu': 0.5, 'reg_qi': 0.3, 'n_epochs': 20}, {'n_factors': 2, 'reg_pu': 0.5, 'reg_qi': 0.4, 'n_epochs': 20}, {'n_factors': 2, 'reg_pu': 0.5, 'reg_qi': 0.5, 'n_epochs': 20}, {'n_factors': 2, 'reg_pu': 0.5, 'reg_qi': 1.0, 'n_epochs': 20}, {'n_factors': 20, 'reg_pu': 0.1, 'reg_qi': 0.3, 'n_epochs': 20}, {'n_factors': 20, 'reg_pu': 0.1, 'reg_qi': 0.4, 'n_epochs': 20}, {'n_factors': 20, 'reg_pu': 0.1, 'reg_qi': 0.5, 'n_epochs': 20}, {'n_factors': 20, 'reg_pu': 0.1, 'reg_qi': 1.0, 'n_epochs': 20}, {'n_factors': 20, 'reg_pu': 0.2, 'reg_qi': 0.3, 'n_epochs': 20}, {'n_factors': 20, 'reg_pu': 0.2, 'reg_qi': 0.4, 'n_epochs': 20}, {'n_factors': 20, 'reg_pu': 0.2, 'reg_qi': 0.5, 'n_epochs': 20}, {'n_factors': 20, 'reg_pu': 0.2, 'reg_qi': 1.0, 'n_epochs': 20}, {'n_factors': 20, 'reg_pu': 0.3, 'reg_qi': 0.3, 'n_epochs': 20}, {'n_factors': 20, 'reg_pu': 0.3, 'reg_qi': 0.4, 'n_epochs': 20}, {'n_factors': 20, 'reg_pu': 0.3, 'reg_qi': 0.5, 'n_epochs': 20}, {'n_factors': 20, 'reg_pu': 0.3, 'reg_qi': 1.0, 'n_epochs': 20}, {'n_factors': 20, 'reg_pu': 0.5, 'reg_qi': 0.3, 'n_epochs': 20}, {'n_factors': 20, 'reg_pu': 0.5, 'reg_qi': 0.4, 'n_epochs': 20}, {'n_factors': 20, 'reg_pu': 0.5, 'reg_qi': 0.5, 'n_epochs': 20}, {'n_factors': 20, 'reg_pu': 0.5, 'reg_qi': 1.0, 'n_epochs': 20}, {'n_factors': 100, 'reg_pu': 0.1, 'reg_qi': 0.3, 'n_epochs': 20}, {'n_factors': 100, 'reg_pu': 0.1, 'reg_qi': 0.4, 'n_epochs': 20}, {'n_factors': 100, 'reg_pu': 0.1, 'reg_qi': 0.5, 'n_epochs': 20}, {'n_factors': 100, 'reg_pu': 0.1, 'reg_qi': 1.0, 'n_epochs': 20}, {'n_factors': 100, 'reg_pu': 0.2, 'reg_qi': 0.3, 'n_epochs': 20}, {'n_factors': 100, 'reg_pu': 0.2, 'reg_qi': 0.4, 'n_epochs': 20}, {'n_factors': 100, 'reg_pu': 0.2, 'reg_qi': 0.5, 'n_epochs': 20}, {'n_factors': 100, 'reg_pu': 0.2, 'reg_qi': 1.0, 'n_epochs': 20}, {'n_factors': 100, 'reg_pu': 0.3, 'reg_qi': 0.3, 'n_epochs': 20}, {'n_factors': 100, 'reg_pu': 0.3, 'reg_qi': 0.4, 'n_epochs': 20}, {'n_factors': 100, 'reg_pu': 0.3, 'reg_qi': 0.5, 'n_epochs': 20}, {'n_factors': 100, 'reg_pu': 0.3, 'reg_qi': 1.0, 'n_epochs': 20}, {'n_factors': 100, 'reg_pu': 0.5, 'reg_qi': 0.3, 'n_epochs': 20}, {'n_factors': 100, 'reg_pu': 0.5, 'reg_qi': 0.4, 'n_epochs': 20}, {'n_factors': 100, 'reg_pu': 0.5, 'reg_qi': 0.5, 'n_epochs': 20}, {'n_factors': 100, 'reg_pu': 0.5, 'reg_qi': 1.0, 'n_epochs': 20}], 'param_n_factors': [2, 2, 2, 2, 2, 2, 2, 2, 2, 2, 2, 2, 2, 2, 2, 2, 20, 20, 20, 20, 20, 20, 20, 20, 20, 20, 20, 20, 20, 20, 20, 20, 100, 100, 100, 100, 100, 100, 100, 100, 100, 100, 100, 100, 100, 100, 100, 100], 'param_reg_pu': [0.1, 0.1, 0.1, 0.1, 0.2, 0.2, 0.2, 0.2, 0.3, 0.3, 0.3, 0.3, 0.5, 0.5, 0.5, 0.5, 0.1, 0.1, 0.1, 0.1, 0.2, 0.2, 0.2, 0.2, 0.3, 0.3, 0.3, 0.3, 0.5, 0.5, 0.5, 0.5, 0.1, 0.1, 0.1, 0.1, 0.2, 0.2, 0.2, 0.2, 0.3, 0.3, 0.3, 0.3, 0.5, 0.5, 0.5, 0.5], 'param_reg_qi': [0.3, 0.4, 0.5, 1.0, 0.3, 0.4, 0.5, 1.0, 0.3, 0.4, 0.5, 1.0, 0.3, 0.4, 0.5, 1.0, 0.3, 0.4, 0.5, 1.0, 0.3, 0.4, 0.5, 1.0, 0.3, 0.4, 0.5, 1.0, 0.3, 0.4, 0.5, 1.0, 0.3, 0.4, 0.5, 1.0, 0.3, 0.4, 0.5, 1.0, 0.3, 0.4, 0.5, 1.0, 0.3, 0.4, 0.5, 1.0], 'param_n_epochs': [20, 20, 20, 20, 20, 20, 20, 20, 20, 20, 20, 20, 20, 20, 20, 20, 20, 20, 20, 20, 20, 20, 20, 20, 20, 20, 20, 20, 20, 20, 20, 20, 20, 20, 20, 20, 20, 20, 20, 20, 20, 20, 20, 20, 20, 20, 20, 20]}\n"
     ]
    }
   ],
   "source": [
    "gs1NMF = gridsearch\n",
    "Results_2_NMF = gridsearch.cv_results\n",
    "print(gridsearch.best_score['rmse'])\n",
    "print(gridsearch.best_params['rmse'])\n",
    "print(Results_2_NMF)"
   ]
  },
  {
   "cell_type": "markdown",
   "metadata": {},
   "source": [
    "Export the code somewhere"
   ]
  },
  {
   "cell_type": "code",
   "execution_count": 19,
   "metadata": {},
   "outputs": [],
   "source": [
    "results_df = pd.DataFrame.from_dict(Results_2_NMF)"
   ]
  },
  {
   "cell_type": "code",
   "execution_count": 22,
   "metadata": {},
   "outputs": [],
   "source": [
    "results_df.to_csv(r'NMF2.csv')"
   ]
  },
  {
   "cell_type": "code",
   "execution_count": null,
   "metadata": {},
   "outputs": [],
   "source": []
  },
  {
   "cell_type": "markdown",
   "metadata": {},
   "source": [
    "*Build the best prediction algo and evaluate on Kaggle*"
   ]
  },
  {
   "cell_type": "code",
   "execution_count": 10,
   "metadata": {},
   "outputs": [],
   "source": [
    "#trainset, testset = train_test_split(data, test_size=0.2)\n",
    "algo = gs1NMF.best_estimator['rmse']"
   ]
  },
  {
   "cell_type": "code",
   "execution_count": 11,
   "metadata": {},
   "outputs": [
    {
     "data": {
      "text/plain": [
       "<surprise.prediction_algorithms.matrix_factorization.NMF at 0x1a97539a208>"
      ]
     },
     "execution_count": 11,
     "metadata": {},
     "output_type": "execute_result"
    }
   ],
   "source": [
    "algo.fit(data.build_full_trainset())"
   ]
  },
  {
   "cell_type": "code",
   "execution_count": 32,
   "metadata": {},
   "outputs": [
    {
     "name": "stdout",
     "output_type": "stream",
     "text": [
      "user: 4          item: 4          r_ui = None   est = 3.50   {'was_impossible': False}\n",
      "3.5049951984878223\n"
     ]
    }
   ],
   "source": [
    "uid = str(4)\n",
    "iid = str(4)\n",
    "pred = algo.predict(uid, iid, verbose = True)\n",
    "print(pred.est)"
   ]
  },
  {
   "cell_type": "code",
   "execution_count": null,
   "metadata": {},
   "outputs": [],
   "source": [
    "print(accuracy.rmse(predictions))"
   ]
  },
  {
   "cell_type": "code",
   "execution_count": 13,
   "metadata": {},
   "outputs": [],
   "source": [
    "from helpers import load_data, preprocess_data\n",
    "def deal_lines(line):\n",
    "    row_cols = line[0]\n",
    "    r, c = row_cols.split(\"_\")\n",
    "    row = r[1:]\n",
    "    col = c[1:]\n",
    "    return int(row), int(col)\n",
    "\n",
    "def read_Sample(path):\n",
    "    import csv\n",
    "    with open(path) as csv_file:\n",
    "        csv_reader = csv.reader(csv_file, delimiter=',')\n",
    "        rows = list()\n",
    "        cols = list()\n",
    "        for row in csv_reader:\n",
    "            csv_reader = [deal_lines(line) for line in csv_reader]\n",
    "    return csv_reader\n",
    "\n",
    "sampleSub = \"SampleSubmission.csv\"\n",
    "data = read_Sample(sampleSub)\n",
    "indices = np.asarray(data);\n",
    "\n",
    "def calcValue(rows, cols):\n",
    "    value = round(algo.predict(str(cols), str(rows), clip=True).est)\n",
    "    a = [1, 2, 3, 4, 5]\n",
    "    if value not in a:\n",
    "        if value > 5:\n",
    "            value = 5\n",
    "        if value < 1:\n",
    "            value = 1\n",
    "    return value\n",
    "\n",
    "def writeSubFile(indices):\n",
    "    import csv\n",
    "    with open('SubmissionFile.csv', mode='w') as submF:\n",
    "        writer = csv.writer(submF, delimiter=',', quotechar='', quoting=csv.QUOTE_NONE , lineterminator = '\\n')\n",
    "        writer.writerow(['Id','Prediction'])\n",
    "        for row, col in indices:\n",
    "            msg = 'r'+str(row)+'_c'+str(col)\n",
    "            value = calcValue(row-1, col-1)\n",
    "            writer.writerow([msg, value])\n",
    "writeSubFile(indices)"
   ]
  },
  {
   "cell_type": "markdown",
   "metadata": {},
   "source": [
    "TODO:\n",
    "\n",
    "* GridSearchCV\n",
    "\n",
    "* build_full_trainset + algo.predict() -> kaggle\n",
    "\n",
    "* test other algorithms\n",
    "\n",
    "* code export to .csv\n",
    "\n",
    "* manual cross-validation with iterators\n",
    "\n",
    "* manual split\n",
    "\n",
    "* maybe build costum prediction algorithm?\n",
    "\n",
    "* write intro (Netflix prize, Simon Fuchs, other applications,scikit-surpise (why reinvent the wheel?), short summary of content)\n",
    "\n",
    "* important: in report show that we did understand the different methods!"
   ]
  },
  {
   "cell_type": "code",
   "execution_count": null,
   "metadata": {},
   "outputs": [],
   "source": []
  }
 ],
 "metadata": {
  "anaconda-cloud": {},
  "kernelspec": {
   "display_name": "Python 3",
   "language": "python",
   "name": "python3"
  },
  "language_info": {
   "codemirror_mode": {
    "name": "ipython",
    "version": 3
   },
   "file_extension": ".py",
   "mimetype": "text/x-python",
   "name": "python",
   "nbconvert_exporter": "python",
   "pygments_lexer": "ipython3",
   "version": "3.6.5"
  }
 },
 "nbformat": 4,
 "nbformat_minor": 1
}
