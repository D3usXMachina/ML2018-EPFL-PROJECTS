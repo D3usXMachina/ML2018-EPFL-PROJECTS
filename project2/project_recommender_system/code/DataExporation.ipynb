{
 "cells": [
  {
   "cell_type": "markdown",
   "metadata": {},
   "source": [
    "# Test for Recommender System using SciKit-Surprise"
   ]
  },
  {
   "cell_type": "markdown",
   "metadata": {},
   "source": [
    "### import libraries"
   ]
  },
  {
   "cell_type": "code",
   "execution_count": 1,
   "metadata": {},
   "outputs": [],
   "source": [
    "# Useful starting lines\n",
    "%matplotlib inline\n",
    "import numpy as np\n",
    "import scipy\n",
    "import scipy.io\n",
    "import scipy.sparse as sp\n",
    "import matplotlib.pyplot as plt\n",
    "import time\n",
    "import datetime\n",
    "%load_ext autoreload\n",
    "%autoreload 2"
   ]
  },
  {
   "cell_type": "code",
   "execution_count": 2,
   "metadata": {},
   "outputs": [],
   "source": [
    "# import scikit-surprise stuff\n",
    "from surprise import SVD\n",
    "from surprise import Reader\n",
    "from surprise import Dataset\n",
    "from surprise.model_selection import cross_validate, GridSearchCV"
   ]
  },
  {
   "cell_type": "code",
   "execution_count": 3,
   "metadata": {},
   "outputs": [],
   "source": [
    "# import pandas for DataFrame\n",
    "import pandas as pd"
   ]
  },
  {
   "cell_type": "code",
   "execution_count": 4,
   "metadata": {
    "scrolled": true
   },
   "outputs": [],
   "source": [
    "# import costum stuff\n",
    "from utility import *"
   ]
  },
  {
   "cell_type": "markdown",
   "metadata": {},
   "source": [
    "### Import train and test set"
   ]
  },
  {
   "cell_type": "code",
   "execution_count": 5,
   "metadata": {},
   "outputs": [],
   "source": [
    "datafilepath = \"../data/data_train.csv\"\n",
    "data_df = loadData2df(datafilepath)"
   ]
  },
  {
   "cell_type": "code",
   "execution_count": 6,
   "metadata": {},
   "outputs": [],
   "source": [
    "predinfilepath = \"../data/sample_submission.csv\"\n",
    "pred_df = loadData2df(predinfilepath)"
   ]
  },
  {
   "cell_type": "code",
   "execution_count": 50,
   "metadata": {},
   "outputs": [],
   "source": [
    "data_red_df = data_df[data_df[\"itemId\"].isin(itemstats_red.index)]\n",
    "data_red_df = data_red_df[data_red_df[\"userId\"].isin(userstats_red.index)]"
   ]
  },
  {
   "cell_type": "code",
   "execution_count": 51,
   "metadata": {},
   "outputs": [],
   "source": [
    "itemstats2 = data_red_df[\"itemId\"].value_counts()\n",
    "userstats2 = data_red_df[\"userId\"].value_counts()"
   ]
  },
  {
   "cell_type": "code",
   "execution_count": 52,
   "metadata": {},
   "outputs": [
    {
     "data": {
      "text/plain": [
       "53"
      ]
     },
     "execution_count": 52,
     "metadata": {},
     "output_type": "execute_result"
    }
   ],
   "source": [
    "itemstats2.min()"
   ]
  },
  {
   "cell_type": "code",
   "execution_count": 53,
   "metadata": {},
   "outputs": [
    {
     "data": {
      "text/plain": [
       "20"
      ]
     },
     "execution_count": 53,
     "metadata": {},
     "output_type": "execute_result"
    }
   ],
   "source": [
    "userstats2.min()"
   ]
  },
  {
   "cell_type": "markdown",
   "metadata": {},
   "source": [
    "### Compute and plot interesting stuff"
   ]
  },
  {
   "cell_type": "code",
   "execution_count": 201,
   "metadata": {},
   "outputs": [],
   "source": [
    "figuresize=(5, 4)"
   ]
  },
  {
   "cell_type": "markdown",
   "metadata": {},
   "source": [
    "#### Rating Distribution"
   ]
  },
  {
   "cell_type": "code",
   "execution_count": 210,
   "metadata": {
    "scrolled": true
   },
   "outputs": [
    {
     "data": {
      "image/png": "[encoded data removed]",
      "text/plain": [
       "<Figure size 360x288 with 2 Axes>"
      ]
     },
     "metadata": {},
     "output_type": "display_data"
    }
   ],
   "source": [
    "fig = plt.figure(figsize=figuresize)\n",
    "fig.suptitle(\"Rating Distribution\")\n",
    "axlst = fig.subplots(2,1,sharex=False,gridspec_kw={\"height_ratios\":[2,1]})\n",
    "myhist = axlst[0].hist(data_df[\"rating\"],bins=[0.5+i for i in range(6)],align=\"mid\",rwidth=0.8)\n",
    "meanrating = data_df[\"rating\"].mean()\n",
    "meanplt = axlst[0].plot([meanrating,meanrating],[0,500000],lw=2,color=\"r\")\n",
    "axlst[0].axes.set_ylim([0,500000])\n",
    "axlst[0].axes.set_xlim([0,6])\n",
    "axlst[0].grid(axis=\"y\")\n",
    "axlst[0].axes.set_ylabel(\"Frequency\")\n",
    "mybxplt = axlst[1].boxplot(data_df[\"rating\"],\\\n",
    "                           showmeans=True,vert=False,meanline=True,notch=True,\\\n",
    "                           meanprops={\"color\":\"r\",\"linestyle\":\"-\",\"linewidth\":2},\\\n",
    "                           medianprops={\"color\":\"none\"},\\\n",
    "                           boxprops={\"linewidth\":2},\\\n",
    "                           whiskerprops={\"linestyle\":\"--\",\"linewidth\":2},\\\n",
    "                           capprops={\"linewidth\":2})\n",
    "axlst[1].axes.set_xlim([0,6])\n",
    "axlst[1].grid(axis=\"x\")\n",
    "axlst[1].tick_params(axis=\"y\",which=\"both\",left=False,right=False,labelleft=False)\n",
    "axlst[1].tick_params(axis=\"x\",which=\"both\",bottom=False,top=True,labelbottom=False)\n",
    "axlst[1].axes.set_xlabel(\"Rating\")\n",
    "fig.savefig(\"../report/hist_ratings.png\")"
   ]
  },
  {
   "cell_type": "markdown",
   "metadata": {},
   "source": [
    "#### Ratings per user & ratings per item"
   ]
  },
  {
   "cell_type": "code",
   "execution_count": 212,
   "metadata": {},
   "outputs": [
    {
     "data": {
      "image/png": "[encoded data removed]",
      "text/plain": [
       "<Figure size 360x288 with 2 Axes>"
      ]
     },
     "metadata": {},
     "output_type": "display_data"
    }
   ],
   "source": [
    "fig = plt.figure(figsize=figuresize)\n",
    "fig.suptitle(\"# of Ratings per Item\")\n",
    "axlst = fig.subplots(2,1,sharex=False,gridspec_kw={\"height_ratios\":[2,1]})\n",
    "myhist = axlst[0].hist(itemstat,bins=[i for i in range(0,4201,200)],align=\"mid\",rwidth=0.9)\n",
    "meanv = itemstat.mean()\n",
    "meanplt = axlst[0].plot([meanv,meanv],[0,140],lw=2,color=\"r\")\n",
    "axlst[0].axes.set_ylim([0,140])\n",
    "#axlst[0].axes.set_xlim([0,6])\n",
    "axlst[0].grid(which=\"both\")\n",
    "axlst[0].axes.set_ylabel(\"# of Items\")\n",
    "#axlst[0].axes.minorticks_on()\n",
    "mybxplt = axlst[1].boxplot(itemstat,\\\n",
    "                           showmeans=True,vert=False,meanline=True,notch=True,showfliers=False,\\\n",
    "                           meanprops={\"color\":\"r\",\"linestyle\":\"-\",\"linewidth\":2},\\\n",
    "                           medianprops={\"color\":\"none\"},\\\n",
    "                           boxprops={\"linewidth\":2},\\\n",
    "                           whiskerprops={\"linestyle\":\"--\",\"linewidth\":2},\\\n",
    "                           capprops={\"linewidth\":2})\n",
    "axlst[1].axes.set_xlim(axlst[0].axes.get_xlim())\n",
    "axlst[1].grid(axis=\"x\")\n",
    "axlst[1].tick_params(axis=\"y\",which=\"both\",left=False,right=False,labelleft=False)\n",
    "axlst[1].tick_params(axis=\"x\",which=\"both\",bottom=False,top=True,labelbottom=False)\n",
    "axlst[1].axes.set_xlabel(\"# of Ratings\")\n",
    "fig.savefig(\"../report/hist_items.png\")"
   ]
  },
  {
   "cell_type": "code",
   "execution_count": 213,
   "metadata": {},
   "outputs": [
    {
     "data": {
      "image/png": "[encoded data removed]",
      "text/plain": [
       "<Figure size 360x288 with 2 Axes>"
      ]
     },
     "metadata": {},
     "output_type": "display_data"
    }
   ],
   "source": [
    "fig = plt.figure(figsize=figuresize)\n",
    "fig.suptitle(\"# of Ratings per User\")\n",
    "axlst = fig.subplots(2,1,sharex=False,gridspec_kw={\"height_ratios\":[2,1]})\n",
    "myhist = axlst[0].hist(userstats,bins=[i for i in range(0,526,25)],align=\"mid\",rwidth=0.9)\n",
    "meanv = userstats.mean()\n",
    "meanplt = axlst[0].plot([meanv,meanv],[0,2000],lw=2,color=\"r\")\n",
    "axlst[0].axes.set_ylim([0,2000])\n",
    "#axlst[0].axes.set_xlim([0,6])\n",
    "axlst[0].grid(which=\"both\")\n",
    "axlst[0].axes.set_ylabel(\"# of Users\")\n",
    "#axlst[0].axes.minorticks_on()\n",
    "mybxplt = axlst[1].boxplot(userstats,\\\n",
    "                           showmeans=True,vert=False,meanline=True,notch=True,showfliers=False,\\\n",
    "                           meanprops={\"color\":\"r\",\"linestyle\":\"-\",\"linewidth\":2},\\\n",
    "                           medianprops={\"color\":\"none\"},\\\n",
    "                           boxprops={\"linewidth\":2},\\\n",
    "                           whiskerprops={\"linestyle\":\"--\",\"linewidth\":2},\\\n",
    "                           capprops={\"linewidth\":2})\n",
    "axlst[1].axes.set_xlim(axlst[0].axes.get_xlim())\n",
    "axlst[1].grid(axis=\"x\")\n",
    "axlst[1].tick_params(axis=\"y\",which=\"both\",left=False,right=False,labelleft=False)\n",
    "axlst[1].tick_params(axis=\"x\",which=\"both\",bottom=False,top=True,labelbottom=False)\n",
    "axlst[1].axes.set_xlabel(\"# of Ratings\")\n",
    "fig.savefig(\"../report/hist_users.png\")"
   ]
  },
  {
   "cell_type": "code",
   "execution_count": null,
   "metadata": {},
   "outputs": [],
   "source": []
  }
 ],
 "metadata": {
  "anaconda-cloud": {},
  "kernelspec": {
   "display_name": "Python 3",
   "language": "python",
   "name": "python3"
  },
  "language_info": {
   "codemirror_mode": {
    "name": "ipython",
    "version": 3
   },
   "file_extension": ".py",
   "mimetype": "text/x-python",
   "name": "python",
   "nbconvert_exporter": "python",
   "pygments_lexer": "ipython3",
   "version": "3.6.5"
  }
 },
 "nbformat": 4,
 "nbformat_minor": 1
}
