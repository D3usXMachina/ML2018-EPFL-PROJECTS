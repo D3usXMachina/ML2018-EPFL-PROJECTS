{
 "cells": [
  {
   "cell_type": "code",
   "execution_count": 1,
   "metadata": {},
   "outputs": [],
   "source": [
    "# Useful starting lines\n",
    "%matplotlib inline\n",
    "\n",
    "import numpy as np\n",
    "import scipy\n",
    "import scipy.io\n",
    "import scipy.sparse as sp\n",
    "import matplotlib.pyplot as plt\n",
    "%load_ext autoreload\n",
    "%autoreload 2"
   ]
  },
  {
   "cell_type": "code",
   "execution_count": 2,
   "metadata": {},
   "outputs": [
    {
     "name": "stdout",
     "output_type": "stream",
     "text": [
      "number of items: 10000, number of users: 1000\n"
     ]
    }
   ],
   "source": [
    "from helpers import load_data, preprocess_data\n",
    "\n",
    "path_dataset = \"Project2Data.csv\"\n",
    "ratings = load_data(path_dataset)"
   ]
  },
  {
   "cell_type": "code",
   "execution_count": 3,
   "metadata": {},
   "outputs": [
    {
     "data": {
      "image/png": "[encoded data removed]",
      "text/plain": [
       "<Figure size 432x288 with 2 Axes>"
      ]
     },
     "metadata": {},
     "output_type": "display_data"
    },
    {
     "name": "stdout",
     "output_type": "stream",
     "text": [
      "min # of items per user = 8, min # of users per item = 3.\n"
     ]
    }
   ],
   "source": [
    "from plots import plot_raw_data\n",
    "\n",
    "num_items_per_user, num_users_per_item = plot_raw_data(ratings)\n",
    "\n",
    "print(\"min # of items per user = {}, min # of users per item = {}.\".format(\n",
    "        min(num_items_per_user), min(num_users_per_item)))\n",
    "#displaying of data for items needs fixing, probably d too small"
   ]
  },
  {
   "cell_type": "code",
   "execution_count": 7,
   "metadata": {},
   "outputs": [
    {
     "name": "stdout",
     "output_type": "stream",
     "text": [
      "10000\n",
      "1000\n",
      "the shape of original ratings. (# of row, # of col): (10000, 1000)\n",
      "the shape of valid ratings. (# of row, # of col): (10000, 1000)\n",
      "Total number of nonzero elements in origial data:1176952\n",
      "Total number of nonzero elements in train data:1065327\n",
      "Total number of nonzero elements in test data:111625\n"
     ]
    }
   ],
   "source": [
    "def split_data(ratings, num_items_per_user, num_users_per_item,\n",
    "               min_num_ratings, p_test=0.1):\n",
    "    \"\"\"split the ratings to training data and test data.\n",
    "    Args:\n",
    "        min_num_ratings: \n",
    "            all users and items we keep must have at least min_num_ratings per user and per item. \n",
    "    \"\"\"\n",
    "    # set seed\n",
    "    np.random.seed(988)\n",
    "    \n",
    "    # select user and item based on the condition.\n",
    "    valid_users = np.where(num_items_per_user >= min_num_ratings)[0]\n",
    "    valid_items = np.where(num_users_per_item >= min_num_ratings)[0]\n",
    "    valid_ratings = ratings[valid_items, :][: , valid_users]  \n",
    "    \n",
    "    # init\n",
    "    num_rows, num_cols = valid_ratings.shape\n",
    "    print(num_rows)\n",
    "    print(num_cols)\n",
    "    train = sp.lil_matrix((num_rows, num_cols))\n",
    "    test = sp.lil_matrix((num_rows, num_cols))\n",
    "    \n",
    "    print(\"the shape of original ratings. (# of row, # of col): {}\".format(\n",
    "        ratings.shape))\n",
    "    print(\"the shape of valid ratings. (# of row, # of col): {}\".format(\n",
    "        (num_rows, num_cols)))\n",
    "    \n",
    "    nz_items, nz_users = valid_ratings.nonzero()\n",
    "    \n",
    "    # split data\n",
    "    for user in set(nz_users):\n",
    "        # randomly select a subset of ratings\n",
    "        row, col = valid_ratings[:, user].nonzero()\n",
    "        selects = np.random.choice(row, size=int(len(row) * p_test))\n",
    "        residual = list(set(row) - set(selects))\n",
    "\n",
    "        # add to train set\n",
    "        train[residual, user] = valid_ratings[residual, user]\n",
    "\n",
    "        # add to test set\n",
    "        test[selects, user] = valid_ratings[selects, user]\n",
    "    \n",
    "    \n",
    "    print(\"Total number of nonzero elements in origial data:{v}\".format(v=ratings.nnz))\n",
    "    print(\"Total number of nonzero elements in train data:{v}\".format(v=train.nnz))\n",
    "    print(\"Total number of nonzero elements in test data:{v}\".format(v=test.nnz))\n",
    "    return valid_ratings, train, test\n",
    "valid_ratings, train, test = split_data(ratings, num_items_per_user, num_users_per_item, 0, 0.1)"
   ]
  },
  {
   "cell_type": "code",
   "execution_count": 8,
   "metadata": {},
   "outputs": [],
   "source": [
    "def init_MF(train, num_features):\n",
    "    \"\"\"init the parameter for matrix factorization.\"\"\"\n",
    "    \n",
    "    num_item, num_user = train.get_shape()\n",
    "\n",
    "    user_features = np.random.rand(num_features, num_user)\n",
    "    item_features = np.random.rand(num_features, num_item)\n",
    "\n",
    "    # start by item features.\n",
    "    item_nnz = train.getnnz(axis=1)\n",
    "    item_sum = train.sum(axis=1)\n",
    "\n",
    "    for ind in range(num_item):\n",
    "        item_features[0, ind] = item_sum[ind, 0] / item_nnz[ind]\n",
    "    return user_features, item_features"
   ]
  },
  {
   "cell_type": "code",
   "execution_count": 9,
   "metadata": {},
   "outputs": [
    {
     "name": "stdout",
     "output_type": "stream",
     "text": [
      "(20, 10000)\n",
      "(20, 1000)\n",
      "(10000, 1000)\n"
     ]
    }
   ],
   "source": [
    "user_features, item_features = init_MF(train, 20)\n",
    "print(item_features.shape)\n",
    "print(user_features.shape)\n",
    "print(train.shape)"
   ]
  },
  {
   "cell_type": "code",
   "execution_count": 16,
   "metadata": {},
   "outputs": [],
   "source": [
    "def compute_error(data, user_features, item_features, nz):\n",
    "    \"\"\"compute the loss (MSE) of the prediction of nonzero elements.\"\"\"\n",
    "    mse = 0\n",
    "    for row, col in nz:\n",
    "        item_info = item_features[:, row]\n",
    "        user_info = user_features[:, col]\n",
    "        mse += (data[row, col] - user_info.T.dot(item_info)) ** 2\n",
    "    return np.sqrt(1.0 * mse / len(nz))"
   ]
  },
  {
   "cell_type": "code",
   "execution_count": 17,
   "metadata": {},
   "outputs": [],
   "source": [
    "def matrix_factorization_SGD(train, test, lambda_user, lambda_item, gamma, K, iterMax):\n",
    "    \"\"\"matrix factorization by SGD.\"\"\"\n",
    "    # define parameters\n",
    "    gamma = gamma\n",
    "    num_features = K   # K in the lecture notes\n",
    "    lambda_user = lambda_user\n",
    "    lambda_item = lambda_item\n",
    "    num_epochs = iterMax     # number of full passes through the train set\n",
    "    errors = [0]\n",
    "    \n",
    "    # set seed\n",
    "    np.random.seed(988)\n",
    "\n",
    "    # init matrix\n",
    "    user_features, item_features = init_MF(train, num_features)\n",
    "    \n",
    "    # find the non-zero ratings indices \n",
    "    nz_row, nz_col = train.nonzero()\n",
    "    nz_train = list(zip(nz_row, nz_col))\n",
    "    nz_row, nz_col = test.nonzero()\n",
    "    nz_test = list(zip(nz_row, nz_col))\n",
    "\n",
    "    print(\"learn the matrix factorization using SGD...\")\n",
    "    for it in range(num_epochs):        \n",
    "        # shuffle the training rating indices\n",
    "        np.random.shuffle(nz_train)\n",
    "        \n",
    "        # decrease step size\n",
    "        gamma /= 1.2\n",
    "        \n",
    "        for d, n in nz_train:\n",
    "            # update W_d (item_features[:, d]) and Z_n (user_features[:, n])\n",
    "            item_info = item_features[:, d]\n",
    "            user_info = user_features[:, n]\n",
    "            err = train[d, n] - user_info.T.dot(item_info)\n",
    "    \n",
    "            # calculate the gradient and update\n",
    "            item_features[:, d] += gamma * (err * user_info - lambda_item * item_info)\n",
    "            user_features[:, n] += gamma * (err * item_info - lambda_user * user_info)\n",
    "\n",
    "        rmse = compute_error(train, user_features, item_features, nz_train)\n",
    "        print(\"iter: {}, RMSE on training set: {}.\".format(it, rmse))\n",
    "        \n",
    "        errors.append(rmse)\n",
    "\n",
    "    # evaluate the test error\n",
    "    rmse = compute_error(test, user_features, item_features, nz_test)\n",
    "    print(\"RMSE on test data: {}.\".format(rmse))\n",
    "    return rmse\n"
   ]
  },
  {
   "cell_type": "code",
   "execution_count": 18,
   "metadata": {},
   "outputs": [],
   "source": [
    "def matrix_factorization_SGD_all(train, test, lambda_user, lambda_item, gamma, K, iterMax):\n",
    "    \"\"\"matrix factorization by SGD.\"\"\"\n",
    "    # define parameters\n",
    "    gamma = gamma\n",
    "    num_features = K   # K in the lecture notes\n",
    "    lambda_user = lambda_user\n",
    "    lambda_item = lambda_item\n",
    "    num_epochs = iterMax     # number of full passes through the train set\n",
    "    errors = [0]\n",
    "    \n",
    "    # set seed\n",
    "    np.random.seed(988)\n",
    "\n",
    "    # init matrix\n",
    "    user_features, item_features = init_MF(train, num_features)\n",
    "    \n",
    "    # find the non-zero ratings indices \n",
    "    nz_row, nz_col = train.nonzero()\n",
    "    nz_train = list(zip(nz_row, nz_col))\n",
    "    nz_row, nz_col = test.nonzero()\n",
    "    nz_test = list(zip(nz_row, nz_col))\n",
    "\n",
    "    print(\"learn the matrix factorization using SGD...\")\n",
    "    for it in range(num_epochs):        \n",
    "        # shuffle the training rating indices\n",
    "        np.random.shuffle(nz_train)\n",
    "        \n",
    "        # decrease step size\n",
    "        gamma /= 1.2\n",
    "        \n",
    "        for d, n in nz_train:\n",
    "            # update W_d (item_features[:, d]) and Z_n (user_features[:, n])\n",
    "            item_info = item_features[:, d]\n",
    "            user_info = user_features[:, n]\n",
    "            err = train[d, n] - user_info.T.dot(item_info)\n",
    "    \n",
    "            # calculate the gradient and update\n",
    "            item_features[:, d] += gamma * (err * user_info - lambda_item * item_info)\n",
    "            user_features[:, n] += gamma * (err * item_info - lambda_user * user_info)\n",
    "\n",
    "        rmse = compute_error(train, user_features, item_features, nz_train)\n",
    "        print(\"iter: {}, RMSE on training set: {}.\".format(it, rmse))\n",
    "        \n",
    "        errors.append(rmse)\n",
    "\n",
    "    # evaluate the test error\n",
    "    rmse = compute_error(test, user_features, item_features, nz_test)\n",
    "    print(\"RMSE on test data: {}.\".format(rmse))\n",
    "    return rmse, user_features, item_features"
   ]
  },
  {
   "cell_type": "code",
   "execution_count": 29,
   "metadata": {},
   "outputs": [
    {
     "name": "stdout",
     "output_type": "stream",
     "text": [
      "ROUND 1:\n",
      "learn the matrix factorization using SGD...\n",
      "iter: 0, RMSE on training set: 1.049632360853516.\n",
      "iter: 1, RMSE on training set: 1.020243267982725.\n",
      "iter: 2, RMSE on training set: 1.0002199574032948.\n",
      "iter: 3, RMSE on training set: 0.9862894450076296.\n",
      "iter: 4, RMSE on training set: 0.9729548735154872.\n",
      "iter: 5, RMSE on training set: 0.9609459920159176.\n",
      "iter: 6, RMSE on training set: 0.9524951700296076.\n",
      "iter: 7, RMSE on training set: 0.9447869899052078.\n",
      "iter: 8, RMSE on training set: 0.9386746993758812.\n",
      "iter: 9, RMSE on training set: 0.9339996050808759.\n",
      "RMSE on test data: 1.0123675593615962.\n",
      "ROUND 2:\n",
      "learn the matrix factorization using SGD...\n",
      "iter: 0, RMSE on training set: 1.0397563719029288.\n",
      "iter: 1, RMSE on training set: 1.0161499347899725.\n",
      "iter: 2, RMSE on training set: 1.0016438189094534.\n",
      "iter: 3, RMSE on training set: 0.9901798424824607.\n",
      "iter: 4, RMSE on training set: 0.9775786548229987.\n",
      "iter: 5, RMSE on training set: 0.9659991072591453.\n",
      "iter: 6, RMSE on training set: 0.9567974086356138.\n",
      "iter: 7, RMSE on training set: 0.9487041952091869.\n",
      "iter: 8, RMSE on training set: 0.94218980915821.\n",
      "iter: 9, RMSE on training set: 0.936939469040302.\n",
      "RMSE on test data: 1.0104964617612586.\n",
      "ROUND 3:\n",
      "learn the matrix factorization using SGD...\n",
      "iter: 0, RMSE on training set: 1.0445929291860059.\n",
      "iter: 1, RMSE on training set: 1.0468781342203075.\n",
      "iter: 2, RMSE on training set: 1.0418405378700002.\n",
      "iter: 3, RMSE on training set: 1.0318581032830494.\n",
      "iter: 4, RMSE on training set: 1.0169128023446647.\n",
      "iter: 5, RMSE on training set: 1.0010587076661135.\n",
      "iter: 6, RMSE on training set: 0.9890323459789432.\n",
      "iter: 7, RMSE on training set: 0.9781295418132661.\n",
      "iter: 8, RMSE on training set: 0.9703196381724453.\n",
      "iter: 9, RMSE on training set: 0.9630365399108027.\n",
      "RMSE on test data: 1.0169757415503682.\n",
      "ROUND 1:\n",
      "learn the matrix factorization using SGD...\n",
      "iter: 0, RMSE on training set: 1.054463904479123.\n",
      "iter: 1, RMSE on training set: 1.0279302666284864.\n",
      "iter: 2, RMSE on training set: 1.01153704483075.\n",
      "iter: 3, RMSE on training set: 1.0009576138284326.\n",
      "iter: 4, RMSE on training set: 0.9931169488106398.\n",
      "iter: 5, RMSE on training set: 0.9868342670673739.\n",
      "iter: 6, RMSE on training set: 0.9830207150804375.\n",
      "iter: 7, RMSE on training set: 0.9792039513028759.\n",
      "iter: 8, RMSE on training set: 0.976611421882097.\n",
      "iter: 9, RMSE on training set: 0.9742294631380961.\n",
      "RMSE on test data: 1.0050841804191528.\n",
      "ROUND 2:\n",
      "learn the matrix factorization using SGD...\n",
      "iter: 0, RMSE on training set: 1.0503324714001314.\n",
      "iter: 1, RMSE on training set: 1.01957995583671.\n",
      "iter: 2, RMSE on training set: 1.0076287612566877.\n",
      "iter: 3, RMSE on training set: 1.0014013265550359.\n",
      "iter: 4, RMSE on training set: 0.997010808601072.\n",
      "iter: 5, RMSE on training set: 0.9937410168456107.\n",
      "iter: 6, RMSE on training set: 0.9910108854772394.\n",
      "iter: 7, RMSE on training set: 0.9887430398337889.\n",
      "iter: 8, RMSE on training set: 0.9867624584516931.\n",
      "iter: 9, RMSE on training set: 0.9849628193117621.\n",
      "RMSE on test data: 1.0062777067972886.\n",
      "ROUND 3:\n",
      "learn the matrix factorization using SGD...\n",
      "iter: 0, RMSE on training set: 1.0450649477841845.\n",
      "iter: 1, RMSE on training set: 1.032524144010261.\n",
      "iter: 2, RMSE on training set: 1.028147305222596.\n",
      "iter: 3, RMSE on training set: 1.0247182031517874.\n",
      "iter: 4, RMSE on training set: 1.0201436246803355.\n",
      "iter: 5, RMSE on training set: 1.0161979335179825.\n",
      "iter: 6, RMSE on training set: 1.0126041258572318.\n",
      "iter: 7, RMSE on training set: 1.009875765033771.\n",
      "iter: 8, RMSE on training set: 1.007548748076564.\n",
      "iter: 9, RMSE on training set: 1.0052705045343506.\n",
      "RMSE on test data: 1.0179207562764456.\n",
      "ROUND 1:\n",
      "learn the matrix factorization using SGD...\n",
      "iter: 0, RMSE on training set: 1.057096330303997.\n",
      "iter: 1, RMSE on training set: 1.034476827736688.\n",
      "iter: 2, RMSE on training set: 1.019832310037675.\n",
      "iter: 3, RMSE on training set: 1.0100657806383668.\n",
      "iter: 4, RMSE on training set: 1.0033793241511682.\n",
      "iter: 5, RMSE on training set: 0.9983612394758729.\n",
      "iter: 6, RMSE on training set: 0.9956568809653619.\n",
      "iter: 7, RMSE on training set: 0.9930049006085364.\n",
      "iter: 8, RMSE on training set: 0.9916172673812131.\n",
      "iter: 9, RMSE on training set: 0.9898558895982246.\n",
      "RMSE on test data: 1.009017855077843.\n",
      "ROUND 2:\n",
      "learn the matrix factorization using SGD...\n",
      "iter: 0, RMSE on training set: 1.061689472290075.\n",
      "iter: 1, RMSE on training set: 1.0305411020941178.\n",
      "iter: 2, RMSE on training set: 1.0166082023290803.\n",
      "iter: 3, RMSE on training set: 1.0100048344788695.\n",
      "iter: 4, RMSE on training set: 1.006491194354878.\n",
      "iter: 5, RMSE on training set: 1.0044294246134746.\n",
      "iter: 6, RMSE on training set: 1.002499552722739.\n",
      "iter: 7, RMSE on training set: 1.0012307796338007.\n",
      "iter: 8, RMSE on training set: 1.000169716097563.\n",
      "iter: 9, RMSE on training set: 0.9988778607370208.\n",
      "RMSE on test data: 1.0130179057222053.\n",
      "ROUND 3:\n",
      "learn the matrix factorization using SGD...\n",
      "iter: 0, RMSE on training set: 1.0626199138490953.\n",
      "iter: 1, RMSE on training set: 1.0388021618959713.\n",
      "iter: 2, RMSE on training set: 1.0341499338562405.\n",
      "iter: 3, RMSE on training set: 1.0313250103746658.\n",
      "iter: 4, RMSE on training set: 1.0282825656065393.\n",
      "iter: 5, RMSE on training set: 1.0258529559750118.\n",
      "iter: 6, RMSE on training set: 1.0229315249622017.\n",
      "iter: 7, RMSE on training set: 1.021253905319032.\n",
      "iter: 8, RMSE on training set: 1.019626596595818.\n",
      "iter: 9, RMSE on training set: 1.0177782183219397.\n",
      "RMSE on test data: 1.028553360727704.\n"
     ]
    }
   ],
   "source": [
    "gamma = 0.02  #0.03 best for K = 20 and initial\n",
    "rmse_ev = np.zeros([3,3])\n",
    "lambda_user = [0.01, 0.05, 0.1]  #best for K = 20 and gamma = 0.03 initial\n",
    "lambda_item = [0.1, 0.2, 0.5]  #best for K = 20 lu = 0.02 and gamma = 0.03\n",
    "num_features = 15   # K in the lecture notes\n",
    "num_epochs = 10\n",
    "i = 0\n",
    "for lu in lambda_user:\n",
    "    i += 1\n",
    "    j = 0\n",
    "    for li in lambda_item:\n",
    "        j += 1\n",
    "        print(\"ROUND {},{}:\".format(i,j))\n",
    "        rmse_ev[i-1, j-1] = matrix_factorization_SGD(train, test, lu, li, gamma, num_features, num_epochs)"
   ]
  },
  {
   "cell_type": "code",
   "execution_count": 20,
   "metadata": {},
   "outputs": [
    {
     "name": "stdout",
     "output_type": "stream",
     "text": [
      "[[1.00338357 1.00326083 1.00456928]\n",
      " [1.00341493 1.00323543 1.00462914]\n",
      " [1.00405953 1.00393648 1.00545454]]\n"
     ]
    }
   ],
   "source": [
    "print(rmse_ev)"
   ]
  },
  {
   "cell_type": "markdown",
   "metadata": {},
   "source": [
    "**Evaluating the results**"
   ]
  },
  {
   "cell_type": "markdown",
   "metadata": {},
   "source": [
    "Leave the rest of the code above as it is and only work with the stuff below"
   ]
  },
  {
   "cell_type": "code",
   "execution_count": 21,
   "metadata": {},
   "outputs": [
    {
     "name": "stdout",
     "output_type": "stream",
     "text": [
      "learn the matrix factorization using SGD...\n",
      "iter: 0, RMSE on training set: 1.050126919981355.\n",
      "iter: 1, RMSE on training set: 1.0225215943770478.\n",
      "iter: 2, RMSE on training set: 1.0076296712272828.\n",
      "iter: 3, RMSE on training set: 1.0008576142759364.\n",
      "iter: 4, RMSE on training set: 0.9961661440532399.\n",
      "iter: 5, RMSE on training set: 0.9914289947696661.\n",
      "iter: 6, RMSE on training set: 0.9888327994671374.\n",
      "iter: 7, RMSE on training set: 0.9862181778032121.\n",
      "iter: 8, RMSE on training set: 0.9836731263175907.\n",
      "iter: 9, RMSE on training set: 0.9820409403228237.\n",
      "iter: 10, RMSE on training set: 0.9806163551286149.\n",
      "iter: 11, RMSE on training set: 0.9796549112360273.\n",
      "iter: 12, RMSE on training set: 0.9786522233614954.\n",
      "iter: 13, RMSE on training set: 0.9777877813307858.\n",
      "iter: 14, RMSE on training set: 0.9773366942458743.\n",
      "iter: 15, RMSE on training set: 0.9767997375131514.\n",
      "iter: 16, RMSE on training set: 0.9763927293071198.\n",
      "iter: 17, RMSE on training set: 0.9761353815559234.\n",
      "iter: 18, RMSE on training set: 0.9759279692792843.\n",
      "iter: 19, RMSE on training set: 0.9757921291433297.\n",
      "RMSE on test data: 0.9989210993421344.\n"
     ]
    }
   ],
   "source": [
    "gamma = 0.02  #0.03 best for K = 20 and initial\n",
    "lambda_user = 0.03 #best for K = 20 and gamma = 0.03 initial\n",
    "lambda_item = 0.15  #best for K = 20 lu = 0.02 and gamma = 0.03\n",
    "num_features = 5# K in the lecture notes\n",
    "num_epochs = 20 \n",
    "\n",
    "rmse_ev, Z, W  = matrix_factorization_SGD_all(train, test, lambda_user, lambda_item, gamma, num_features, num_epochs)"
   ]
  },
  {
   "cell_type": "code",
   "execution_count": 22,
   "metadata": {},
   "outputs": [
    {
     "data": {
      "text/plain": [
       "(5, 1000)"
      ]
     },
     "execution_count": 22,
     "metadata": {},
     "output_type": "execute_result"
    }
   ],
   "source": [
    "Z.shape"
   ]
  },
  {
   "cell_type": "code",
   "execution_count": 23,
   "metadata": {},
   "outputs": [
    {
     "data": {
      "text/plain": [
       "(5, 10000)"
      ]
     },
     "execution_count": 23,
     "metadata": {},
     "output_type": "execute_result"
    }
   ],
   "source": [
    "W.shape"
   ]
  },
  {
   "cell_type": "code",
   "execution_count": 24,
   "metadata": {},
   "outputs": [],
   "source": [
    "def deal_lines(line):\n",
    "    row_cols = line[0]\n",
    "    r, c = row_cols.split(\"_\")\n",
    "    row = r[1:]\n",
    "    col = c[1:]\n",
    "    return int(row), int(col)"
   ]
  },
  {
   "cell_type": "code",
   "execution_count": 25,
   "metadata": {},
   "outputs": [],
   "source": [
    "def read_Sample(path):\n",
    "    import csv\n",
    "    with open(path) as csv_file:\n",
    "        csv_reader = csv.reader(csv_file, delimiter=',')\n",
    "        rows = list()\n",
    "        cols = list()\n",
    "        for row in csv_reader:\n",
    "            csv_reader = [deal_lines(line) for line in csv_reader]\n",
    "    return csv_reader"
   ]
  },
  {
   "cell_type": "code",
   "execution_count": 26,
   "metadata": {},
   "outputs": [
    {
     "name": "stdout",
     "output_type": "stream",
     "text": [
      "1176952\n"
     ]
    }
   ],
   "source": [
    "from helpers import load_data, preprocess_data\n",
    "\n",
    "sampleSub = \"SampleSubmission.csv\"\n",
    "data = read_Sample(sampleSub)\n",
    "indices = np.asarray(data);\n",
    "print(len(indices))"
   ]
  },
  {
   "cell_type": "code",
   "execution_count": 27,
   "metadata": {},
   "outputs": [],
   "source": [
    "def calcValue(rows, cols):\n",
    "    value = int(round(Z[:,cols].dot(W[:,rows].T)))\n",
    "    a = [1, 2, 3, 4, 5]\n",
    "    if value not in a:\n",
    "        if value > 5:\n",
    "            value = 5\n",
    "        if value < 1:\n",
    "            value = 1\n",
    "    return value"
   ]
  },
  {
   "cell_type": "code",
   "execution_count": 28,
   "metadata": {},
   "outputs": [
    {
     "name": "stdout",
     "output_type": "stream",
     "text": [
      "1176952\n"
     ]
    }
   ],
   "source": [
    "def writeSubFile(indices):\n",
    "    import csv\n",
    "    with open('SubmissionFile.csv', mode='w') as submF:\n",
    "        writer = csv.writer(submF, delimiter=',', quotechar='', quoting=csv.QUOTE_NONE , lineterminator = '\\n')\n",
    "        writer.writerow(['Id','Prediction'])\n",
    "        tot = 0\n",
    "        for row, col in indices:\n",
    "            msg = 'r'+str(row)+'_c'+str(col)\n",
    "            value = calcValue(row-1, col-1)\n",
    "            writer.writerow([msg, value])\n",
    "            tot += 1\n",
    "        print(tot)\n",
    "writeSubFile(indices)"
   ]
  },
  {
   "cell_type": "code",
   "execution_count": null,
   "metadata": {},
   "outputs": [],
   "source": []
  }
 ],
 "metadata": {
  "kernelspec": {
   "display_name": "Python 3",
   "language": "python",
   "name": "python3"
  },
  "language_info": {
   "codemirror_mode": {
    "name": "ipython",
    "version": 3
   },
   "file_extension": ".py",
   "mimetype": "text/x-python",
   "name": "python",
   "nbconvert_exporter": "python",
   "pygments_lexer": "ipython3",
   "version": "3.6.5"
  }
 },
 "nbformat": 4,
 "nbformat_minor": 2
}
