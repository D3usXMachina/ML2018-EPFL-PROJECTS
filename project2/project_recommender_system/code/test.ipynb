{
 "cells": [
  {
   "cell_type": "code",
   "execution_count": 7,
   "metadata": {},
   "outputs": [
    {
     "name": "stdout",
     "output_type": "stream",
     "text": [
      "The autoreload extension is already loaded. To reload it, use:\n",
      "  %reload_ext autoreload\n"
     ]
    }
   ],
   "source": [
    "# Useful starting lines\n",
    "%matplotlib inline\n",
    "import numpy as np\n",
    "import scipy\n",
    "import scipy.io\n",
    "import scipy.sparse as sp\n",
    "import matplotlib.pyplot as plt\n",
    "import time\n",
    "%load_ext autoreload\n",
    "%autoreload 2"
   ]
  },
  {
   "cell_type": "code",
   "execution_count": 11,
   "metadata": {},
   "outputs": [],
   "source": [
    "# import scikit-surprise stuff\n",
    "from surprise import SVD\n",
    "from surprise import Reader\n",
    "from surprise import Dataset\n",
    "from surprise.model_selection import cross_validate, GridSearchCV"
   ]
  },
  {
   "cell_type": "code",
   "execution_count": 3,
   "metadata": {
    "scrolled": true
   },
   "outputs": [],
   "source": [
    "# import costum stuff\n",
    "from utility import *"
   ]
  },
  {
   "cell_type": "code",
   "execution_count": 4,
   "metadata": {},
   "outputs": [],
   "source": [
    "# prepare file in correct format for scikit-surprise\n",
    "filepathcsv = \"../data/data_train.csv\"\n",
    "filepath = \"../data/data_train.dat\"\n",
    "convertCSV2Surprise(filepathcsv,filepath)"
   ]
  },
  {
   "cell_type": "code",
   "execution_count": 5,
   "metadata": {},
   "outputs": [],
   "source": [
    "# import data\n",
    "csvreader = Reader(line_format=u\"user item rating\",sep=\";\",rating_scale=(1,5),skip_lines=1)\n",
    "data = Dataset.load_from_file(filepath,csvreader)\n",
    "\n",
    "# chose algorithm\n",
    "algo = SVD()"
   ]
  },
  {
   "cell_type": "code",
   "execution_count": 8,
   "metadata": {},
   "outputs": [
    {
     "name": "stdout",
     "output_type": "stream",
     "text": [
      "Evaluating RMSE, MAE of algorithm SVD on 5 split(s).\n",
      "\n",
      "                  Fold 1  Fold 2  Fold 3  Fold 4  Fold 5  Mean    Std     \n",
      "RMSE (testset)    1.0317  1.0265  1.0251  1.0245  1.0273  1.0270  0.0025  \n",
      "MAE (testset)     0.8229  0.8192  0.8172  0.8177  0.8200  0.8194  0.0020  \n",
      "Fit time          65.34   62.75   63.43   63.59   64.10   63.84   0.87    \n",
      "Test time         3.02    2.99    3.06    3.00    3.32    3.08    0.12    \n",
      "Sequential execution time:  347.610254\n"
     ]
    }
   ],
   "source": [
    "# test sequential execution\n",
    "t = time.clock()\n",
    "cross_validate(algo,data,measures=['RMSE','MAE'], cv=5, verbose=True)\n",
    "t = time.clock()-t\n",
    "print(\"Sequential execution time: \",t)"
   ]
  },
  {
   "cell_type": "code",
   "execution_count": 9,
   "metadata": {},
   "outputs": [
    {
     "name": "stdout",
     "output_type": "stream",
     "text": [
      "Evaluating RMSE, MAE of algorithm SVD on 5 split(s).\n",
      "\n",
      "                  Fold 1  Fold 2  Fold 3  Fold 4  Fold 5  Mean    Std     \n",
      "RMSE (testset)    1.0252  1.0296  1.0275  1.0282  1.0286  1.0278  0.0015  \n",
      "MAE (testset)     0.8187  0.8223  0.8209  0.8208  0.8212  0.8208  0.0012  \n",
      "Fit time          75.37   91.16   104.30  90.57   63.60   85.00   14.09   \n",
      "Test time         4.14    4.75    4.47    2.63    2.31    3.66    1.00    \n",
      "Parallel execution time:  264.694266\n"
     ]
    }
   ],
   "source": [
    "# testing parallel execution\n",
    "t = time.clock()\n",
    "cross_validate(algo,data,measures=['RMSE','MAE'], cv=5, verbose=True,n_jobs=-1)\n",
    "t = time.clock()-t\n",
    "print(\"Parallel execution time: \",t)"
   ]
  },
  {
   "cell_type": "code",
   "execution_count": 29,
   "metadata": {},
   "outputs": [],
   "source": [
    "GridSearchCV?"
   ]
  },
  {
   "cell_type": "code",
   "execution_count": 27,
   "metadata": {},
   "outputs": [
    {
     "name": "stdout",
     "output_type": "stream",
     "text": [
      "[75, 100]\n"
     ]
    }
   ],
   "source": [
    "print([i for i in range(75,101,25)])"
   ]
  },
  {
   "cell_type": "code",
   "execution_count": 32,
   "metadata": {},
   "outputs": [],
   "source": [
    "grid = \\\n",
    "{\\\n",
    "\"n_factors\": [i for i in range(75,101,25)],\\\n",
    "#\"lr_all\": [0.005,0.01],\\\n",
    "#\"reg_all\": [0.02,0.04],\\\n",
    "\"n_epochs\": [10,20]\n",
    "}\n",
    "\n",
    "gridsearch = GridSearchCV(algo_class=SVD,param_grid=grid,measures=['RMSE','MAE'], cv=2, n_jobs=-1)"
   ]
  },
  {
   "cell_type": "code",
   "execution_count": 34,
   "metadata": {},
   "outputs": [
    {
     "name": "stdout",
     "output_type": "stream",
     "text": [
      "1.0102086653143898\n",
      "{'n_factors': 75, 'n_epochs': 10}\n"
     ]
    }
   ],
   "source": [
    "gridsearch.fit(data)\n",
    "print(gridsearch.best_score['rmse'])\n",
    "print(gridsearch.best_params['rmse'])"
   ]
  },
  {
   "cell_type": "markdown",
   "metadata": {},
   "source": [
    "TODO:\n",
    "\n",
    "* GridSearchCV\n",
    "\n",
    "* build_full_trainset + algo.predict() -> kaggle\n",
    "\n",
    "* test other algorithms\n",
    "\n",
    "* code export to .csv\n",
    "\n",
    "* manual cross-validation with iterators\n",
    "\n",
    "* manual split\n",
    "\n",
    "* maybe build costum prediction algorithm?\n",
    "\n",
    "* write intro (Netflix prize, Simon Fuchs, other applications,scikit-surpise (why reinvent the wheel?), short summary of content)\n",
    "\n",
    "* important: in report show that we did understand the different methods!"
   ]
  },
  {
   "cell_type": "code",
   "execution_count": null,
   "metadata": {},
   "outputs": [],
   "source": []
  }
 ],
 "metadata": {
  "anaconda-cloud": {},
  "kernelspec": {
   "display_name": "Python 3",
   "language": "python",
   "name": "python3"
  },
  "language_info": {
   "codemirror_mode": {
    "name": "ipython",
    "version": 3
   },
   "file_extension": ".py",
   "mimetype": "text/x-python",
   "name": "python",
   "nbconvert_exporter": "python",
   "pygments_lexer": "ipython3",
   "version": "3.6.5"
  }
 },
 "nbformat": 4,
 "nbformat_minor": 1
}
