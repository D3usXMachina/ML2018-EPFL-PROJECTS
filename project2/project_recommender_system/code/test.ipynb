{
 "cells": [
  {
   "cell_type": "markdown",
   "metadata": {},
   "source": [
    "# Test for Recommender System using SciKit-Surprise"
   ]
  },
  {
   "cell_type": "markdown",
   "metadata": {},
   "source": [
    "### import libraries"
   ]
  },
  {
   "cell_type": "code",
   "execution_count": 4,
   "metadata": {},
   "outputs": [],
   "source": [
    "# Useful starting lines\n",
    "%matplotlib inline\n",
    "import numpy as np\n",
    "import scipy\n",
    "import scipy.io\n",
    "import scipy.sparse as sp\n",
    "import matplotlib.pyplot as plt\n",
    "import time\n",
    "%load_ext autoreload\n",
    "%autoreload 2"
   ]
  },
  {
   "cell_type": "code",
   "execution_count": null,
   "metadata": {},
   "outputs": [],
   "source": [
    "# import scikit-surprise stuff\n",
    "from surprise import SVD\n",
    "from surprise import Reader\n",
    "from surprise import Dataset\n",
    "from surprise.model_selection import cross_validate, GridSearchCV"
   ]
  },
  {
   "cell_type": "code",
   "execution_count": 22,
   "metadata": {},
   "outputs": [],
   "source": [
    "import pandas as pd"
   ]
  },
  {
   "cell_type": "code",
   "execution_count": 39,
   "metadata": {
    "scrolled": true
   },
   "outputs": [],
   "source": [
    "# import costum stuff\n",
    "from utility import *"
   ]
  },
  {
   "cell_type": "markdown",
   "metadata": {},
   "source": [
    "### Import train and test set"
   ]
  },
  {
   "cell_type": "code",
   "execution_count": 8,
   "metadata": {},
   "outputs": [],
   "source": [
    "# prepare train set file in correct format for scikit-surprise\n",
    "filepathcsv = \"../data/data_train.csv\"\n",
    "filepath = \"../data/data_train.dat\"\n",
    "convertCSV2Surprise(filepathcsv,filepath)"
   ]
  },
  {
   "cell_type": "code",
   "execution_count": 9,
   "metadata": {},
   "outputs": [],
   "source": [
    "# import train data\n",
    "csvreader = Reader(line_format=u\"user item rating\",sep=\";\",rating_scale=(1,5),skip_lines=1)\n",
    "data = Dataset.load_from_file(filepath,csvreader)"
   ]
  },
  {
   "cell_type": "code",
   "execution_count": 10,
   "metadata": {},
   "outputs": [],
   "source": [
    "# prepare test set file in correct format for scikit-surprise\n",
    "filepathcsv = \"../data/sample_submission.csv\"\n",
    "filepath = \"../data/sample_submission.dat\"\n",
    "convertCSV2Surprise(filepathcsv,filepath)"
   ]
  },
  {
   "cell_type": "code",
   "execution_count": 11,
   "metadata": {},
   "outputs": [],
   "source": [
    "# import test data\n",
    "testdata = Dataset.load_from_file(filepath,csvreader)"
   ]
  },
  {
   "cell_type": "code",
   "execution_count": 12,
   "metadata": {},
   "outputs": [],
   "source": [
    "# chose algorithm\n",
    "algo = SVD()"
   ]
  },
  {
   "cell_type": "code",
   "execution_count": null,
   "metadata": {},
   "outputs": [],
   "source": [
    "# test sequential execution\n",
    "t = time.clock()\n",
    "cross_validate(algo,data,measures=['RMSE','MAE'], cv=2, verbose=True)\n",
    "t = time.clock()-t\n",
    "print(\"Sequential execution time: \",t)"
   ]
  },
  {
   "cell_type": "code",
   "execution_count": null,
   "metadata": {},
   "outputs": [],
   "source": [
    "# testing parallel execution\n",
    "t = time.clock()\n",
    "cross_validate(algo,data,measures=['RMSE','MAE'], cv=2, verbose=True,n_jobs=-1)\n",
    "t = time.clock()-t\n",
    "print(\"Parallel execution time: \",t)"
   ]
  },
  {
   "cell_type": "code",
   "execution_count": 19,
   "metadata": {},
   "outputs": [],
   "source": [
    "grid = \\\n",
    "{\\\n",
    "\"n_factors\": [i for i in range(10,101,10)],\\\n",
    "#\"lr_all\": [0.01,0.02,0.005,0.01,0.015,0.02,0.05,0.1],\\\n",
    "\"reg_all\": [0.01,0.02,0.03,0.04,0.05],\\\n",
    "#\"n_epochs\": [5,10,20,30,40,50],\\\n",
    "#\"biased\": [True,False]\\\n",
    "}\n",
    "\n",
    "gridsearch = GridSearchCV(algo_class=SVD,param_grid=grid,measures=['RMSE','MAE'], cv=5, n_jobs=-1,refit=True,joblib_verbose=2)"
   ]
  },
  {
   "cell_type": "code",
   "execution_count": 20,
   "metadata": {
    "scrolled": false
   },
   "outputs": [
    {
     "name": "stderr",
     "output_type": "stream",
     "text": [
      "[Parallel(n_jobs=-1)]: Using backend LokyBackend with 4 concurrent workers.\n",
      "[Parallel(n_jobs=-1)]: Done  42 tasks      | elapsed: 20.0min\n",
      "[Parallel(n_jobs=-1)]: Done 100 out of 100 | elapsed: 61.0min finished\n"
     ]
    },
    {
     "name": "stdout",
     "output_type": "stream",
     "text": [
      "1.0062433265372734\n",
      "{'n_factors': 10, 'reg_all': 0.05}\n"
     ]
    }
   ],
   "source": [
    "gridsearch.fit(data)\n",
    "print(gridsearch.best_score['rmse'])\n",
    "print(gridsearch.best_params['rmse'])"
   ]
  },
  {
   "cell_type": "code",
   "execution_count": 23,
   "metadata": {},
   "outputs": [],
   "source": [
    "results_cv = pd.DataFrame.from_dict(gridsearch.cv_results)"
   ]
  },
  {
   "cell_type": "code",
   "execution_count": 25,
   "metadata": {},
   "outputs": [],
   "source": [
    "results_cv.to_csv(r\"../data/SVD-cv-nfact-regall.csv\")"
   ]
  },
  {
   "cell_type": "code",
   "execution_count": 31,
   "metadata": {},
   "outputs": [
    {
     "data": {
      "text/plain": [
       "<surprise.prediction_algorithms.matrix_factorization.SVD at 0x7fe9c1880390>"
      ]
     },
     "execution_count": 31,
     "metadata": {},
     "output_type": "execute_result"
    }
   ],
   "source": [
    "full_train = data.build_full_trainset()\n",
    "best_algo = gridsearch.best_estimator[\"rmse\"]\n",
    "best_algo.fit(full_train)"
   ]
  },
  {
   "cell_type": "code",
   "execution_count": 97,
   "metadata": {},
   "outputs": [],
   "source": [
    "predictions = loadData2df(\"../data/sample_submission.csv\")\n",
    "generatePredictions(best_algo,predictions)\n",
    "exportPredictions(\"../data/submission_bestOfSVDC-V1.csv\",predictions)"
   ]
  },
  {
   "cell_type": "markdown",
   "metadata": {},
   "source": [
    "TODO:\n",
    "\n",
    "* ~~GridSearchCV~~\n",
    "\n",
    "* build_full_trainset + algo.predict() -> kaggle\n",
    "\n",
    "* test other algorithms\n",
    "\n",
    "* ~~code export to .csv~~\n",
    "\n",
    "* write intro (Netflix prize, Simon Fuchs, other applications,scikit-surpise (why reinvent the wheel?), short summary of content)\n",
    "\n",
    "* important: in report show that we did understand the different methods!\n",
    "\n",
    "* compare speed sgd, "
   ]
  },
  {
   "cell_type": "code",
   "execution_count": null,
   "metadata": {},
   "outputs": [],
   "source": []
  }
 ],
 "metadata": {
  "anaconda-cloud": {},
  "kernelspec": {
   "display_name": "Python 3",
   "language": "python",
   "name": "python3"
  },
  "language_info": {
   "codemirror_mode": {
    "name": "ipython",
    "version": 3
   },
   "file_extension": ".py",
   "mimetype": "text/x-python",
   "name": "python",
   "nbconvert_exporter": "python",
   "pygments_lexer": "ipython3",
   "version": "3.6.5"
  }
 },
 "nbformat": 4,
 "nbformat_minor": 1
}
