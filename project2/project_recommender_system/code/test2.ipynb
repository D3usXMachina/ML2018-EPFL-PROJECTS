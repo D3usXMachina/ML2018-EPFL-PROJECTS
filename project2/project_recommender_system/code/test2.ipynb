{
 "cells": [
  {
   "cell_type": "markdown",
   "metadata": {},
   "source": [
    "# Test for Recommender System using SciKit-Surprise"
   ]
  },
  {
   "cell_type": "markdown",
   "metadata": {},
   "source": [
    "### import libraries"
   ]
  },
  {
   "cell_type": "code",
   "execution_count": 1,
   "metadata": {},
   "outputs": [],
   "source": [
    "# Useful starting lines\n",
    "%matplotlib inline\n",
    "import numpy as np\n",
    "import scipy\n",
    "import scipy.io\n",
    "import scipy.sparse as sp\n",
    "import matplotlib.pyplot as plt\n",
    "import time\n",
    "import datetime\n",
    "%load_ext autoreload\n",
    "%autoreload 2"
   ]
  },
  {
   "cell_type": "code",
   "execution_count": 2,
   "metadata": {},
   "outputs": [],
   "source": [
    "# import scikit-surprise stuff\n",
    "from surprise import SVD\n",
    "from surprise import Reader\n",
    "from surprise import Dataset\n",
    "from surprise.model_selection import cross_validate, GridSearchCV"
   ]
  },
  {
   "cell_type": "code",
   "execution_count": 3,
   "metadata": {},
   "outputs": [],
   "source": [
    "# import pandas for DataFrame\n",
    "import pandas as pd"
   ]
  },
  {
   "cell_type": "code",
   "execution_count": 4,
   "metadata": {
    "scrolled": true
   },
   "outputs": [],
   "source": [
    "# import costum stuff\n",
    "from utility import *"
   ]
  },
  {
   "cell_type": "markdown",
   "metadata": {},
   "source": [
    "### Import train and test set"
   ]
  },
  {
   "cell_type": "code",
   "execution_count": 5,
   "metadata": {},
   "outputs": [],
   "source": [
    "# prepare train set file in correct format for scikit-surprise\n",
    "data_df = loadData2df"
   ]
  },
  {
   "cell_type": "code",
   "execution_count": 6,
   "metadata": {},
   "outputs": [],
   "source": [
    "datafilepath = \"../data/data_train.csv\"\n",
    "data_df = loadData2df(datafilepath)"
   ]
  },
  {
   "cell_type": "code",
   "execution_count": 7,
   "metadata": {},
   "outputs": [],
   "source": [
    "data_ds = loadData2ds(data_df)"
   ]
  },
  {
   "cell_type": "code",
   "execution_count": 8,
   "metadata": {},
   "outputs": [],
   "source": [
    "predinfilepath = \"../data/sample_submission.csv\"\n",
    "pred_df = loadData2df(predinfilepath)"
   ]
  },
  {
   "cell_type": "code",
   "execution_count": 9,
   "metadata": {},
   "outputs": [],
   "source": [
    "full_train_ds = data_ds.build_full_trainset()"
   ]
  },
  {
   "cell_type": "markdown",
   "metadata": {},
   "source": [
    "### Select and train algorithm"
   ]
  },
  {
   "cell_type": "markdown",
   "metadata": {},
   "source": [
    "#### Preselected algorithm"
   ]
  },
  {
   "cell_type": "code",
   "execution_count": 10,
   "metadata": {},
   "outputs": [],
   "source": [
    "#algo = SVD(n_factors=20, n_epochs=10, init_mean=0, init_std_dev=0.1, lr_all=0.007, reg_all=0.02, verbose = True)"
   ]
  },
  {
   "cell_type": "code",
   "execution_count": 11,
   "metadata": {
    "scrolled": true
   },
   "outputs": [],
   "source": [
    "#algo.fit(full_train_ds)"
   ]
  },
  {
   "cell_type": "markdown",
   "metadata": {},
   "source": [
    "#### Algorithm from gridsearch"
   ]
  },
  {
   "cell_type": "code",
   "execution_count": 12,
   "metadata": {},
   "outputs": [],
   "source": [
    "grid = \\\n",
    "{\\\n",
    " #\"n_factors\": [i for i in range(20,100,5)],\\\n",
    "\"n_factors\": [25],\\\n",
    "\"lr_all\": [0.007],\\\n",
    "#\"reg_all\": [0.02],\\\n",
    "\"reg_bu\":[0.01,0.02,0.03,0.04,0.05],\\\n",
    "\"reg_bi\":[0.01,0.02,0.03,0.04,0.05],\\\n",
    "#\"reg_bu\":[0.02],\\\n",
    "#\"reg_bi\":[0.02],\\\n",
    "\"reg_pu\":[0.01,0.02,0.03,0.04,0.05],\\\n",
    "\"reg_qi\":[0.01,0.02,0.03,0.04,0.05],\\\n",
    "#\"reg_pu\":[0.04],\\\n",
    "#\"reg_qi\":[0.03],\\\n",
    "\"n_epochs\": [20],\\\n",
    "\"biased\": [True]\\\n",
    "}\n",
    "\n",
    "gridsearch = GridSearchCV(algo_class=SVD,param_grid=grid,measures=['RMSE'], cv=5, n_jobs=-1,refit=True,joblib_verbose=2)"
   ]
  },
  {
   "cell_type": "code",
   "execution_count": 13,
   "metadata": {},
   "outputs": [
    {
     "name": "stderr",
     "output_type": "stream",
     "text": [
      "[Parallel(n_jobs=-1)]: Using backend LokyBackend with 4 concurrent workers.\n",
      "[Parallel(n_jobs=-1)]: Done  33 tasks      | elapsed: 14.9min\n",
      "[Parallel(n_jobs=-1)]: Done 154 tasks      | elapsed: 67.9min\n",
      "[Parallel(n_jobs=-1)]: Done 357 tasks      | elapsed: 157.1min\n",
      "[Parallel(n_jobs=-1)]: Done 640 tasks      | elapsed: 280.9min\n",
      "[Parallel(n_jobs=-1)]: Done 1005 tasks      | elapsed: 440.6min\n",
      "[Parallel(n_jobs=-1)]: Done 1450 tasks      | elapsed: 645.6min\n",
      "[Parallel(n_jobs=-1)]: Done 1977 tasks      | elapsed: 901.2min\n",
      "[Parallel(n_jobs=-1)]: Done 2584 tasks      | elapsed: 1345.8min\n",
      "[Parallel(n_jobs=-1)]: Done 3125 out of 3125 | elapsed: 1603.2min finished\n"
     ]
    }
   ],
   "source": [
    "gridsearch.fit(data_ds)"
   ]
  },
  {
   "cell_type": "code",
   "execution_count": 14,
   "metadata": {},
   "outputs": [
    {
     "name": "stdout",
     "output_type": "stream",
     "text": [
      "0.9970629058989271\n",
      "{'n_factors': 25, 'lr_all': 0.007, 'reg_bu': 0.05, 'reg_bi': 0.02, 'reg_pu': 0.05, 'reg_qi': 0.05, 'n_epochs': 20, 'biased': True}\n"
     ]
    }
   ],
   "source": [
    "print(gridsearch.best_score['rmse'])\n",
    "print(gridsearch.best_params['rmse'])"
   ]
  },
  {
   "cell_type": "code",
   "execution_count": 16,
   "metadata": {},
   "outputs": [],
   "source": [
    "results_cv = pd.DataFrame.from_dict(gridsearch.cv_results)\n",
    "#bestparam_cv = pd.DataFrame.from_dict(gridsearch.best_params[\"rmse\"])"
   ]
  },
  {
   "cell_type": "code",
   "execution_count": 17,
   "metadata": {},
   "outputs": [
    {
     "name": "stdout",
     "output_type": "stream",
     "text": [
      "../data/cvresults/cv_2018-12-18_0859.csv\n"
     ]
    }
   ],
   "source": [
    "results_cv_path = \"../data/cvresults/cv.csv\"\n",
    "results_cv_path = addDateAndTime(results_cv_path)\n",
    "print(results_cv_path)"
   ]
  },
  {
   "cell_type": "code",
   "execution_count": 18,
   "metadata": {
    "scrolled": true
   },
   "outputs": [],
   "source": [
    "results_cv.to_csv(path_or_buf=results_cv_path,mode=\"w\")"
   ]
  },
  {
   "cell_type": "code",
   "execution_count": null,
   "metadata": {},
   "outputs": [],
   "source": [
    "results_cv_path = \"../data/cvresults/cv_bestparams.csv\"\n",
    "results_cv_path = addDateAndTime(results_cv_path)\n",
    "print(results_cv_path)"
   ]
  },
  {
   "cell_type": "code",
   "execution_count": null,
   "metadata": {},
   "outputs": [],
   "source": [
    "bestparam_cv.to_csv(path_or_buf=results_cv_path,mode=\"w\")"
   ]
  },
  {
   "cell_type": "code",
   "execution_count": 19,
   "metadata": {},
   "outputs": [
    {
     "data": {
      "text/plain": [
       "<surprise.prediction_algorithms.matrix_factorization.SVD at 0x7ff7355a44a8>"
      ]
     },
     "execution_count": 19,
     "metadata": {},
     "output_type": "execute_result"
    }
   ],
   "source": [
    "algo = gridsearch.best_estimator[\"rmse\"]\n",
    "algo.fit(full_train_ds)"
   ]
  },
  {
   "cell_type": "markdown",
   "metadata": {},
   "source": [
    "### Make predictions"
   ]
  },
  {
   "cell_type": "code",
   "execution_count": 20,
   "metadata": {},
   "outputs": [],
   "source": [
    "generatePredictions(algo,pred_df)"
   ]
  },
  {
   "cell_type": "markdown",
   "metadata": {},
   "source": [
    "### Export predictions and algo parameters"
   ]
  },
  {
   "cell_type": "code",
   "execution_count": 21,
   "metadata": {},
   "outputs": [],
   "source": [
    "exportAlgoParameters(algo,add_date=True,add_time=True)\n",
    "exportPredictions(pred_df,add_date=True,add_time=True)"
   ]
  },
  {
   "cell_type": "markdown",
   "metadata": {},
   "source": [
    "TODO:\n",
    "\n",
    "* vary different reg parameters\n",
    "\n",
    "* ~~GridSearchCV~~\n",
    "\n",
    "* build_full_trainset + algo.predict() -> kaggle\n",
    "\n",
    "* test other algorithms\n",
    "\n",
    "* ~~code export to .csv~~\n",
    "\n",
    "* write intro (Netflix prize, Simon Fuchs, other applications,scikit-surpise (why reinvent the wheel?), short summary of content)\n",
    "\n",
    "* important: in report show that we did understand the different methods!\n",
    "\n",
    "* compare speed sgd, "
   ]
  },
  {
   "cell_type": "code",
   "execution_count": 28,
   "metadata": {},
   "outputs": [
    {
     "data": {
      "text/plain": [
       "3.8572805008190647"
      ]
     },
     "execution_count": 28,
     "metadata": {},
     "output_type": "execute_result"
    }
   ],
   "source": [
    "algo.default_prediction()"
   ]
  },
  {
   "cell_type": "code",
   "execution_count": 30,
   "metadata": {},
   "outputs": [
    {
     "data": {
      "text/plain": [
       "userId    10000.0\n",
       "itemId     1000.0\n",
       "rating        5.0\n",
       "dtype: float64"
      ]
     },
     "execution_count": 30,
     "metadata": {},
     "output_type": "execute_result"
    }
   ],
   "source": [
    "data_df.max()"
   ]
  },
  {
   "cell_type": "code",
   "execution_count": 35,
   "metadata": {},
   "outputs": [
    {
     "data": {
      "text/plain": [
       "Prediction(uid=10001, iid=1, r_ui=None, est=3.257981945109676, details={'was_impossible': False})"
      ]
     },
     "execution_count": 35,
     "metadata": {},
     "output_type": "execute_result"
    }
   ],
   "source": [
    "algo.predict(10001,1)"
   ]
  },
  {
   "cell_type": "code",
   "execution_count": 36,
   "metadata": {},
   "outputs": [
    {
     "data": {
      "text/plain": [
       "Prediction(uid=10002, iid=1, r_ui=None, est=3.257981945109676, details={'was_impossible': False})"
      ]
     },
     "execution_count": 36,
     "metadata": {},
     "output_type": "execute_result"
    }
   ],
   "source": [
    "algo.predict(10002,1)"
   ]
  },
  {
   "cell_type": "code",
   "execution_count": 37,
   "metadata": {},
   "outputs": [
    {
     "data": {
      "text/plain": [
       "Prediction(uid=10002, iid=1001, r_ui=None, est=3.8572805008190647, details={'was_impossible': False})"
      ]
     },
     "execution_count": 37,
     "metadata": {},
     "output_type": "execute_result"
    }
   ],
   "source": [
    "algo.predict(10002,1001)"
   ]
  },
  {
   "cell_type": "code",
   "execution_count": 38,
   "metadata": {},
   "outputs": [
    {
     "data": {
      "text/plain": [
       "Prediction(uid=1231, iid=1001, r_ui=None, est=3.869582683860822, details={'was_impossible': False})"
      ]
     },
     "execution_count": 38,
     "metadata": {},
     "output_type": "execute_result"
    }
   ],
   "source": [
    "algo.predict(1231,1001)"
   ]
  },
  {
   "cell_type": "code",
   "execution_count": 39,
   "metadata": {},
   "outputs": [
    {
     "data": {
      "text/plain": [
       "Prediction(uid=1231, iid=1002, r_ui=None, est=3.869582683860822, details={'was_impossible': False})"
      ]
     },
     "execution_count": 39,
     "metadata": {},
     "output_type": "execute_result"
    }
   ],
   "source": [
    "algo.predict(1231,1002)"
   ]
  },
  {
   "cell_type": "code",
   "execution_count": null,
   "metadata": {},
   "outputs": [],
   "source": []
  }
 ],
 "metadata": {
  "anaconda-cloud": {},
  "kernelspec": {
   "display_name": "Python 3",
   "language": "python",
   "name": "python3"
  },
  "language_info": {
   "codemirror_mode": {
    "name": "ipython",
    "version": 3
   },
   "file_extension": ".py",
   "mimetype": "text/x-python",
   "name": "python",
   "nbconvert_exporter": "python",
   "pygments_lexer": "ipython3",
   "version": "3.6.5"
  }
 },
 "nbformat": 4,
 "nbformat_minor": 1
}
