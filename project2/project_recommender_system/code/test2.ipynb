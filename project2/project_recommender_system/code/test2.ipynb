{
 "cells": [
  {
   "cell_type": "markdown",
   "metadata": {},
   "source": [
    "# Test for Recommender System using SciKit-Surprise"
   ]
  },
  {
   "cell_type": "markdown",
   "metadata": {},
   "source": [
    "### import libraries"
   ]
  },
  {
   "cell_type": "code",
   "execution_count": 1,
   "metadata": {},
   "outputs": [],
   "source": [
    "# Useful starting lines\n",
    "%matplotlib inline\n",
    "import random as rd\n",
    "import numpy as np\n",
    "import time\n",
    "import datetime\n",
    "import matplotlib as plt\n",
    "%load_ext autoreload\n",
    "%autoreload 2"
   ]
  },
  {
   "cell_type": "code",
   "execution_count": 76,
   "metadata": {},
   "outputs": [],
   "source": [
    "# import scikit-surprise stuff\n",
    "from surprise import SVD\n",
    "from surprise import BaselineOnly\n",
    "from surprise import Reader\n",
    "from surprise import Dataset\n",
    "from surprise.model_selection import cross_validate, GridSearchCV"
   ]
  },
  {
   "cell_type": "code",
   "execution_count": 3,
   "metadata": {},
   "outputs": [],
   "source": [
    "# import pandas for DataFrame\n",
    "import pandas as pd"
   ]
  },
  {
   "cell_type": "code",
   "execution_count": 4,
   "metadata": {
    "scrolled": true
   },
   "outputs": [],
   "source": [
    "# import costum stuff\n",
    "from utility import *"
   ]
  },
  {
   "cell_type": "code",
   "execution_count": 5,
   "metadata": {},
   "outputs": [],
   "source": [
    "rd.seed(10)"
   ]
  },
  {
   "cell_type": "markdown",
   "metadata": {},
   "source": [
    "### Import train and test set"
   ]
  },
  {
   "cell_type": "code",
   "execution_count": 6,
   "metadata": {},
   "outputs": [],
   "source": [
    "# prepare train set file in correct format for scikit-surprise\n",
    "datafilepath = \"../data/data_train.csv\"\n",
    "data_full_df = loadData2df(datafilepath)"
   ]
  },
  {
   "cell_type": "code",
   "execution_count": 7,
   "metadata": {},
   "outputs": [],
   "source": [
    "#data_df = filterDf(data_full_df,20,50)"
   ]
  },
  {
   "cell_type": "code",
   "execution_count": 8,
   "metadata": {},
   "outputs": [],
   "source": [
    "data_df = data_full_df"
   ]
  },
  {
   "cell_type": "code",
   "execution_count": 9,
   "metadata": {},
   "outputs": [],
   "source": [
    "data_ds = loadData2ds(data_df)"
   ]
  },
  {
   "cell_type": "code",
   "execution_count": 10,
   "metadata": {},
   "outputs": [],
   "source": [
    "predinfilepath = \"../data/sample_submission.csv\"\n",
    "pred_df = loadData2df(predinfilepath)"
   ]
  },
  {
   "cell_type": "code",
   "execution_count": 11,
   "metadata": {},
   "outputs": [],
   "source": [
    "full_train_ds = data_ds.build_full_trainset()"
   ]
  },
  {
   "cell_type": "markdown",
   "metadata": {},
   "source": [
    "### Select and train algorithm"
   ]
  },
  {
   "cell_type": "markdown",
   "metadata": {},
   "source": [
    "#### Preselected algorithm"
   ]
  },
  {
   "cell_type": "code",
   "execution_count": 12,
   "metadata": {},
   "outputs": [],
   "source": [
    "#algo = SVD(n_factors=20, n_epochs=10, init_mean=0, init_std_dev=0.1, lr_all=0.007, reg_all=0.02, verbose = True)"
   ]
  },
  {
   "cell_type": "code",
   "execution_count": 13,
   "metadata": {
    "scrolled": true
   },
   "outputs": [],
   "source": [
    "#algo.fit(full_train_ds)"
   ]
  },
  {
   "cell_type": "markdown",
   "metadata": {},
   "source": [
    "#### Algorithm from gridsearch"
   ]
  },
  {
   "cell_type": "code",
   "execution_count": 14,
   "metadata": {},
   "outputs": [],
   "source": [
    "gridSVD = \\\n",
    "{\\\n",
    " #\"n_factors\": [i for i in range(20,100,5)],\\\n",
    "\"n_factors\": [25],\\\n",
    "\"lr_all\": [0.007],\\\n",
    "#\"reg_all\": [0.02],\\\n",
    "\"reg_bu\":[0.01,0.02,0.03,0.04,0.05],\\\n",
    "\"reg_bi\":[0.01,0.02,0.03,0.04,0.05],\\\n",
    "#\"reg_bu\":[0.02],\\\n",
    "#\"reg_bi\":[0.02],\\\n",
    "\"reg_pu\":[0.01,0.02,0.03,0.04,0.05],\\\n",
    "\"reg_qi\":[0.01,0.02,0.03,0.04,0.05],\\\n",
    "#\"reg_pu\":[0.04],\\\n",
    "#\"reg_qi\":[0.03],\\\n",
    "\"n_epochs\": [20],\\\n",
    "\"biased\": [True]\\\n",
    "}"
   ]
  },
  {
   "cell_type": "code",
   "execution_count": 15,
   "metadata": {},
   "outputs": [],
   "source": [
    "best_params = {\\\n",
    "'n_factors': 25,\\\n",
    "'lr_all': 0.007,\\\n",
    "'reg_bu': 0.05,\\\n",
    "'reg_bi': 0.02,\\\n",
    "'reg_pu': 0.05,\\\n",
    "'reg_qi': 0.05,\\\n",
    "'n_epochs': 20,\\\n",
    "'biased': True}"
   ]
  },
  {
   "cell_type": "code",
   "execution_count": 16,
   "metadata": {},
   "outputs": [],
   "source": [
    "gridSVD = {\\\n",
    "'n_factors': [25],\\\n",
    "'lr_all': [0.007],\\\n",
    "'reg_bu': [0.05],\\\n",
    "'reg_bi': [0.02],\\\n",
    "'reg_pu': [0.05],\\\n",
    "'reg_qi': [0.05],\\\n",
    "'n_epochs': [50],\\\n",
    "'biased': [True]}"
   ]
  },
  {
   "cell_type": "code",
   "execution_count": 17,
   "metadata": {},
   "outputs": [],
   "source": [
    "gridsearch = GridSearchCV(algo_class=SVD,param_grid=gridSVD,measures=['RMSE'], cv=5, n_jobs=-1,refit=True,joblib_verbose=2)"
   ]
  },
  {
   "cell_type": "code",
   "execution_count": 18,
   "metadata": {},
   "outputs": [
    {
     "name": "stderr",
     "output_type": "stream",
     "text": [
      "[Parallel(n_jobs=-1)]: Using backend LokyBackend with 4 concurrent workers.\n",
      "[Parallel(n_jobs=-1)]: Done   5 out of   5 | elapsed:  4.6min finished\n"
     ]
    }
   ],
   "source": [
    "gridsearch.fit(data_ds)"
   ]
  },
  {
   "cell_type": "code",
   "execution_count": 19,
   "metadata": {
    "scrolled": true
   },
   "outputs": [
    {
     "name": "stdout",
     "output_type": "stream",
     "text": [
      "1.009855091361983\n",
      "{'n_factors': 25, 'lr_all': 0.007, 'reg_bu': 0.05, 'reg_bi': 0.02, 'reg_pu': 0.05, 'reg_qi': 0.05, 'n_epochs': 50, 'biased': True}\n"
     ]
    }
   ],
   "source": [
    "print(gridsearch.best_score['rmse'])\n",
    "print(gridsearch.best_params['rmse'])"
   ]
  },
  {
   "cell_type": "code",
   "execution_count": 23,
   "metadata": {},
   "outputs": [
    {
     "data": {
      "text/plain": [
       "50"
      ]
     },
     "execution_count": 23,
     "metadata": {},
     "output_type": "execute_result"
    }
   ],
   "source": [
    "min(gridsearch.best_params[\"rmse\"][\"n_epochs\"],200)"
   ]
  },
  {
   "cell_type": "code",
   "execution_count": null,
   "metadata": {},
   "outputs": [],
   "source": [
    "results_cv = pd.DataFrame.from_dict(gridsearch.cv_results)\n",
    "#bestparam_cv = pd.DataFrame.from_dict(gridsearch.best_params[\"rmse\"])"
   ]
  },
  {
   "cell_type": "code",
   "execution_count": null,
   "metadata": {},
   "outputs": [],
   "source": [
    "results_cv_path = \"../data/cvresults/cv.csv\"\n",
    "results_cv_path = addDateAndTime(results_cv_path)\n",
    "results_cv.to_csv(path_or_buf=results_cv_path,mode=\"w\")"
   ]
  },
  {
   "cell_type": "code",
   "execution_count": null,
   "metadata": {},
   "outputs": [],
   "source": [
    "#results_cv_path = \"../data/cvresults/cv_bestparams.csv\"\n",
    "#results_cv_path = addDateAndTime(results_cv_path)\n",
    "#bestparam_cv.to_csv(path_or_buf=results_cv_path,mode=\"w\")"
   ]
  },
  {
   "cell_type": "markdown",
   "metadata": {},
   "source": [
    "### Make predictions"
   ]
  },
  {
   "cell_type": "code",
   "execution_count": null,
   "metadata": {},
   "outputs": [],
   "source": [
    "algo = gridsearch.best_estimator[\"rmse\"]\n",
    "algo.fit(full_train_ds)"
   ]
  },
  {
   "cell_type": "code",
   "execution_count": null,
   "metadata": {},
   "outputs": [],
   "source": [
    "generatePredictions(algo,pred_df)"
   ]
  },
  {
   "cell_type": "markdown",
   "metadata": {},
   "source": [
    "### Export predictions and algo parameters"
   ]
  },
  {
   "cell_type": "code",
   "execution_count": null,
   "metadata": {},
   "outputs": [],
   "source": [
    "exportAlgoParameters(algo,add_date=True,add_time=True)\n",
    "exportPredictions(pred_df,add_date=True,add_time=True)"
   ]
  },
  {
   "cell_type": "markdown",
   "metadata": {},
   "source": [
    "TODO:\n",
    "\n",
    "* vary different reg parameters\n",
    "\n",
    "* ~~GridSearchCV~~\n",
    "\n",
    "* build_full_trainset + algo.predict() -> kaggle\n",
    "\n",
    "* test other algorithms\n",
    "\n",
    "* ~~code export to .csv~~\n",
    "\n",
    "* write intro (Netflix prize, Simon Fuchs, other applications,scikit-surpise (why reinvent the wheel?), short summary of content)\n",
    "\n",
    "* important: in report show that we did understand the different methods!\n",
    "\n",
    "* compare speed sgd, "
   ]
  },
  {
   "cell_type": "markdown",
   "metadata": {},
   "source": [
    "##### n_factor search"
   ]
  },
  {
   "cell_type": "code",
   "execution_count": 24,
   "metadata": {},
   "outputs": [],
   "source": [
    "g_nfact = {\\\n",
    "'n_factors': [1,2,5,10,15,20,25,30,35,40,45,50],\\\n",
    "'lr_all': [0.007],\\\n",
    "'reg_bu': [0.05],\\\n",
    "'reg_bi': [0.02],\\\n",
    "'reg_pu': [0.05],\\\n",
    "'reg_qi': [0.05],\\\n",
    "'n_epochs': [20],\\\n",
    "'biased': [True]}"
   ]
  },
  {
   "cell_type": "code",
   "execution_count": 25,
   "metadata": {},
   "outputs": [],
   "source": [
    "gs_nfact = GridSearchCV(algo_class=SVD,param_grid=g_nfact,measures=['RMSE'], cv=5, n_jobs=-1,refit=True,joblib_verbose=2)"
   ]
  },
  {
   "cell_type": "code",
   "execution_count": 26,
   "metadata": {},
   "outputs": [
    {
     "name": "stderr",
     "output_type": "stream",
     "text": [
      "[Parallel(n_jobs=-1)]: Using backend LokyBackend with 4 concurrent workers.\n",
      "[Parallel(n_jobs=-1)]: Done  33 tasks      | elapsed: 13.6min\n",
      "[Parallel(n_jobs=-1)]: Done  60 out of  60 | elapsed: 26.4min finished\n"
     ]
    }
   ],
   "source": [
    "gs_nfact.fit(data_ds)"
   ]
  },
  {
   "cell_type": "code",
   "execution_count": 27,
   "metadata": {},
   "outputs": [
    {
     "name": "stdout",
     "output_type": "stream",
     "text": [
      "0.9972140858254267\n",
      "{'n_factors': 50, 'lr_all': 0.007, 'reg_bu': 0.05, 'reg_bi': 0.02, 'reg_pu': 0.05, 'reg_qi': 0.05, 'n_epochs': 20, 'biased': True}\n"
     ]
    }
   ],
   "source": [
    "print(gs_nfact.best_score['rmse'])\n",
    "print(gs_nfact.best_params['rmse'])"
   ]
  },
  {
   "cell_type": "code",
   "execution_count": 28,
   "metadata": {},
   "outputs": [],
   "source": [
    "results_cv = pd.DataFrame.from_dict(gs_nfact.cv_results)\n",
    "#bestparam_cv = pd.DataFrame.from_dict(gridsearch.best_params[\"rmse\"])"
   ]
  },
  {
   "cell_type": "code",
   "execution_count": 29,
   "metadata": {},
   "outputs": [],
   "source": [
    "results_cv_path = \"../data/cvresults/cv-n_factors.csv\"\n",
    "results_cv_path = addDateAndTime(results_cv_path)\n",
    "results_cv.to_csv(path_or_buf=results_cv_path,mode=\"w\")"
   ]
  },
  {
   "cell_type": "markdown",
   "metadata": {},
   "source": [
    "##### n_epochs search"
   ]
  },
  {
   "cell_type": "code",
   "execution_count": 30,
   "metadata": {},
   "outputs": [],
   "source": [
    "g_nep = {\\\n",
    "'n_factors': [gs_nfact.best_params[\"rmse\"][\"n_factors\"]],\\\n",
    "'lr_all': [0.007],\\\n",
    "'reg_bu': [0.05],\\\n",
    "'reg_bi': [0.02],\\\n",
    "'reg_pu': [0.05],\\\n",
    "'reg_qi': [0.05],\\\n",
    "'n_epochs': [10,20,50,100,200,500,1000],\\\n",
    "'biased': [True]}"
   ]
  },
  {
   "cell_type": "code",
   "execution_count": 31,
   "metadata": {},
   "outputs": [],
   "source": [
    "gs_nep = GridSearchCV(algo_class=SVD,param_grid=g_nep,measures=['RMSE'], cv=5, n_jobs=-1,refit=True,joblib_verbose=2)"
   ]
  },
  {
   "cell_type": "code",
   "execution_count": 32,
   "metadata": {},
   "outputs": [
    {
     "name": "stderr",
     "output_type": "stream",
     "text": [
      "[Parallel(n_jobs=-1)]: Using backend LokyBackend with 4 concurrent workers.\n",
      "[Parallel(n_jobs=-1)]: Done  35 out of  35 | elapsed: 169.4min finished\n"
     ]
    }
   ],
   "source": [
    "gs_nep.fit(data_ds)"
   ]
  },
  {
   "cell_type": "code",
   "execution_count": 33,
   "metadata": {},
   "outputs": [
    {
     "name": "stdout",
     "output_type": "stream",
     "text": [
      "0.9975508219697622\n",
      "{'n_factors': 50, 'lr_all': 0.007, 'reg_bu': 0.05, 'reg_bi': 0.02, 'reg_pu': 0.05, 'reg_qi': 0.05, 'n_epochs': 20, 'biased': True}\n"
     ]
    }
   ],
   "source": [
    "print(gs_nep.best_score['rmse'])\n",
    "print(gs_nep.best_params['rmse'])"
   ]
  },
  {
   "cell_type": "code",
   "execution_count": 34,
   "metadata": {},
   "outputs": [],
   "source": [
    "results_cv = pd.DataFrame.from_dict(gs_nep.cv_results)\n",
    "#bestparam_cv = pd.DataFrame.from_dict(gridsearch.best_params[\"rmse\"])"
   ]
  },
  {
   "cell_type": "code",
   "execution_count": 35,
   "metadata": {},
   "outputs": [],
   "source": [
    "results_cv_path = \"../data/cvresults/cv-n_epochs.csv\"\n",
    "results_cv_path = addDateAndTime(results_cv_path)\n",
    "results_cv.to_csv(path_or_buf=results_cv_path,mode=\"w\")"
   ]
  },
  {
   "cell_type": "markdown",
   "metadata": {},
   "source": [
    "##### reg_pu and reg_qi search"
   ]
  },
  {
   "cell_type": "code",
   "execution_count": 36,
   "metadata": {},
   "outputs": [],
   "source": [
    "g_reg = {\\\n",
    "'n_factors': [gs_nfact.best_params[\"rmse\"][\"n_factors\"]],\\\n",
    "'lr_all': [0.007],\\\n",
    "'reg_bu': [0.05],\\\n",
    "'reg_bi': [0.02],\\\n",
    "'reg_pu': [0.01,0.05,0.1,0.5,1,5],\\\n",
    "'reg_qi': [0.01,0.05,0.1,0.5,1,5],\\\n",
    "'n_epochs': [min(gs_nep.best_params[\"rmse\"][\"n_epochs\"],100)],\\\n",
    "'biased': [True]}"
   ]
  },
  {
   "cell_type": "code",
   "execution_count": 37,
   "metadata": {},
   "outputs": [],
   "source": [
    "gs_reg = GridSearchCV(algo_class=SVD,param_grid=g_reg,measures=['RMSE'], cv=5, n_jobs=-1,refit=True,joblib_verbose=2)"
   ]
  },
  {
   "cell_type": "code",
   "execution_count": 38,
   "metadata": {},
   "outputs": [
    {
     "name": "stderr",
     "output_type": "stream",
     "text": [
      "[Parallel(n_jobs=-1)]: Using backend LokyBackend with 4 concurrent workers.\n",
      "[Parallel(n_jobs=-1)]: Done  33 tasks      | elapsed: 18.5min\n",
      "[Parallel(n_jobs=-1)]: Done 154 tasks      | elapsed: 84.0min\n",
      "[Parallel(n_jobs=-1)]: Done 180 out of 180 | elapsed: 97.9min finished\n"
     ]
    }
   ],
   "source": [
    "gs_reg.fit(data_ds)"
   ]
  },
  {
   "cell_type": "code",
   "execution_count": 39,
   "metadata": {},
   "outputs": [
    {
     "name": "stdout",
     "output_type": "stream",
     "text": [
      "0.9948947915686087\n",
      "{'n_factors': 50, 'lr_all': 0.007, 'reg_bu': 0.05, 'reg_bi': 0.02, 'reg_pu': 0.5, 'reg_qi': 0.01, 'n_epochs': 20, 'biased': True}\n"
     ]
    }
   ],
   "source": [
    "print(gs_reg.best_score['rmse'])\n",
    "print(gs_reg.best_params['rmse'])"
   ]
  },
  {
   "cell_type": "code",
   "execution_count": 40,
   "metadata": {},
   "outputs": [],
   "source": [
    "results_cv = pd.DataFrame.from_dict(gs_reg.cv_results)\n",
    "#bestparam_cv = pd.DataFrame.from_dict(gridsearch.best_params[\"rmse\"])"
   ]
  },
  {
   "cell_type": "code",
   "execution_count": 41,
   "metadata": {},
   "outputs": [],
   "source": [
    "results_cv_path = \"../data/cvresults/cv-reg-pu-qi.csv\"\n",
    "results_cv_path = addDateAndTime(results_cv_path)\n",
    "results_cv.to_csv(path_or_buf=results_cv_path,mode=\"w\")"
   ]
  },
  {
   "cell_type": "code",
   "execution_count": 49,
   "metadata": {},
   "outputs": [],
   "source": [
    "algo = gs_reg.best_estimator[\"rmse\"]"
   ]
  },
  {
   "cell_type": "code",
   "execution_count": 50,
   "metadata": {},
   "outputs": [
    {
     "data": {
      "text/plain": [
       "<surprise.prediction_algorithms.matrix_factorization.SVD at 0x7f219fd8b8d0>"
      ]
     },
     "execution_count": 50,
     "metadata": {},
     "output_type": "execute_result"
    }
   ],
   "source": [
    "algo.fit(full_train_ds)"
   ]
  },
  {
   "cell_type": "code",
   "execution_count": 52,
   "metadata": {},
   "outputs": [],
   "source": [
    "generatePredictions(algo,pred_df)"
   ]
  },
  {
   "cell_type": "code",
   "execution_count": 53,
   "metadata": {},
   "outputs": [],
   "source": [
    "exportAlgoParameters(algo,add_date=True,add_time=True)\n",
    "exportPredictions(pred_df,add_date=True,add_time=True)"
   ]
  },
  {
   "cell_type": "code",
   "execution_count": null,
   "metadata": {},
   "outputs": [],
   "source": []
  },
  {
   "cell_type": "markdown",
   "metadata": {},
   "source": [
    "##### n_epochs lr=0.01, reg =0.1"
   ]
  },
  {
   "cell_type": "code",
   "execution_count": 56,
   "metadata": {},
   "outputs": [],
   "source": [
    "g_nepch2 = {\\\n",
    "'n_factors': [10],\\\n",
    "'lr_all': [0.01],\\\n",
    "'reg_all': [0.1],\\\n",
    "#'reg_bu': [0.05],\\\n",
    "#'reg_bi': [0.02],\\\n",
    "#'reg_pu': [0.01,0.05,0.1,0.5,1,5],\\\n",
    "#'reg_qi': [0.01,0.05,0.1,0.5,1,5],\\\n",
    "'n_epochs': [5,10,15,20,50,100,150,200],\\\n",
    "'biased': [True]}"
   ]
  },
  {
   "cell_type": "code",
   "execution_count": 57,
   "metadata": {},
   "outputs": [],
   "source": [
    "gs_nepch2 = GridSearchCV(algo_class=SVD,param_grid=g_nepch2,measures=['RMSE'], cv=5, n_jobs=-1,refit=True,joblib_verbose=2)"
   ]
  },
  {
   "cell_type": "code",
   "execution_count": 58,
   "metadata": {},
   "outputs": [
    {
     "name": "stderr",
     "output_type": "stream",
     "text": [
      "[Parallel(n_jobs=-1)]: Using backend LokyBackend with 4 concurrent workers.\n",
      "[Parallel(n_jobs=-1)]: Done  33 tasks      | elapsed: 24.4min\n",
      "[Parallel(n_jobs=-1)]: Done  40 out of  40 | elapsed: 37.1min finished\n"
     ]
    }
   ],
   "source": [
    "gs_nepch2.fit(data_ds)"
   ]
  },
  {
   "cell_type": "code",
   "execution_count": 64,
   "metadata": {},
   "outputs": [
    {
     "name": "stdout",
     "output_type": "stream",
     "text": [
      "0.9942575327315921\n",
      "{'n_factors': 10, 'lr_all': 0.01, 'reg_all': 0.1, 'n_epochs': 150, 'biased': True}\n"
     ]
    }
   ],
   "source": [
    "print(gs_nepch2.best_score['rmse'])\n",
    "print(gs_nepch2.best_params['rmse'])"
   ]
  },
  {
   "cell_type": "code",
   "execution_count": 65,
   "metadata": {},
   "outputs": [],
   "source": [
    "results_cv = pd.DataFrame.from_dict(gs_nepch2.cv_results)\n",
    "#bestparam_cv = pd.DataFrame.from_dict(gridsearch.best_params[\"rmse\"])"
   ]
  },
  {
   "cell_type": "code",
   "execution_count": 66,
   "metadata": {},
   "outputs": [],
   "source": [
    "results_cv_path = \"../data/cvresults/cv-gs_nepch2.csv\"\n",
    "results_cv_path = addDateAndTime(results_cv_path)\n",
    "results_cv.to_csv(path_or_buf=results_cv_path,mode=\"w\")"
   ]
  },
  {
   "cell_type": "code",
   "execution_count": 67,
   "metadata": {
    "scrolled": true
   },
   "outputs": [
    {
     "data": {
      "text/plain": [
       "'../data/cvresults/cv-gs_nepch2_2018-12-19_1753.csv'"
      ]
     },
     "execution_count": 67,
     "metadata": {},
     "output_type": "execute_result"
    }
   ],
   "source": [
    "results_cv_path"
   ]
  },
  {
   "cell_type": "code",
   "execution_count": 68,
   "metadata": {},
   "outputs": [],
   "source": [
    "best_algo = gs_nepch2.best_estimator[\"rmse\"]"
   ]
  },
  {
   "cell_type": "code",
   "execution_count": 69,
   "metadata": {},
   "outputs": [
    {
     "data": {
      "text/plain": [
       "<surprise.prediction_algorithms.matrix_factorization.SVD at 0x7f21b1c95eb8>"
      ]
     },
     "execution_count": 69,
     "metadata": {},
     "output_type": "execute_result"
    }
   ],
   "source": [
    "best_algo.fit(full_train_ds)"
   ]
  },
  {
   "cell_type": "code",
   "execution_count": 70,
   "metadata": {},
   "outputs": [],
   "source": [
    "generatePredictions(algo,pred_df)"
   ]
  },
  {
   "cell_type": "code",
   "execution_count": 72,
   "metadata": {},
   "outputs": [],
   "source": [
    "exportPredictions(pred_df,outfilepath=\"../data/submissions/SVD-jules.csv\",add_date=True,add_time=True)"
   ]
  },
  {
   "cell_type": "markdown",
   "metadata": {},
   "source": [
    "#### Baseline"
   ]
  },
  {
   "cell_type": "code",
   "execution_count": 83,
   "metadata": {},
   "outputs": [],
   "source": [
    "g_bl = {'bsl_options': {'method': ['als'],\n",
    "              'reg_u': [1, 2,5,10,15,20],\n",
    "              'reg_i': [1, 2,5,10,15,20],\n",
    "              'n_epochs': [10]}}"
   ]
  },
  {
   "cell_type": "code",
   "execution_count": 84,
   "metadata": {},
   "outputs": [],
   "source": [
    "gs_bl = GridSearchCV(algo_class=BaselineOnly,param_grid=g_bl,measures=['RMSE'], cv=5, n_jobs=-1,refit=True,joblib_verbose=2)"
   ]
  },
  {
   "cell_type": "code",
   "execution_count": 85,
   "metadata": {},
   "outputs": [
    {
     "name": "stderr",
     "output_type": "stream",
     "text": [
      "[Parallel(n_jobs=-1)]: Using backend LokyBackend with 4 concurrent workers.\n",
      "[Parallel(n_jobs=-1)]: Done  33 tasks      | elapsed: 13.0min\n",
      "[Parallel(n_jobs=-1)]: Done 154 tasks      | elapsed: 51.7min\n",
      "[Parallel(n_jobs=-1)]: Done 180 out of 180 | elapsed: 61.6min finished\n"
     ]
    },
    {
     "name": "stdout",
     "output_type": "stream",
     "text": [
      "Estimating biases using als...\n"
     ]
    }
   ],
   "source": [
    "gs_bl.fit(data_ds)"
   ]
  },
  {
   "cell_type": "code",
   "execution_count": 86,
   "metadata": {},
   "outputs": [
    {
     "name": "stdout",
     "output_type": "stream",
     "text": [
      "0.999267991510688\n",
      "{'bsl_options': {'method': 'als', 'reg_u': 15, 'reg_i': 1, 'n_epochs': 10}}\n"
     ]
    }
   ],
   "source": [
    "print(gs_bl.best_score['rmse'])\n",
    "print(gs_bl.best_params['rmse'])"
   ]
  },
  {
   "cell_type": "code",
   "execution_count": 87,
   "metadata": {},
   "outputs": [],
   "source": [
    "results_cv = pd.DataFrame.from_dict(gs_bl.cv_results)\n",
    "#bestparam_cv = pd.DataFrame.from_dict(gridsearch.best_params[\"rmse\"])"
   ]
  },
  {
   "cell_type": "code",
   "execution_count": 88,
   "metadata": {},
   "outputs": [],
   "source": [
    "results_cv_path = \"../data/cvresults/cv-bl.csv\"\n",
    "results_cv_path = addDateAndTime(results_cv_path)\n",
    "results_cv.to_csv(path_or_buf=results_cv_path,mode=\"w\")"
   ]
  },
  {
   "cell_type": "code",
   "execution_count": 89,
   "metadata": {
    "scrolled": true
   },
   "outputs": [
    {
     "data": {
      "text/plain": [
       "'../data/cvresults/cv-bl_2018-12-20_0116.csv'"
      ]
     },
     "execution_count": 89,
     "metadata": {},
     "output_type": "execute_result"
    }
   ],
   "source": [
    "results_cv_path"
   ]
  },
  {
   "cell_type": "code",
   "execution_count": 90,
   "metadata": {},
   "outputs": [],
   "source": [
    "best_algo = gs_bl.best_estimator[\"rmse\"]"
   ]
  },
  {
   "cell_type": "code",
   "execution_count": 91,
   "metadata": {},
   "outputs": [
    {
     "data": {
      "text/plain": [
       "<surprise.prediction_algorithms.matrix_factorization.SVD at 0x7f21b1c95eb8>"
      ]
     },
     "execution_count": 91,
     "metadata": {},
     "output_type": "execute_result"
    }
   ],
   "source": [
    "best_algo.fit(full_train_ds)"
   ]
  },
  {
   "cell_type": "code",
   "execution_count": 92,
   "metadata": {},
   "outputs": [],
   "source": [
    "generatePredictions(algo,pred_df)"
   ]
  },
  {
   "cell_type": "code",
   "execution_count": 93,
   "metadata": {},
   "outputs": [],
   "source": [
    "exportPredictions(pred_df,outfilepath=\"../data/submissions/bl.csv\",add_date=True,add_time=True)"
   ]
  },
  {
   "cell_type": "code",
   "execution_count": 95,
   "metadata": {},
   "outputs": [
    {
     "data": {
      "text/html": [
       "<div>\n",
       "<style scoped>\n",
       "    .dataframe tbody tr th:only-of-type {\n",
       "        vertical-align: middle;\n",
       "    }\n",
       "\n",
       "    .dataframe tbody tr th {\n",
       "        vertical-align: top;\n",
       "    }\n",
       "\n",
       "    .dataframe thead th {\n",
       "        text-align: right;\n",
       "    }\n",
       "</style>\n",
       "<table border=\"1\" class=\"dataframe\">\n",
       "  <thead>\n",
       "    <tr style=\"text-align: right;\">\n",
       "      <th></th>\n",
       "      <th>split0_test_rmse</th>\n",
       "      <th>split1_test_rmse</th>\n",
       "      <th>split2_test_rmse</th>\n",
       "      <th>split3_test_rmse</th>\n",
       "      <th>split4_test_rmse</th>\n",
       "      <th>mean_test_rmse</th>\n",
       "      <th>std_test_rmse</th>\n",
       "      <th>rank_test_rmse</th>\n",
       "      <th>mean_fit_time</th>\n",
       "      <th>std_fit_time</th>\n",
       "      <th>mean_test_time</th>\n",
       "      <th>std_test_time</th>\n",
       "      <th>params</th>\n",
       "      <th>param_bsl_options</th>\n",
       "    </tr>\n",
       "  </thead>\n",
       "  <tbody>\n",
       "    <tr>\n",
       "      <th>0</th>\n",
       "      <td>0.998224</td>\n",
       "      <td>1.000600</td>\n",
       "      <td>1.001413</td>\n",
       "      <td>1.000364</td>\n",
       "      <td>0.999318</td>\n",
       "      <td>0.999983</td>\n",
       "      <td>0.001105</td>\n",
       "      <td>30</td>\n",
       "      <td>0.986609</td>\n",
       "      <td>0.066055</td>\n",
       "      <td>3.471516</td>\n",
       "      <td>0.058226</td>\n",
       "      <td>{'bsl_options': {'method': 'als', 'reg_u': 1, ...</td>\n",
       "      <td>{'method': 'als', 'reg_u': 1, 'reg_i': 1, 'n_e...</td>\n",
       "    </tr>\n",
       "    <tr>\n",
       "      <th>1</th>\n",
       "      <td>0.998224</td>\n",
       "      <td>1.000597</td>\n",
       "      <td>1.001417</td>\n",
       "      <td>1.000367</td>\n",
       "      <td>0.999314</td>\n",
       "      <td>0.999984</td>\n",
       "      <td>0.001107</td>\n",
       "      <td>31</td>\n",
       "      <td>1.033023</td>\n",
       "      <td>0.010019</td>\n",
       "      <td>3.389617</td>\n",
       "      <td>0.069689</td>\n",
       "      <td>{'bsl_options': {'method': 'als', 'reg_u': 1, ...</td>\n",
       "      <td>{'method': 'als', 'reg_u': 1, 'reg_i': 2, 'n_e...</td>\n",
       "    </tr>\n",
       "    <tr>\n",
       "      <th>2</th>\n",
       "      <td>0.998232</td>\n",
       "      <td>1.000598</td>\n",
       "      <td>1.001435</td>\n",
       "      <td>1.000387</td>\n",
       "      <td>0.999314</td>\n",
       "      <td>0.999993</td>\n",
       "      <td>0.001110</td>\n",
       "      <td>32</td>\n",
       "      <td>0.950849</td>\n",
       "      <td>0.123102</td>\n",
       "      <td>3.453298</td>\n",
       "      <td>0.086903</td>\n",
       "      <td>{'bsl_options': {'method': 'als', 'reg_u': 1, ...</td>\n",
       "      <td>{'method': 'als', 'reg_u': 1, 'reg_i': 5, 'n_e...</td>\n",
       "    </tr>\n",
       "    <tr>\n",
       "      <th>3</th>\n",
       "      <td>0.998266</td>\n",
       "      <td>1.000620</td>\n",
       "      <td>1.001481</td>\n",
       "      <td>1.000438</td>\n",
       "      <td>0.999334</td>\n",
       "      <td>1.000028</td>\n",
       "      <td>0.001115</td>\n",
       "      <td>34</td>\n",
       "      <td>0.794171</td>\n",
       "      <td>0.232949</td>\n",
       "      <td>2.513530</td>\n",
       "      <td>0.788055</td>\n",
       "      <td>{'bsl_options': {'method': 'als', 'reg_u': 1, ...</td>\n",
       "      <td>{'method': 'als', 'reg_u': 1, 'reg_i': 10, 'n_...</td>\n",
       "    </tr>\n",
       "    <tr>\n",
       "      <th>4</th>\n",
       "      <td>0.998318</td>\n",
       "      <td>1.000660</td>\n",
       "      <td>1.001542</td>\n",
       "      <td>1.000504</td>\n",
       "      <td>0.999373</td>\n",
       "      <td>1.000079</td>\n",
       "      <td>0.001119</td>\n",
       "      <td>35</td>\n",
       "      <td>0.554456</td>\n",
       "      <td>0.004899</td>\n",
       "      <td>1.782659</td>\n",
       "      <td>0.057791</td>\n",
       "      <td>{'bsl_options': {'method': 'als', 'reg_u': 1, ...</td>\n",
       "      <td>{'method': 'als', 'reg_u': 1, 'reg_i': 15, 'n_...</td>\n",
       "    </tr>\n",
       "    <tr>\n",
       "      <th>5</th>\n",
       "      <td>0.998381</td>\n",
       "      <td>1.000714</td>\n",
       "      <td>1.001613</td>\n",
       "      <td>1.000580</td>\n",
       "      <td>0.999426</td>\n",
       "      <td>1.000143</td>\n",
       "      <td>0.001122</td>\n",
       "      <td>36</td>\n",
       "      <td>0.570167</td>\n",
       "      <td>0.022610</td>\n",
       "      <td>1.898418</td>\n",
       "      <td>0.117060</td>\n",
       "      <td>{'bsl_options': {'method': 'als', 'reg_u': 1, ...</td>\n",
       "      <td>{'method': 'als', 'reg_u': 1, 'reg_i': 20, 'n_...</td>\n",
       "    </tr>\n",
       "    <tr>\n",
       "      <th>6</th>\n",
       "      <td>0.998082</td>\n",
       "      <td>1.000462</td>\n",
       "      <td>1.001295</td>\n",
       "      <td>1.000249</td>\n",
       "      <td>0.999180</td>\n",
       "      <td>0.999854</td>\n",
       "      <td>0.001113</td>\n",
       "      <td>25</td>\n",
       "      <td>0.585266</td>\n",
       "      <td>0.022362</td>\n",
       "      <td>1.937198</td>\n",
       "      <td>0.211826</td>\n",
       "      <td>{'bsl_options': {'method': 'als', 'reg_u': 2, ...</td>\n",
       "      <td>{'method': 'als', 'reg_u': 2, 'reg_i': 1, 'n_e...</td>\n",
       "    </tr>\n",
       "    <tr>\n",
       "      <th>7</th>\n",
       "      <td>0.998082</td>\n",
       "      <td>1.000460</td>\n",
       "      <td>1.001300</td>\n",
       "      <td>1.000253</td>\n",
       "      <td>0.999177</td>\n",
       "      <td>0.999854</td>\n",
       "      <td>0.001115</td>\n",
       "      <td>26</td>\n",
       "      <td>0.580255</td>\n",
       "      <td>0.036663</td>\n",
       "      <td>1.762989</td>\n",
       "      <td>0.047871</td>\n",
       "      <td>{'bsl_options': {'method': 'als', 'reg_u': 2, ...</td>\n",
       "      <td>{'method': 'als', 'reg_u': 2, 'reg_i': 2, 'n_e...</td>\n",
       "    </tr>\n",
       "    <tr>\n",
       "      <th>8</th>\n",
       "      <td>0.998091</td>\n",
       "      <td>1.000461</td>\n",
       "      <td>1.001319</td>\n",
       "      <td>1.000274</td>\n",
       "      <td>0.999177</td>\n",
       "      <td>0.999865</td>\n",
       "      <td>0.001119</td>\n",
       "      <td>27</td>\n",
       "      <td>0.577056</td>\n",
       "      <td>0.035606</td>\n",
       "      <td>1.997072</td>\n",
       "      <td>0.269277</td>\n",
       "      <td>{'bsl_options': {'method': 'als', 'reg_u': 2, ...</td>\n",
       "      <td>{'method': 'als', 'reg_u': 2, 'reg_i': 5, 'n_e...</td>\n",
       "    </tr>\n",
       "    <tr>\n",
       "      <th>9</th>\n",
       "      <td>0.998126</td>\n",
       "      <td>1.000484</td>\n",
       "      <td>1.001367</td>\n",
       "      <td>1.000327</td>\n",
       "      <td>0.999199</td>\n",
       "      <td>0.999901</td>\n",
       "      <td>0.001124</td>\n",
       "      <td>28</td>\n",
       "      <td>0.561497</td>\n",
       "      <td>0.014636</td>\n",
       "      <td>1.744278</td>\n",
       "      <td>0.054005</td>\n",
       "      <td>{'bsl_options': {'method': 'als', 'reg_u': 2, ...</td>\n",
       "      <td>{'method': 'als', 'reg_u': 2, 'reg_i': 10, 'n_...</td>\n",
       "    </tr>\n",
       "    <tr>\n",
       "      <th>10</th>\n",
       "      <td>0.998179</td>\n",
       "      <td>1.000527</td>\n",
       "      <td>1.001430</td>\n",
       "      <td>1.000395</td>\n",
       "      <td>0.999240</td>\n",
       "      <td>0.999954</td>\n",
       "      <td>0.001128</td>\n",
       "      <td>29</td>\n",
       "      <td>0.554202</td>\n",
       "      <td>0.003513</td>\n",
       "      <td>1.729050</td>\n",
       "      <td>0.039591</td>\n",
       "      <td>{'bsl_options': {'method': 'als', 'reg_u': 2, ...</td>\n",
       "      <td>{'method': 'als', 'reg_u': 2, 'reg_i': 15, 'n_...</td>\n",
       "    </tr>\n",
       "    <tr>\n",
       "      <th>11</th>\n",
       "      <td>0.998245</td>\n",
       "      <td>1.000582</td>\n",
       "      <td>1.001504</td>\n",
       "      <td>1.000474</td>\n",
       "      <td>0.999296</td>\n",
       "      <td>1.000020</td>\n",
       "      <td>0.001131</td>\n",
       "      <td>33</td>\n",
       "      <td>0.556673</td>\n",
       "      <td>0.006881</td>\n",
       "      <td>1.788300</td>\n",
       "      <td>0.029301</td>\n",
       "      <td>{'bsl_options': {'method': 'als', 'reg_u': 2, ...</td>\n",
       "      <td>{'method': 'als', 'reg_u': 2, 'reg_i': 20, 'n_...</td>\n",
       "    </tr>\n",
       "    <tr>\n",
       "      <th>12</th>\n",
       "      <td>0.997769</td>\n",
       "      <td>1.000156</td>\n",
       "      <td>1.001046</td>\n",
       "      <td>1.000008</td>\n",
       "      <td>0.998869</td>\n",
       "      <td>0.999570</td>\n",
       "      <td>0.001136</td>\n",
       "      <td>18</td>\n",
       "      <td>0.572745</td>\n",
       "      <td>0.021105</td>\n",
       "      <td>1.761420</td>\n",
       "      <td>0.077625</td>\n",
       "      <td>{'bsl_options': {'method': 'als', 'reg_u': 5, ...</td>\n",
       "      <td>{'method': 'als', 'reg_u': 5, 'reg_i': 1, 'n_e...</td>\n",
       "    </tr>\n",
       "    <tr>\n",
       "      <th>13</th>\n",
       "      <td>0.997770</td>\n",
       "      <td>1.000155</td>\n",
       "      <td>1.001052</td>\n",
       "      <td>1.000013</td>\n",
       "      <td>0.998867</td>\n",
       "      <td>0.999571</td>\n",
       "      <td>0.001137</td>\n",
       "      <td>19</td>\n",
       "      <td>0.558282</td>\n",
       "      <td>0.007419</td>\n",
       "      <td>1.777570</td>\n",
       "      <td>0.040117</td>\n",
       "      <td>{'bsl_options': {'method': 'als', 'reg_u': 5, ...</td>\n",
       "      <td>{'method': 'als', 'reg_u': 5, 'reg_i': 2, 'n_e...</td>\n",
       "    </tr>\n",
       "    <tr>\n",
       "      <th>14</th>\n",
       "      <td>0.997781</td>\n",
       "      <td>1.000159</td>\n",
       "      <td>1.001074</td>\n",
       "      <td>1.000038</td>\n",
       "      <td>0.998871</td>\n",
       "      <td>0.999585</td>\n",
       "      <td>0.001142</td>\n",
       "      <td>20</td>\n",
       "      <td>0.609903</td>\n",
       "      <td>0.071404</td>\n",
       "      <td>1.812823</td>\n",
       "      <td>0.109722</td>\n",
       "      <td>{'bsl_options': {'method': 'als', 'reg_u': 5, ...</td>\n",
       "      <td>{'method': 'als', 'reg_u': 5, 'reg_i': 5, 'n_e...</td>\n",
       "    </tr>\n",
       "    <tr>\n",
       "      <th>15</th>\n",
       "      <td>0.997820</td>\n",
       "      <td>1.000188</td>\n",
       "      <td>1.001128</td>\n",
       "      <td>1.000097</td>\n",
       "      <td>0.998898</td>\n",
       "      <td>0.999626</td>\n",
       "      <td>0.001148</td>\n",
       "      <td>22</td>\n",
       "      <td>0.607041</td>\n",
       "      <td>0.080002</td>\n",
       "      <td>1.947262</td>\n",
       "      <td>0.195518</td>\n",
       "      <td>{'bsl_options': {'method': 'als', 'reg_u': 5, ...</td>\n",
       "      <td>{'method': 'als', 'reg_u': 5, 'reg_i': 10, 'n_...</td>\n",
       "    </tr>\n",
       "    <tr>\n",
       "      <th>16</th>\n",
       "      <td>0.997878</td>\n",
       "      <td>1.000236</td>\n",
       "      <td>1.001198</td>\n",
       "      <td>1.000172</td>\n",
       "      <td>0.998945</td>\n",
       "      <td>0.999686</td>\n",
       "      <td>0.001153</td>\n",
       "      <td>23</td>\n",
       "      <td>0.596310</td>\n",
       "      <td>0.081142</td>\n",
       "      <td>1.856299</td>\n",
       "      <td>0.088576</td>\n",
       "      <td>{'bsl_options': {'method': 'als', 'reg_u': 5, ...</td>\n",
       "      <td>{'method': 'als', 'reg_u': 5, 'reg_i': 15, 'n_...</td>\n",
       "    </tr>\n",
       "    <tr>\n",
       "      <th>17</th>\n",
       "      <td>0.997949</td>\n",
       "      <td>1.000298</td>\n",
       "      <td>1.001279</td>\n",
       "      <td>1.000259</td>\n",
       "      <td>0.999007</td>\n",
       "      <td>0.999758</td>\n",
       "      <td>0.001157</td>\n",
       "      <td>24</td>\n",
       "      <td>0.651337</td>\n",
       "      <td>0.129503</td>\n",
       "      <td>1.921794</td>\n",
       "      <td>0.099672</td>\n",
       "      <td>{'bsl_options': {'method': 'als', 'reg_u': 5, ...</td>\n",
       "      <td>{'method': 'als', 'reg_u': 5, 'reg_i': 20, 'n_...</td>\n",
       "    </tr>\n",
       "    <tr>\n",
       "      <th>18</th>\n",
       "      <td>0.997492</td>\n",
       "      <td>0.999886</td>\n",
       "      <td>1.000851</td>\n",
       "      <td>0.999824</td>\n",
       "      <td>0.998584</td>\n",
       "      <td>0.999327</td>\n",
       "      <td>0.001166</td>\n",
       "      <td>4</td>\n",
       "      <td>0.572248</td>\n",
       "      <td>0.019862</td>\n",
       "      <td>1.812492</td>\n",
       "      <td>0.086876</td>\n",
       "      <td>{'bsl_options': {'method': 'als', 'reg_u': 10,...</td>\n",
       "      <td>{'method': 'als', 'reg_u': 10, 'reg_i': 1, 'n_...</td>\n",
       "    </tr>\n",
       "    <tr>\n",
       "      <th>19</th>\n",
       "      <td>0.997494</td>\n",
       "      <td>0.999886</td>\n",
       "      <td>1.000858</td>\n",
       "      <td>0.999831</td>\n",
       "      <td>0.998583</td>\n",
       "      <td>0.999330</td>\n",
       "      <td>0.001168</td>\n",
       "      <td>6</td>\n",
       "      <td>0.571299</td>\n",
       "      <td>0.018092</td>\n",
       "      <td>1.862268</td>\n",
       "      <td>0.106596</td>\n",
       "      <td>{'bsl_options': {'method': 'als', 'reg_u': 10,...</td>\n",
       "      <td>{'method': 'als', 'reg_u': 10, 'reg_i': 2, 'n_...</td>\n",
       "    </tr>\n",
       "    <tr>\n",
       "      <th>20</th>\n",
       "      <td>0.997509</td>\n",
       "      <td>0.999894</td>\n",
       "      <td>1.000885</td>\n",
       "      <td>0.999861</td>\n",
       "      <td>0.998592</td>\n",
       "      <td>0.999348</td>\n",
       "      <td>0.001173</td>\n",
       "      <td>8</td>\n",
       "      <td>0.607513</td>\n",
       "      <td>0.081583</td>\n",
       "      <td>1.799160</td>\n",
       "      <td>0.059104</td>\n",
       "      <td>{'bsl_options': {'method': 'als', 'reg_u': 10,...</td>\n",
       "      <td>{'method': 'als', 'reg_u': 10, 'reg_i': 5, 'n_...</td>\n",
       "    </tr>\n",
       "    <tr>\n",
       "      <th>21</th>\n",
       "      <td>0.997555</td>\n",
       "      <td>0.999931</td>\n",
       "      <td>1.000948</td>\n",
       "      <td>0.999929</td>\n",
       "      <td>0.998629</td>\n",
       "      <td>0.999398</td>\n",
       "      <td>0.001179</td>\n",
       "      <td>11</td>\n",
       "      <td>0.558752</td>\n",
       "      <td>0.012180</td>\n",
       "      <td>1.762218</td>\n",
       "      <td>0.044932</td>\n",
       "      <td>{'bsl_options': {'method': 'als', 'reg_u': 10,...</td>\n",
       "      <td>{'method': 'als', 'reg_u': 10, 'reg_i': 10, 'n...</td>\n",
       "    </tr>\n",
       "    <tr>\n",
       "      <th>22</th>\n",
       "      <td>0.997621</td>\n",
       "      <td>0.999988</td>\n",
       "      <td>1.001027</td>\n",
       "      <td>1.000015</td>\n",
       "      <td>0.998685</td>\n",
       "      <td>0.999467</td>\n",
       "      <td>0.001185</td>\n",
       "      <td>14</td>\n",
       "      <td>0.575426</td>\n",
       "      <td>0.023120</td>\n",
       "      <td>1.769010</td>\n",
       "      <td>0.065983</td>\n",
       "      <td>{'bsl_options': {'method': 'als', 'reg_u': 10,...</td>\n",
       "      <td>{'method': 'als', 'reg_u': 10, 'reg_i': 15, 'n...</td>\n",
       "    </tr>\n",
       "    <tr>\n",
       "      <th>23</th>\n",
       "      <td>0.997700</td>\n",
       "      <td>1.000059</td>\n",
       "      <td>1.001118</td>\n",
       "      <td>1.000111</td>\n",
       "      <td>0.998757</td>\n",
       "      <td>0.999549</td>\n",
       "      <td>0.001190</td>\n",
       "      <td>17</td>\n",
       "      <td>0.584228</td>\n",
       "      <td>0.038438</td>\n",
       "      <td>1.852147</td>\n",
       "      <td>0.123133</td>\n",
       "      <td>{'bsl_options': {'method': 'als', 'reg_u': 10,...</td>\n",
       "      <td>{'method': 'als', 'reg_u': 10, 'reg_i': 20, 'n...</td>\n",
       "    </tr>\n",
       "    <tr>\n",
       "      <th>24</th>\n",
       "      <td>0.997408</td>\n",
       "      <td>0.999805</td>\n",
       "      <td>1.000829</td>\n",
       "      <td>0.999813</td>\n",
       "      <td>0.998486</td>\n",
       "      <td>0.999268</td>\n",
       "      <td>0.001191</td>\n",
       "      <td>1</td>\n",
       "      <td>0.618961</td>\n",
       "      <td>0.083329</td>\n",
       "      <td>1.963781</td>\n",
       "      <td>0.306430</td>\n",
       "      <td>{'bsl_options': {'method': 'als', 'reg_u': 15,...</td>\n",
       "      <td>{'method': 'als', 'reg_u': 15, 'reg_i': 1, 'n_...</td>\n",
       "    </tr>\n",
       "    <tr>\n",
       "      <th>25</th>\n",
       "      <td>0.997411</td>\n",
       "      <td>0.999805</td>\n",
       "      <td>1.000837</td>\n",
       "      <td>0.999821</td>\n",
       "      <td>0.998487</td>\n",
       "      <td>0.999272</td>\n",
       "      <td>0.001193</td>\n",
       "      <td>2</td>\n",
       "      <td>0.595330</td>\n",
       "      <td>0.046513</td>\n",
       "      <td>1.786068</td>\n",
       "      <td>0.063814</td>\n",
       "      <td>{'bsl_options': {'method': 'als', 'reg_u': 15,...</td>\n",
       "      <td>{'method': 'als', 'reg_u': 15, 'reg_i': 2, 'n_...</td>\n",
       "    </tr>\n",
       "    <tr>\n",
       "      <th>26</th>\n",
       "      <td>0.997428</td>\n",
       "      <td>0.999817</td>\n",
       "      <td>1.000868</td>\n",
       "      <td>0.999855</td>\n",
       "      <td>0.998500</td>\n",
       "      <td>0.999293</td>\n",
       "      <td>0.001198</td>\n",
       "      <td>3</td>\n",
       "      <td>0.580532</td>\n",
       "      <td>0.019302</td>\n",
       "      <td>1.894440</td>\n",
       "      <td>0.066036</td>\n",
       "      <td>{'bsl_options': {'method': 'als', 'reg_u': 15,...</td>\n",
       "      <td>{'method': 'als', 'reg_u': 15, 'reg_i': 5, 'n_...</td>\n",
       "    </tr>\n",
       "    <tr>\n",
       "      <th>27</th>\n",
       "      <td>0.997480</td>\n",
       "      <td>0.999860</td>\n",
       "      <td>1.000937</td>\n",
       "      <td>0.999930</td>\n",
       "      <td>0.998543</td>\n",
       "      <td>0.999350</td>\n",
       "      <td>0.001205</td>\n",
       "      <td>9</td>\n",
       "      <td>0.585623</td>\n",
       "      <td>0.025868</td>\n",
       "      <td>1.781589</td>\n",
       "      <td>0.057955</td>\n",
       "      <td>{'bsl_options': {'method': 'als', 'reg_u': 15,...</td>\n",
       "      <td>{'method': 'als', 'reg_u': 15, 'reg_i': 10, 'n...</td>\n",
       "    </tr>\n",
       "    <tr>\n",
       "      <th>28</th>\n",
       "      <td>0.997551</td>\n",
       "      <td>0.999923</td>\n",
       "      <td>1.001023</td>\n",
       "      <td>1.000022</td>\n",
       "      <td>0.998606</td>\n",
       "      <td>0.999425</td>\n",
       "      <td>0.001211</td>\n",
       "      <td>13</td>\n",
       "      <td>0.597594</td>\n",
       "      <td>0.031699</td>\n",
       "      <td>1.869718</td>\n",
       "      <td>0.060658</td>\n",
       "      <td>{'bsl_options': {'method': 'als', 'reg_u': 15,...</td>\n",
       "      <td>{'method': 'als', 'reg_u': 15, 'reg_i': 15, 'n...</td>\n",
       "    </tr>\n",
       "    <tr>\n",
       "      <th>29</th>\n",
       "      <td>0.997637</td>\n",
       "      <td>1.000001</td>\n",
       "      <td>1.001121</td>\n",
       "      <td>1.000126</td>\n",
       "      <td>0.998685</td>\n",
       "      <td>0.999514</td>\n",
       "      <td>0.001217</td>\n",
       "      <td>16</td>\n",
       "      <td>0.551298</td>\n",
       "      <td>0.006464</td>\n",
       "      <td>1.803637</td>\n",
       "      <td>0.065617</td>\n",
       "      <td>{'bsl_options': {'method': 'als', 'reg_u': 15,...</td>\n",
       "      <td>{'method': 'als', 'reg_u': 15, 'reg_i': 20, 'n...</td>\n",
       "    </tr>\n",
       "    <tr>\n",
       "      <th>30</th>\n",
       "      <td>0.997448</td>\n",
       "      <td>0.999846</td>\n",
       "      <td>1.000920</td>\n",
       "      <td>0.999916</td>\n",
       "      <td>0.998512</td>\n",
       "      <td>0.999328</td>\n",
       "      <td>0.001212</td>\n",
       "      <td>5</td>\n",
       "      <td>0.628057</td>\n",
       "      <td>0.119434</td>\n",
       "      <td>2.030118</td>\n",
       "      <td>0.470969</td>\n",
       "      <td>{'bsl_options': {'method': 'als', 'reg_u': 20,...</td>\n",
       "      <td>{'method': 'als', 'reg_u': 20, 'reg_i': 1, 'n_...</td>\n",
       "    </tr>\n",
       "    <tr>\n",
       "      <th>31</th>\n",
       "      <td>0.997451</td>\n",
       "      <td>0.999847</td>\n",
       "      <td>1.000929</td>\n",
       "      <td>0.999925</td>\n",
       "      <td>0.998514</td>\n",
       "      <td>0.999333</td>\n",
       "      <td>0.001214</td>\n",
       "      <td>7</td>\n",
       "      <td>0.787403</td>\n",
       "      <td>0.115494</td>\n",
       "      <td>2.104617</td>\n",
       "      <td>0.057447</td>\n",
       "      <td>{'bsl_options': {'method': 'als', 'reg_u': 20,...</td>\n",
       "      <td>{'method': 'als', 'reg_u': 20, 'reg_i': 2, 'n_...</td>\n",
       "    </tr>\n",
       "    <tr>\n",
       "      <th>32</th>\n",
       "      <td>0.997471</td>\n",
       "      <td>0.999861</td>\n",
       "      <td>1.000962</td>\n",
       "      <td>0.999961</td>\n",
       "      <td>0.998530</td>\n",
       "      <td>0.999357</td>\n",
       "      <td>0.001220</td>\n",
       "      <td>10</td>\n",
       "      <td>0.712568</td>\n",
       "      <td>0.018637</td>\n",
       "      <td>2.164001</td>\n",
       "      <td>0.077908</td>\n",
       "      <td>{'bsl_options': {'method': 'als', 'reg_u': 20,...</td>\n",
       "      <td>{'method': 'als', 'reg_u': 20, 'reg_i': 5, 'n_...</td>\n",
       "    </tr>\n",
       "    <tr>\n",
       "      <th>33</th>\n",
       "      <td>0.997526</td>\n",
       "      <td>0.999908</td>\n",
       "      <td>1.001035</td>\n",
       "      <td>1.000041</td>\n",
       "      <td>0.998577</td>\n",
       "      <td>0.999418</td>\n",
       "      <td>0.001227</td>\n",
       "      <td>12</td>\n",
       "      <td>0.803664</td>\n",
       "      <td>0.089549</td>\n",
       "      <td>2.179515</td>\n",
       "      <td>0.176329</td>\n",
       "      <td>{'bsl_options': {'method': 'als', 'reg_u': 20,...</td>\n",
       "      <td>{'method': 'als', 'reg_u': 20, 'reg_i': 10, 'n...</td>\n",
       "    </tr>\n",
       "    <tr>\n",
       "      <th>34</th>\n",
       "      <td>0.997602</td>\n",
       "      <td>0.999975</td>\n",
       "      <td>1.001126</td>\n",
       "      <td>1.000138</td>\n",
       "      <td>0.998646</td>\n",
       "      <td>0.999497</td>\n",
       "      <td>0.001234</td>\n",
       "      <td>15</td>\n",
       "      <td>0.733128</td>\n",
       "      <td>0.023774</td>\n",
       "      <td>2.166993</td>\n",
       "      <td>0.043726</td>\n",
       "      <td>{'bsl_options': {'method': 'als', 'reg_u': 20,...</td>\n",
       "      <td>{'method': 'als', 'reg_u': 20, 'reg_i': 15, 'n...</td>\n",
       "    </tr>\n",
       "    <tr>\n",
       "      <th>35</th>\n",
       "      <td>0.997692</td>\n",
       "      <td>1.000058</td>\n",
       "      <td>1.001229</td>\n",
       "      <td>1.000247</td>\n",
       "      <td>0.998730</td>\n",
       "      <td>0.999591</td>\n",
       "      <td>0.001239</td>\n",
       "      <td>21</td>\n",
       "      <td>0.727973</td>\n",
       "      <td>0.076082</td>\n",
       "      <td>2.061522</td>\n",
       "      <td>0.108253</td>\n",
       "      <td>{'bsl_options': {'method': 'als', 'reg_u': 20,...</td>\n",
       "      <td>{'method': 'als', 'reg_u': 20, 'reg_i': 20, 'n...</td>\n",
       "    </tr>\n",
       "  </tbody>\n",
       "</table>\n",
       "</div>"
      ],
      "text/plain": [
       "    split0_test_rmse  split1_test_rmse  split2_test_rmse  split3_test_rmse  \\\n",
       "0           0.998224          1.000600          1.001413          1.000364   \n",
       "1           0.998224          1.000597          1.001417          1.000367   \n",
       "2           0.998232          1.000598          1.001435          1.000387   \n",
       "3           0.998266          1.000620          1.001481          1.000438   \n",
       "4           0.998318          1.000660          1.001542          1.000504   \n",
       "5           0.998381          1.000714          1.001613          1.000580   \n",
       "6           0.998082          1.000462          1.001295          1.000249   \n",
       "7           0.998082          1.000460          1.001300          1.000253   \n",
       "8           0.998091          1.000461          1.001319          1.000274   \n",
       "9           0.998126          1.000484          1.001367          1.000327   \n",
       "10          0.998179          1.000527          1.001430          1.000395   \n",
       "11          0.998245          1.000582          1.001504          1.000474   \n",
       "12          0.997769          1.000156          1.001046          1.000008   \n",
       "13          0.997770          1.000155          1.001052          1.000013   \n",
       "14          0.997781          1.000159          1.001074          1.000038   \n",
       "15          0.997820          1.000188          1.001128          1.000097   \n",
       "16          0.997878          1.000236          1.001198          1.000172   \n",
       "17          0.997949          1.000298          1.001279          1.000259   \n",
       "18          0.997492          0.999886          1.000851          0.999824   \n",
       "19          0.997494          0.999886          1.000858          0.999831   \n",
       "20          0.997509          0.999894          1.000885          0.999861   \n",
       "21          0.997555          0.999931          1.000948          0.999929   \n",
       "22          0.997621          0.999988          1.001027          1.000015   \n",
       "23          0.997700          1.000059          1.001118          1.000111   \n",
       "24          0.997408          0.999805          1.000829          0.999813   \n",
       "25          0.997411          0.999805          1.000837          0.999821   \n",
       "26          0.997428          0.999817          1.000868          0.999855   \n",
       "27          0.997480          0.999860          1.000937          0.999930   \n",
       "28          0.997551          0.999923          1.001023          1.000022   \n",
       "29          0.997637          1.000001          1.001121          1.000126   \n",
       "30          0.997448          0.999846          1.000920          0.999916   \n",
       "31          0.997451          0.999847          1.000929          0.999925   \n",
       "32          0.997471          0.999861          1.000962          0.999961   \n",
       "33          0.997526          0.999908          1.001035          1.000041   \n",
       "34          0.997602          0.999975          1.001126          1.000138   \n",
       "35          0.997692          1.000058          1.001229          1.000247   \n",
       "\n",
       "    split4_test_rmse  mean_test_rmse  std_test_rmse  rank_test_rmse  \\\n",
       "0           0.999318        0.999983       0.001105              30   \n",
       "1           0.999314        0.999984       0.001107              31   \n",
       "2           0.999314        0.999993       0.001110              32   \n",
       "3           0.999334        1.000028       0.001115              34   \n",
       "4           0.999373        1.000079       0.001119              35   \n",
       "5           0.999426        1.000143       0.001122              36   \n",
       "6           0.999180        0.999854       0.001113              25   \n",
       "7           0.999177        0.999854       0.001115              26   \n",
       "8           0.999177        0.999865       0.001119              27   \n",
       "9           0.999199        0.999901       0.001124              28   \n",
       "10          0.999240        0.999954       0.001128              29   \n",
       "11          0.999296        1.000020       0.001131              33   \n",
       "12          0.998869        0.999570       0.001136              18   \n",
       "13          0.998867        0.999571       0.001137              19   \n",
       "14          0.998871        0.999585       0.001142              20   \n",
       "15          0.998898        0.999626       0.001148              22   \n",
       "16          0.998945        0.999686       0.001153              23   \n",
       "17          0.999007        0.999758       0.001157              24   \n",
       "18          0.998584        0.999327       0.001166               4   \n",
       "19          0.998583        0.999330       0.001168               6   \n",
       "20          0.998592        0.999348       0.001173               8   \n",
       "21          0.998629        0.999398       0.001179              11   \n",
       "22          0.998685        0.999467       0.001185              14   \n",
       "23          0.998757        0.999549       0.001190              17   \n",
       "24          0.998486        0.999268       0.001191               1   \n",
       "25          0.998487        0.999272       0.001193               2   \n",
       "26          0.998500        0.999293       0.001198               3   \n",
       "27          0.998543        0.999350       0.001205               9   \n",
       "28          0.998606        0.999425       0.001211              13   \n",
       "29          0.998685        0.999514       0.001217              16   \n",
       "30          0.998512        0.999328       0.001212               5   \n",
       "31          0.998514        0.999333       0.001214               7   \n",
       "32          0.998530        0.999357       0.001220              10   \n",
       "33          0.998577        0.999418       0.001227              12   \n",
       "34          0.998646        0.999497       0.001234              15   \n",
       "35          0.998730        0.999591       0.001239              21   \n",
       "\n",
       "    mean_fit_time  std_fit_time  mean_test_time  std_test_time  \\\n",
       "0        0.986609      0.066055        3.471516       0.058226   \n",
       "1        1.033023      0.010019        3.389617       0.069689   \n",
       "2        0.950849      0.123102        3.453298       0.086903   \n",
       "3        0.794171      0.232949        2.513530       0.788055   \n",
       "4        0.554456      0.004899        1.782659       0.057791   \n",
       "5        0.570167      0.022610        1.898418       0.117060   \n",
       "6        0.585266      0.022362        1.937198       0.211826   \n",
       "7        0.580255      0.036663        1.762989       0.047871   \n",
       "8        0.577056      0.035606        1.997072       0.269277   \n",
       "9        0.561497      0.014636        1.744278       0.054005   \n",
       "10       0.554202      0.003513        1.729050       0.039591   \n",
       "11       0.556673      0.006881        1.788300       0.029301   \n",
       "12       0.572745      0.021105        1.761420       0.077625   \n",
       "13       0.558282      0.007419        1.777570       0.040117   \n",
       "14       0.609903      0.071404        1.812823       0.109722   \n",
       "15       0.607041      0.080002        1.947262       0.195518   \n",
       "16       0.596310      0.081142        1.856299       0.088576   \n",
       "17       0.651337      0.129503        1.921794       0.099672   \n",
       "18       0.572248      0.019862        1.812492       0.086876   \n",
       "19       0.571299      0.018092        1.862268       0.106596   \n",
       "20       0.607513      0.081583        1.799160       0.059104   \n",
       "21       0.558752      0.012180        1.762218       0.044932   \n",
       "22       0.575426      0.023120        1.769010       0.065983   \n",
       "23       0.584228      0.038438        1.852147       0.123133   \n",
       "24       0.618961      0.083329        1.963781       0.306430   \n",
       "25       0.595330      0.046513        1.786068       0.063814   \n",
       "26       0.580532      0.019302        1.894440       0.066036   \n",
       "27       0.585623      0.025868        1.781589       0.057955   \n",
       "28       0.597594      0.031699        1.869718       0.060658   \n",
       "29       0.551298      0.006464        1.803637       0.065617   \n",
       "30       0.628057      0.119434        2.030118       0.470969   \n",
       "31       0.787403      0.115494        2.104617       0.057447   \n",
       "32       0.712568      0.018637        2.164001       0.077908   \n",
       "33       0.803664      0.089549        2.179515       0.176329   \n",
       "34       0.733128      0.023774        2.166993       0.043726   \n",
       "35       0.727973      0.076082        2.061522       0.108253   \n",
       "\n",
       "                                               params  \\\n",
       "0   {'bsl_options': {'method': 'als', 'reg_u': 1, ...   \n",
       "1   {'bsl_options': {'method': 'als', 'reg_u': 1, ...   \n",
       "2   {'bsl_options': {'method': 'als', 'reg_u': 1, ...   \n",
       "3   {'bsl_options': {'method': 'als', 'reg_u': 1, ...   \n",
       "4   {'bsl_options': {'method': 'als', 'reg_u': 1, ...   \n",
       "5   {'bsl_options': {'method': 'als', 'reg_u': 1, ...   \n",
       "6   {'bsl_options': {'method': 'als', 'reg_u': 2, ...   \n",
       "7   {'bsl_options': {'method': 'als', 'reg_u': 2, ...   \n",
       "8   {'bsl_options': {'method': 'als', 'reg_u': 2, ...   \n",
       "9   {'bsl_options': {'method': 'als', 'reg_u': 2, ...   \n",
       "10  {'bsl_options': {'method': 'als', 'reg_u': 2, ...   \n",
       "11  {'bsl_options': {'method': 'als', 'reg_u': 2, ...   \n",
       "12  {'bsl_options': {'method': 'als', 'reg_u': 5, ...   \n",
       "13  {'bsl_options': {'method': 'als', 'reg_u': 5, ...   \n",
       "14  {'bsl_options': {'method': 'als', 'reg_u': 5, ...   \n",
       "15  {'bsl_options': {'method': 'als', 'reg_u': 5, ...   \n",
       "16  {'bsl_options': {'method': 'als', 'reg_u': 5, ...   \n",
       "17  {'bsl_options': {'method': 'als', 'reg_u': 5, ...   \n",
       "18  {'bsl_options': {'method': 'als', 'reg_u': 10,...   \n",
       "19  {'bsl_options': {'method': 'als', 'reg_u': 10,...   \n",
       "20  {'bsl_options': {'method': 'als', 'reg_u': 10,...   \n",
       "21  {'bsl_options': {'method': 'als', 'reg_u': 10,...   \n",
       "22  {'bsl_options': {'method': 'als', 'reg_u': 10,...   \n",
       "23  {'bsl_options': {'method': 'als', 'reg_u': 10,...   \n",
       "24  {'bsl_options': {'method': 'als', 'reg_u': 15,...   \n",
       "25  {'bsl_options': {'method': 'als', 'reg_u': 15,...   \n",
       "26  {'bsl_options': {'method': 'als', 'reg_u': 15,...   \n",
       "27  {'bsl_options': {'method': 'als', 'reg_u': 15,...   \n",
       "28  {'bsl_options': {'method': 'als', 'reg_u': 15,...   \n",
       "29  {'bsl_options': {'method': 'als', 'reg_u': 15,...   \n",
       "30  {'bsl_options': {'method': 'als', 'reg_u': 20,...   \n",
       "31  {'bsl_options': {'method': 'als', 'reg_u': 20,...   \n",
       "32  {'bsl_options': {'method': 'als', 'reg_u': 20,...   \n",
       "33  {'bsl_options': {'method': 'als', 'reg_u': 20,...   \n",
       "34  {'bsl_options': {'method': 'als', 'reg_u': 20,...   \n",
       "35  {'bsl_options': {'method': 'als', 'reg_u': 20,...   \n",
       "\n",
       "                                    param_bsl_options  \n",
       "0   {'method': 'als', 'reg_u': 1, 'reg_i': 1, 'n_e...  \n",
       "1   {'method': 'als', 'reg_u': 1, 'reg_i': 2, 'n_e...  \n",
       "2   {'method': 'als', 'reg_u': 1, 'reg_i': 5, 'n_e...  \n",
       "3   {'method': 'als', 'reg_u': 1, 'reg_i': 10, 'n_...  \n",
       "4   {'method': 'als', 'reg_u': 1, 'reg_i': 15, 'n_...  \n",
       "5   {'method': 'als', 'reg_u': 1, 'reg_i': 20, 'n_...  \n",
       "6   {'method': 'als', 'reg_u': 2, 'reg_i': 1, 'n_e...  \n",
       "7   {'method': 'als', 'reg_u': 2, 'reg_i': 2, 'n_e...  \n",
       "8   {'method': 'als', 'reg_u': 2, 'reg_i': 5, 'n_e...  \n",
       "9   {'method': 'als', 'reg_u': 2, 'reg_i': 10, 'n_...  \n",
       "10  {'method': 'als', 'reg_u': 2, 'reg_i': 15, 'n_...  \n",
       "11  {'method': 'als', 'reg_u': 2, 'reg_i': 20, 'n_...  \n",
       "12  {'method': 'als', 'reg_u': 5, 'reg_i': 1, 'n_e...  \n",
       "13  {'method': 'als', 'reg_u': 5, 'reg_i': 2, 'n_e...  \n",
       "14  {'method': 'als', 'reg_u': 5, 'reg_i': 5, 'n_e...  \n",
       "15  {'method': 'als', 'reg_u': 5, 'reg_i': 10, 'n_...  \n",
       "16  {'method': 'als', 'reg_u': 5, 'reg_i': 15, 'n_...  \n",
       "17  {'method': 'als', 'reg_u': 5, 'reg_i': 20, 'n_...  \n",
       "18  {'method': 'als', 'reg_u': 10, 'reg_i': 1, 'n_...  \n",
       "19  {'method': 'als', 'reg_u': 10, 'reg_i': 2, 'n_...  \n",
       "20  {'method': 'als', 'reg_u': 10, 'reg_i': 5, 'n_...  \n",
       "21  {'method': 'als', 'reg_u': 10, 'reg_i': 10, 'n...  \n",
       "22  {'method': 'als', 'reg_u': 10, 'reg_i': 15, 'n...  \n",
       "23  {'method': 'als', 'reg_u': 10, 'reg_i': 20, 'n...  \n",
       "24  {'method': 'als', 'reg_u': 15, 'reg_i': 1, 'n_...  \n",
       "25  {'method': 'als', 'reg_u': 15, 'reg_i': 2, 'n_...  \n",
       "26  {'method': 'als', 'reg_u': 15, 'reg_i': 5, 'n_...  \n",
       "27  {'method': 'als', 'reg_u': 15, 'reg_i': 10, 'n...  \n",
       "28  {'method': 'als', 'reg_u': 15, 'reg_i': 15, 'n...  \n",
       "29  {'method': 'als', 'reg_u': 15, 'reg_i': 20, 'n...  \n",
       "30  {'method': 'als', 'reg_u': 20, 'reg_i': 1, 'n_...  \n",
       "31  {'method': 'als', 'reg_u': 20, 'reg_i': 2, 'n_...  \n",
       "32  {'method': 'als', 'reg_u': 20, 'reg_i': 5, 'n_...  \n",
       "33  {'method': 'als', 'reg_u': 20, 'reg_i': 10, 'n...  \n",
       "34  {'method': 'als', 'reg_u': 20, 'reg_i': 15, 'n...  \n",
       "35  {'method': 'als', 'reg_u': 20, 'reg_i': 20, 'n...  "
      ]
     },
     "execution_count": 95,
     "metadata": {},
     "output_type": "execute_result"
    }
   ],
   "source": [
    "results_cv"
   ]
  },
  {
   "cell_type": "code",
   "execution_count": null,
   "metadata": {},
   "outputs": [],
   "source": []
  }
 ],
 "metadata": {
  "anaconda-cloud": {},
  "kernelspec": {
   "display_name": "Python 3",
   "language": "python",
   "name": "python3"
  },
  "language_info": {
   "codemirror_mode": {
    "name": "ipython",
    "version": 3
   },
   "file_extension": ".py",
   "mimetype": "text/x-python",
   "name": "python",
   "nbconvert_exporter": "python",
   "pygments_lexer": "ipython3",
   "version": "3.6.5"
  }
 },
 "nbformat": 4,
 "nbformat_minor": 1
}
